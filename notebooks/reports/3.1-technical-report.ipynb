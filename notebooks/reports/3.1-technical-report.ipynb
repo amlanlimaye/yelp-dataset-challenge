{
 "cells": [
  {
   "cell_type": "markdown",
   "metadata": {},
   "source": [
    "## Discovering Abstract Topics in Yelp Reviews - Technical Report"
   ]
  },
  {
   "cell_type": "markdown",
   "metadata": {},
   "source": [
    "### 1. Background"
   ]
  },
  {
   "cell_type": "markdown",
   "metadata": {},
   "source": [
    "Yelp is an American multinational corporation headquartered in San Francisco, California. It develops, hosts and markets Yelp.com and the Yelp mobile app, which publish crowd-sourced reviews about local businesses, as well as the online reservation service Yelp Reservations and online food-delivery service Eat24. The company also trains small businesses in how to respond to reviews, hosts social events for reviewers, and provides data about businesses, including health inspection scores.\n",
    "\n",
    "Yelp.com is a crowd-sourced local business review and social networking site. Its user community is primarily active in major metropolitan areas.The site has pages devoted to individual locations, such as restaurants or schools, where Yelp users can submit a review on their products or services using a one to five star rating system.Businesses can also update contact information, hours and other basic listing information or add special deals. In addition to writing reviews, users can react to reviews, plan events or discuss their personal lives. According to Sterling Market Intelligence, Yelp is \"one of the most important sites on the Internet.\" As of Q2 2016 it has 168 million monthly unique visitors and 108 million reviews.\n",
    "\n",
    "78 percent of businesses listed on the site have a rating of three stars or better, but some negative reviews are very personal or extreme. Many reviews are written in an entertaining or creative manner. Users can give a review a \"thumbs-up\" if it is \"useful, funny or cool.\" Each day a \"Review of the Day\" is determined based on a vote by users.\n"
   ]
  },
  {
   "cell_type": "markdown",
   "metadata": {},
   "source": [
    "### 2. Problem Statement"
   ]
  },
  {
   "cell_type": "markdown",
   "metadata": {},
   "source": [
    "The objective of this project is to unearth the \"topics\" being talked about in Yelp Reviews, understand their distribution and develop an understanding of Yelp Reviews that will serve as a foundation to tackle more sophisticated questions in the future, such as:\n",
    "\n",
    "-   Cultural Trends: What makes a particular city different? What cuisines do Yelpers rave about in different countries? Do Americans tend to eat out late compared to those in Germany or the U.K.? In which countries are Yelpers sticklers for service quality? In international cities such as Montreal, are French speakers reviewing places differently than English speakers?\n",
    "\n",
    "-   Inferring Categories: Are there any non-intuitive correlations between business categories e.g., how many karaoke bars also offer Korean food, and vice versa? What businesses deserve their own subcategory (i.e., Szechuan or Hunan versus just \"Chinese restaurants\")\n",
    "\n",
    "-   Detecting Sarcasm in Reviews: Are Yelpers a sarcastic bunch?\n",
    "\n",
    "-   Detecting Changepoints and Events: Detecting when things change suddenly (e.g., a business coming under new management or when a city starts going nuts over cronuts)"
   ]
  },
  {
   "cell_type": "markdown",
   "metadata": {},
   "source": [
    "### 3. Data Collection and Cleaning"
   ]
  },
  {
   "cell_type": "code",
   "execution_count": null,
   "metadata": {
    "collapsed": true
   },
   "outputs": [],
   "source": [
    "### Link to requirements.txt on github"
   ]
  },
  {
   "cell_type": "markdown",
   "metadata": {},
   "source": [
    "### 3.1 Data Dictionary"
   ]
  },
  {
   "cell_type": "markdown",
   "metadata": {},
   "source": [
    "The data for the project was obtained from https://www.yelp.com/dataset_challenge/dataset. \n",
    "\n",
    "- 400K reviews and 100K tips by 120K users for 106K businesses\n",
    "- Cities(US): Pittsburgh, Charlotte, Urbana-Champaign, Phoenix, Las Vegas, Madison, Cleveland\n",
    "<br><br>\n",
    "1. Businesses table:\n",
    "<br><br>\n",
    "    - \"business_id\":\"encrypted business id\"\n",
    "    - \"name\":\"business name\"\n",
    "    - \"neighborhood\":\"hood name\"\n",
    "    - \"address\":\"full address\"\n",
    "    - \"city\":\"city\"\n",
    "    - \"state\":\"state -- if applicable --\"\n",
    "    - \"postal code\":\"postal code\"\n",
    "    - \"latitude\":latitude\n",
    "    - \"longitude\":longitude\n",
    "    - \"stars\":star rating, rounded to half-stars\n",
    "    - \"review_count\":number of reviews\n",
    "    - \"is_open\":0/1 (closed/open)\n",
    "    - \"attributes\":[\"an array of strings: each array element is an attribute\"]\n",
    "    - \"categories\":[\"an array of strings of business categories\"]\n",
    "    - \"hours\":[\"an array of strings of business hours\"]\n",
    "    - \"type\": \"business\"\n",
    "<br><br>\n",
    "2. Reviews table:\n",
    "<br><br>\n",
    "    - \"review_id\":\"encrypted review id\"\n",
    "    - \"user_id\":\"encrypted user id\"\n",
    "    - \"business_id\":\"encrypted business id\"\n",
    "    - \"stars\":star rating, rounded to half-stars\n",
    "    - \"date\":\"date formatted like 2009-12-19\"\n",
    "    - \"text\":\"review text\"\n",
    "    - \"useful\":number of useful votes received\n",
    "    - \"funny\":number of funny votes received\n",
    "    - \"cool\": number of cool review votes received\n",
    "    - \"type\": \"review\"\n",
    "<br><br>\n",
    "3. Users table:\n",
    "<br><br>\n",
    "    - \"user_id\":\"encrypted user id\"\n",
    "    - \"name\":\"first name\"\n",
    "    - \"review_count\":number of reviews\n",
    "    - \"yelping_since\": date formatted like \"2009-12-19\"\n",
    "    - \"friends\":[\"an array of encrypted ids of friends\"]\n",
    "    - \"useful\":\"number of useful votes sent by the user\"\n",
    "    - \"funny\":\"number of funny votes sent by the user\"\n",
    "    - \"cool\":\"number of cool votes sent by the user\"\n",
    "    - \"fans\":\"number of fans the user has\"\n",
    "    - \"elite\":[\"an array of years the user was elite\"]\n",
    "    - \"average_stars\":floating point average like 4.31\n",
    "    - \"compliment_hot\":number of hot compliments received by the user\n",
    "    - \"compliment_more\":number of more compliments received by the user\n",
    "    - \"compliment_profile\": number of profile compliments received by the user\n",
    "    - \"compliment_cute\": number of cute compliments received by the user\n",
    "    - \"compliment_list\": number of list compliments received by the user\n",
    "    - \"compliment_note\": number of note compliments received by the user\n",
    "    - \"compliment_plain\": number of plain compliments received by the user\n",
    "    - \"compliment_cool\": number of cool compliments received by the user\n",
    "    - \"compliment_funny\": number of funny compliments received by the user\n",
    "    - \"compliment_writer\": number of writer compliments received by the user\n",
    "    - \"compliment_photos\": number of photo compliments received by the user\n",
    "    - \"type\":\"user\"\n",
    "<br><br>\n",
    "4. Checkins table:\n",
    "<br><br>\n",
    "    - \"time\":[\"an array of check ins with the format day-hour:number of check ins from hour to hour+1\"]\n",
    "    - \"business_id\":\"encrypted business id\"\n",
    "    - \"type\":\"checkin\"\n",
    "<br><br>\n",
    "5. Tips table:\n",
    "<br><br>\n",
    "    - \"text\":\"text of the tip\"\n",
    "    - \"date\":\"date formatted like 2009-12-19\"\n",
    "    - \"likes\":compliment count\n",
    "    - \"business_id\":\"encrypted business id\"\n",
    "    - \"user_id\":\"encrypted user id\"\n",
    "    - \"type\":\"tip\""
   ]
  },
  {
   "cell_type": "markdown",
   "metadata": {},
   "source": [
    "### 3.2 Data Cleaning"
   ]
  },
  {
   "cell_type": "markdown",
   "metadata": {},
   "source": [
    "#### 3.2.1 Converted raw json files obtained from https://www.yelp.com/dataset_challenge/dataset into csv files.\n",
    "\n",
    "<pre>\n",
    "```python\n",
    "def convert_json_to_csv(json_file_dir, csv_file_dir):\n",
    "    \n",
    "    for filename in os.listdir(json_file_dir):\n",
    "        if filename.endswith('.json'):\n",
    "            try:\n",
    "                pd.read_json(os.path.join(json_file_dir, filename), lines=True).to_csv(os.path.join(csv_file_path, filename.replace('.json', '.csv')), encoding='utf-8', index=False)\n",
    "            except:\n",
    "                print filename + 'error\\n'\n",
    "                \n",
    "convert_json_to_csv('/home/amlanlimaye/yelp-dataset-challenge/data/raw/', \n",
    "                    '/home/amlanlimaye/yelp-dataset-challenge/data/interim/original_csv/')\n",
    "```\n",
    "<pre>"
   ]
  },
  {
   "cell_type": "markdown",
   "metadata": {
    "collapsed": true
   },
   "source": [
    "#### 3.2.2 Reading all data tables\n",
    "\n",
    "<pre>\n",
    "```python\n",
    "table_names = ['business', 'review', 'user', 'checkin', 'tip']\n",
    "original_csv_filepath = '/home/amlanlimaye/yelp-dataset-challenge/data/interim/original_csv/'\n",
    "    \n",
    "for tbl_name in table_names:\n",
    "    globals()[tbl_name] = pd.read_csv(original_csv_filepath + \"{}\".format(tbl_name) + '.csv')\n",
    "```\n",
    "<pre>"
   ]
  },
  {
   "cell_type": "markdown",
   "metadata": {},
   "source": [
    "#### 3.2.3 Cleaning 'business' table\n",
    "\n",
    "<pre>\n",
    "```python\n",
    "\n",
    "# Sample row in the attributes column:\n",
    "\n",
    "# u\"[BikeParking: True, BusinessAcceptsBitcoin: False, BusinessAcceptsCreditCards: True, BusinessParking: {'garage': False, 'street': False, 'validated': False, 'lot': True, 'valet': False}, DogsAllowed: False, RestaurantsPriceRange2: 2, WheelchairAccessible: True]\"\n",
    "\n",
    "# Function to clean the attributes column and use regex to make python understand that business['attributes'] is a json-type dict:\n",
    "\n",
    "def clean_business(test_str):\n",
    "    \n",
    "    test_str = test_str.fillna('[]')\n",
    "    test_str = test_str.map(lambda x: x.replace('[','{'))\n",
    "    test_str = test_str.map(lambda x: x.replace(']','}'))\n",
    "    test_str = test_str.map(lambda x: x.replace('True', 'true'))\n",
    "    test_str = test_str.map(lambda x: x.replace('False', 'false'))\n",
    "    test_str = test_str.map(lambda x: x.replace('\\'', '\"'))\n",
    "    \n",
    "    matches = re.findall(\"([A-Za-z0-9]+)(?=:)\", test_str)\n",
    "\n",
    "    if len(matches):\n",
    "        for match in matches:\n",
    "            test_str = test_str.replace(match, '\"%s\"' % match)\n",
    "            \n",
    "    return test_str\n",
    "    \n",
    "business['attributes'] = business['attributes'].map(regex_match)\n",
    "\n",
    "# Function to extract attributes from json object and convert them into columns\n",
    "\n",
    "def expand_features(row):\n",
    "    try:\n",
    "        extracted = json.loads(row['attributes'])\n",
    "        for key, value in extracted.items():\n",
    "            print key, type(value)\n",
    "            if type(value) != dict:\n",
    "                row[\"attribute_\" + key] = value\n",
    "            else:\n",
    "                for attr_key, attr_value in value.items():\n",
    "                    row[\"attribute_\" + key + \"_\" + attr_key] = attr_value\n",
    "    except:\n",
    "        print \"could not decode:\", row['attributes']\n",
    "    \n",
    "    return row\n",
    "    \n",
    "business.apply(expand_features, axis=1).columns\n",
    "\n",
    "# Cleaning 'categories' column\n",
    "\n",
    "business['categories'] = business['categories'].fillna(' ')\n",
    "business['categories'] = business['categories'].map(lambda x: x[1:-1].split(','))\n",
    "\n",
    "# Cleaning 'hours' column\n",
    "\n",
    "business['hours'] = business['hours'].fillna(' ')\n",
    "business['hours'] = business['hours'].map(lambda x: x[1:-1].split(','))\n",
    "\n",
    "# Cleaning 'neighborhoods' column\n",
    "\n",
    "business['neighborhood'] = business['neighborhood'].fillna(' ')\n",
    "business['neighborhood'] = business['neighborhood'].map(lambda x: x[1:-1].split(','))\n",
    "\n",
    "# Cleaning 'postal_code' column\n",
    "\n",
    "business['postal_code'] = business['postal_code'].map(lambda x: x[:-2])\n",
    "\n",
    "```\n",
    "<pre>"
   ]
  },
  {
   "cell_type": "code",
   "execution_count": 27,
   "metadata": {
    "collapsed": false
   },
   "outputs": [
    {
     "data": {
      "text/html": [
       "<div>\n",
       "<table border=\"1\" class=\"dataframe\">\n",
       "  <thead>\n",
       "    <tr style=\"text-align: right;\">\n",
       "      <th></th>\n",
       "      <th>address</th>\n",
       "      <th>attributes</th>\n",
       "      <th>business_id</th>\n",
       "      <th>categories</th>\n",
       "      <th>city</th>\n",
       "      <th>hours</th>\n",
       "      <th>is_open</th>\n",
       "      <th>latitude</th>\n",
       "      <th>longitude</th>\n",
       "      <th>name</th>\n",
       "      <th>neighborhood</th>\n",
       "      <th>postal_code</th>\n",
       "      <th>review_count</th>\n",
       "      <th>stars</th>\n",
       "      <th>state</th>\n",
       "      <th>type</th>\n",
       "    </tr>\n",
       "  </thead>\n",
       "  <tbody>\n",
       "    <tr>\n",
       "      <th>0</th>\n",
       "      <td>227 E Baseline Rd, Ste J2</td>\n",
       "      <td>{\"BikeParking\": true, \"BusinessAcceptsBitcoin\"...</td>\n",
       "      <td>0DI8Dt2PJp07XkVvIElIcQ</td>\n",
       "      <td>[Tobacco Shops,  Nightlife,  Vape Shops,  Shop...</td>\n",
       "      <td>Tempe</td>\n",
       "      <td>[Monday 11:0-21:0,  Tuesday 11:0-21:0,  Wednes...</td>\n",
       "      <td>0</td>\n",
       "      <td>33.378214</td>\n",
       "      <td>-111.936102</td>\n",
       "      <td>Innovative Vapors</td>\n",
       "      <td>[]</td>\n",
       "      <td>85283.0</td>\n",
       "      <td>17</td>\n",
       "      <td>4.5</td>\n",
       "      <td>AZ</td>\n",
       "      <td>business</td>\n",
       "    </tr>\n",
       "    <tr>\n",
       "      <th>1</th>\n",
       "      <td>495 S Grand Central Pkwy</td>\n",
       "      <td>{\"BusinessAcceptsBitcoin\": false, \"BusinessAcc...</td>\n",
       "      <td>LTlCaCGZE14GuaUXUGbamg</td>\n",
       "      <td>[Caterers,  Grocery,  Food,  Event Planning &amp; ...</td>\n",
       "      <td>Las Vegas</td>\n",
       "      <td>[Monday 0:0-0:0,  Tuesday 0:0-0:0,  Wednesday ...</td>\n",
       "      <td>1</td>\n",
       "      <td>36.192284</td>\n",
       "      <td>-115.159272</td>\n",
       "      <td>Cut and Taste</td>\n",
       "      <td>[]</td>\n",
       "      <td>89106.0</td>\n",
       "      <td>9</td>\n",
       "      <td>5.0</td>\n",
       "      <td>NV</td>\n",
       "      <td>business</td>\n",
       "    </tr>\n",
       "  </tbody>\n",
       "</table>\n",
       "</div>"
      ],
      "text/plain": [
       "                     address  \\\n",
       "0  227 E Baseline Rd, Ste J2   \n",
       "1   495 S Grand Central Pkwy   \n",
       "\n",
       "                                          attributes             business_id  \\\n",
       "0  {\"BikeParking\": true, \"BusinessAcceptsBitcoin\"...  0DI8Dt2PJp07XkVvIElIcQ   \n",
       "1  {\"BusinessAcceptsBitcoin\": false, \"BusinessAcc...  LTlCaCGZE14GuaUXUGbamg   \n",
       "\n",
       "                                          categories       city  \\\n",
       "0  [Tobacco Shops,  Nightlife,  Vape Shops,  Shop...      Tempe   \n",
       "1  [Caterers,  Grocery,  Food,  Event Planning & ...  Las Vegas   \n",
       "\n",
       "                                               hours  is_open   latitude  \\\n",
       "0  [Monday 11:0-21:0,  Tuesday 11:0-21:0,  Wednes...        0  33.378214   \n",
       "1  [Monday 0:0-0:0,  Tuesday 0:0-0:0,  Wednesday ...        1  36.192284   \n",
       "\n",
       "    longitude               name neighborhood  postal_code  review_count  \\\n",
       "0 -111.936102  Innovative Vapors           []      85283.0            17   \n",
       "1 -115.159272      Cut and Taste           []      89106.0             9   \n",
       "\n",
       "   stars state      type  \n",
       "0    4.5    AZ  business  \n",
       "1    5.0    NV  business  "
      ]
     },
     "execution_count": 27,
     "metadata": {},
     "output_type": "execute_result"
    }
   ],
   "source": [
    "business.head(2)"
   ]
  },
  {
   "cell_type": "markdown",
   "metadata": {},
   "source": [
    "#### 3.2.4 Cleaning 'review' table\n",
    "\n",
    "<pre>\n",
    "```python\n",
    "# Cleaning the 'date' column\n",
    "\n",
    "review['date'] = pd.to_datetime(review['date'])\n",
    "\n",
    "# Cleaning the 'useful' column\n",
    "\n",
    "review['useful'] = review['useful'].fillna(0)\n",
    "review['useful'] = review['useful'].map(int)\n",
    "\n",
    "```\n",
    "<pre>"
   ]
  },
  {
   "cell_type": "code",
   "execution_count": 40,
   "metadata": {
    "collapsed": false
   },
   "outputs": [
    {
     "data": {
      "text/html": [
       "<div>\n",
       "<table border=\"1\" class=\"dataframe\">\n",
       "  <thead>\n",
       "    <tr style=\"text-align: right;\">\n",
       "      <th></th>\n",
       "      <th>business_id</th>\n",
       "      <th>cool</th>\n",
       "      <th>date</th>\n",
       "      <th>funny</th>\n",
       "      <th>review_id</th>\n",
       "      <th>stars</th>\n",
       "      <th>text</th>\n",
       "      <th>type</th>\n",
       "      <th>useful</th>\n",
       "      <th>user_id</th>\n",
       "    </tr>\n",
       "  </thead>\n",
       "  <tbody>\n",
       "    <tr>\n",
       "      <th>0</th>\n",
       "      <td>2hkQ5S6L_D7yX3pWtPw2Ww</td>\n",
       "      <td>0</td>\n",
       "      <td>2016-05-23</td>\n",
       "      <td>0</td>\n",
       "      <td>ppVujROE-SfvlV4mqbokJQ</td>\n",
       "      <td>5.0</td>\n",
       "      <td>Honestly, if your looking for someone to do yo...</td>\n",
       "      <td>review</td>\n",
       "      <td>0</td>\n",
       "      <td>tOplTv2njld2dzMe7qdTvw</td>\n",
       "    </tr>\n",
       "    <tr>\n",
       "      <th>1</th>\n",
       "      <td>2hkQ5S6L_D7yX3pWtPw2Ww</td>\n",
       "      <td>0</td>\n",
       "      <td>2016-03-30</td>\n",
       "      <td>0</td>\n",
       "      <td>lOI1deu5emPtr5JnlaFx_g</td>\n",
       "      <td>5.0</td>\n",
       "      <td>Ive had a bad experience with lashes b4 and wa...</td>\n",
       "      <td>review</td>\n",
       "      <td>0</td>\n",
       "      <td>ww4tDDd-k2RgsR2Aun9LNQ</td>\n",
       "    </tr>\n",
       "  </tbody>\n",
       "</table>\n",
       "</div>"
      ],
      "text/plain": [
       "              business_id  cool        date  funny               review_id  \\\n",
       "0  2hkQ5S6L_D7yX3pWtPw2Ww     0  2016-05-23      0  ppVujROE-SfvlV4mqbokJQ   \n",
       "1  2hkQ5S6L_D7yX3pWtPw2Ww     0  2016-03-30      0  lOI1deu5emPtr5JnlaFx_g   \n",
       "\n",
       "   stars                                               text    type  useful  \\\n",
       "0    5.0  Honestly, if your looking for someone to do yo...  review       0   \n",
       "1    5.0  Ive had a bad experience with lashes b4 and wa...  review       0   \n",
       "\n",
       "                  user_id  \n",
       "0  tOplTv2njld2dzMe7qdTvw  \n",
       "1  ww4tDDd-k2RgsR2Aun9LNQ  "
      ]
     },
     "execution_count": 40,
     "metadata": {},
     "output_type": "execute_result"
    }
   ],
   "source": [
    "review.head(2)"
   ]
  },
  {
   "cell_type": "code",
   "execution_count": 30,
   "metadata": {
    "collapsed": false
   },
   "outputs": [
    {
     "data": {
      "text/plain": [
       "0    Honestly, if your looking for someone to do yo...\n",
       "1    Ive had a bad experience with lashes b4 and wa...\n",
       "Name: text, dtype: object"
      ]
     },
     "execution_count": 30,
     "metadata": {},
     "output_type": "execute_result"
    }
   ],
   "source": [
    "review.text.head(2)"
   ]
  },
  {
   "cell_type": "code",
   "execution_count": 18,
   "metadata": {
    "collapsed": false
   },
   "outputs": [
    {
     "name": "stderr",
     "output_type": "stream",
     "text": [
      "/home/amlanlimaye/anaconda2/lib/python2.7/site-packages/IPython/core/interactiveshell.py:2717: DtypeWarning: Columns (1,3) have mixed types. Specify dtype option on import or set low_memory=False.\n",
      "  interactivity=interactivity, compiler=compiler, result=result)\n"
     ]
    },
    {
     "data": {
      "text/plain": [
       "<matplotlib.axes._subplots.AxesSubplot at 0x7f7a810ac250>"
      ]
     },
     "execution_count": 18,
     "metadata": {},
     "output_type": "execute_result"
    },
    {
     "data": {
      "image/png": "[encoded data removed]",
      "text/plain": [
       "<matplotlib.figure.Figure at 0x7f7a810aca10>"
      ]
     },
     "metadata": {},
     "output_type": "display_data"
    }
   ],
   "source": [
    "review_all = pd.read_csv('../../data/interim/original_csv/review.csv')\n",
    "\n",
    "# Number of reviews by date\n",
    "# The sharp seasonal falls are Chrismas Day and New Year's Day\n",
    "# The sharp seasonal spikes are in summer, where people presumably have more free time\n",
    "\n",
    "review.groupby('date').agg({'review_id': len}).reset_index().plot(x='date', y='review_id', figsize=(10,6))"
   ]
  },
  {
   "cell_type": "markdown",
   "metadata": {},
   "source": [
    "#### 3.2.5 Cleaning 'checkin' table\n",
    "\n",
    "<pre>\n",
    "```python\n",
    "\n",
    "# Cleaning 'time' column\n",
    "\n",
    "checkin['time'] = checkin['time'].map(lambda x: x[1:-1].split(','))\n",
    "\n",
    "# Making columns aggregating checkins by day of week\n",
    "\n",
    "checkin['mon_list'] = checkins['time'].map(lambda x: [list_item for list_item in x[1:-1].split(',') if 'Mon' in list_item])\n",
    "checkin['tue_list'] = checkins['time'].map(lambda x: [list_item for list_item in x[1:-1].split(',') if 'Tue' in list_item])\n",
    "checkin['wed_list'] = checkins['time'].map(lambda x: [list_item for list_item in x[1:-1].split(',') if 'Wed' in list_item])\n",
    "checkin['thu_list'] = checkins['time'].map(lambda x: [list_item for list_item in x[1:-1].split(',') if 'Thu' in list_item])\n",
    "checkin['fri_list'] = checkins['time'].map(lambda x: [list_item for list_item in x[1:-1].split(',') if 'Fri' in list_item])\n",
    "checkin['sat_list'] = checkins['time'].map(lambda x: [list_item for list_item in x[1:-1].split(',') if 'Sat' in list_item])\n",
    "checkin['sun_list'] = checkins['time'].map(lambda x: [list_item for list_item in x[1:-1].split(',') if 'Sun' in list_item])\n",
    "\n",
    "# Converting day of week lists to dictionaries so that # of checkins can be looked up by hour\n",
    "\n",
    "checkin['mon_list'] = checkin['mon_list'].map(lambda x: \n",
    "                                              {int(list_item.replace(' ', '').replace('Mon-', '').split(':')[0]):int(list_item.replace(' ', '').replace('Mon-', '').split(':')[1]) \n",
    "                                               for list_item in x})\n",
    "\n",
    "checkin['tue_list'] = checkin['tue_list'].map(lambda x: \n",
    "                                              {int(list_item.replace(' ', '').replace('Tue-', '').split(':')[0]):int(list_item.replace(' ', '').replace('Tue-', '').split(':')[1]) \n",
    "                                               for list_item in x})\n",
    "\n",
    "checkin['wed_list'] = checkin['wed_list'].map(lambda x: \n",
    "                                              {int(list_item.replace(' ', '').replace('Wed-', '').split(':')[0]):int(list_item.replace(' ', '').replace('Wed-', '').split(':')[1]) \n",
    "                                               for list_item in x})\n",
    "\n",
    "checkin['thu_list'] = checkin['thu_list'].map(lambda x: \n",
    "                                              {int(list_item.replace(' ', '').replace('Thu-', '').split(':')[0]):int(list_item.replace(' ', '').replace('Thu-', '').split(':')[1]) \n",
    "                                               for list_item in x})\n",
    "\n",
    "checkin['fri_list'] = checkin['fri_list'].map(lambda x: \n",
    "                                              {int(list_item.replace(' ', '').replace('Fri-', '').split(':')[0]):int(list_item.replace(' ', '').replace('Fri-', '').split(':')[1]) \n",
    "                                               for list_item in x})\n",
    "\n",
    "checkin['sat_list'] = checkin['sat_list'].map(lambda x: \n",
    "                                              {int(list_item.replace(' ', '').replace('Sat-', '').split(':')[0]):int(list_item.replace(' ', '').replace('Sat-', '').split(':')[1]) \n",
    "                                               for list_item in x})\n",
    "\n",
    "checkin['sun_list'] = checkin['sun_list'].map(lambda x: \n",
    "                                              {int(list_item.replace(' ', '').replace('Sun-', '').split(':')[0]):int(list_item.replace(' ', '').replace('Sun-', '').split(':')[1]) \n",
    "                                               for list_item in x})\n",
    "\n",
    "```\n",
    "<pre>"
   ]
  },
  {
   "cell_type": "code",
   "execution_count": 34,
   "metadata": {
    "collapsed": false
   },
   "outputs": [
    {
     "data": {
      "text/html": [
       "<div>\n",
       "<table border=\"1\" class=\"dataframe\">\n",
       "  <thead>\n",
       "    <tr style=\"text-align: right;\">\n",
       "      <th></th>\n",
       "      <th>business_id</th>\n",
       "      <th>time</th>\n",
       "      <th>type</th>\n",
       "      <th>mon_list</th>\n",
       "      <th>tue_list</th>\n",
       "      <th>wed_list</th>\n",
       "      <th>thu_list</th>\n",
       "      <th>fri_list</th>\n",
       "      <th>sat_list</th>\n",
       "      <th>sun_list</th>\n",
       "    </tr>\n",
       "  </thead>\n",
       "  <tbody>\n",
       "    <tr>\n",
       "      <th>0</th>\n",
       "      <td>7KPBkxAOEtb3QeIL9PEErg</td>\n",
       "      <td>[Fri-0:2,  Sat-0:1,  Sun-0:1,  Wed-0:2,  Sat-1...</td>\n",
       "      <td>checkin</td>\n",
       "      <td>{11: 1, 12: 1, 18: 1, 19: 1, 20: 1, 23: 1}</td>\n",
       "      <td>{4: 1, 12: 1, 13: 2, 15: 1, 16: 1, 18: 2, 20: ...</td>\n",
       "      <td>{0: 2, 1: 1, 2: 1, 6: 1, 11: 2, 13: 2, 14: 1, ...</td>\n",
       "      <td>{1: 1, 2: 1, 4: 1, 13: 1, 15: 1, 19: 1, 20: 1,...</td>\n",
       "      <td>{0: 2, 3: 1, 10: 1, 14: 2, 15: 1, 16: 1, 18: 1...</td>\n",
       "      <td>{0: 1, 1: 2, 2: 1, 10: 1, 12: 1, 13: 2, 14: 1,...</td>\n",
       "      <td>{0: 1, 2: 2, 3: 3, 6: 1, 16: 1, 17: 1, 18: 1, ...</td>\n",
       "    </tr>\n",
       "    <tr>\n",
       "      <th>1</th>\n",
       "      <td>kREVIrSBbtqBhIYkTccQUg</td>\n",
       "      <td>[Mon-13:1,  Thu-13:1,  Sat-16:1,  Wed-17:1,  S...</td>\n",
       "      <td>checkin</td>\n",
       "      <td>{13: 1}</td>\n",
       "      <td>{}</td>\n",
       "      <td>{17: 1}</td>\n",
       "      <td>{20: 1, 13: 1}</td>\n",
       "      <td>{}</td>\n",
       "      <td>{16: 1, 21: 1}</td>\n",
       "      <td>{19: 1}</td>\n",
       "    </tr>\n",
       "  </tbody>\n",
       "</table>\n",
       "</div>"
      ],
      "text/plain": [
       "              business_id                                               time  \\\n",
       "0  7KPBkxAOEtb3QeIL9PEErg  [Fri-0:2,  Sat-0:1,  Sun-0:1,  Wed-0:2,  Sat-1...   \n",
       "1  kREVIrSBbtqBhIYkTccQUg  [Mon-13:1,  Thu-13:1,  Sat-16:1,  Wed-17:1,  S...   \n",
       "\n",
       "      type                                    mon_list  \\\n",
       "0  checkin  {11: 1, 12: 1, 18: 1, 19: 1, 20: 1, 23: 1}   \n",
       "1  checkin                                     {13: 1}   \n",
       "\n",
       "                                            tue_list  \\\n",
       "0  {4: 1, 12: 1, 13: 2, 15: 1, 16: 1, 18: 2, 20: ...   \n",
       "1                                                 {}   \n",
       "\n",
       "                                            wed_list  \\\n",
       "0  {0: 2, 1: 1, 2: 1, 6: 1, 11: 2, 13: 2, 14: 1, ...   \n",
       "1                                            {17: 1}   \n",
       "\n",
       "                                            thu_list  \\\n",
       "0  {1: 1, 2: 1, 4: 1, 13: 1, 15: 1, 19: 1, 20: 1,...   \n",
       "1                                     {20: 1, 13: 1}   \n",
       "\n",
       "                                            fri_list  \\\n",
       "0  {0: 2, 3: 1, 10: 1, 14: 2, 15: 1, 16: 1, 18: 1...   \n",
       "1                                                 {}   \n",
       "\n",
       "                                            sat_list  \\\n",
       "0  {0: 1, 1: 2, 2: 1, 10: 1, 12: 1, 13: 2, 14: 1,...   \n",
       "1                                     {16: 1, 21: 1}   \n",
       "\n",
       "                                            sun_list  \n",
       "0  {0: 1, 2: 2, 3: 3, 6: 1, 16: 1, 17: 1, 18: 1, ...  \n",
       "1                                            {19: 1}  "
      ]
     },
     "execution_count": 34,
     "metadata": {},
     "output_type": "execute_result"
    }
   ],
   "source": [
    "checkin.head(2)"
   ]
  },
  {
   "cell_type": "markdown",
   "metadata": {},
   "source": [
    "#### 3.2.6 Cleaning 'user' table\n",
    "\n",
    "<pre>\n",
    "```\n",
    "# Cleaning 'elite' column\n",
    "\n",
    "user['elite'] = user['elite'].map(lambda x: x[1:-1].split(','))\n",
    "\n",
    "# Cleaning 'friends' column\n",
    "\n",
    "user['friends'] = user['friends'].map(lambda x: x[1:-1].split(','))\n",
    "\n",
    "# Cleaning 'yelping since' column\n",
    "\n",
    "user['yelping_since'] = pd.to_datetime(user['yelping_since'])\n",
    "\n",
    "```\n",
    "<pre>"
   ]
  },
  {
   "cell_type": "code",
   "execution_count": 36,
   "metadata": {
    "collapsed": false
   },
   "outputs": [
    {
     "data": {
      "text/html": [
       "<div>\n",
       "<table border=\"1\" class=\"dataframe\">\n",
       "  <thead>\n",
       "    <tr style=\"text-align: right;\">\n",
       "      <th></th>\n",
       "      <th>average_stars</th>\n",
       "      <th>compliment_cool</th>\n",
       "      <th>compliment_cute</th>\n",
       "      <th>compliment_funny</th>\n",
       "      <th>compliment_hot</th>\n",
       "      <th>compliment_list</th>\n",
       "      <th>compliment_more</th>\n",
       "      <th>compliment_note</th>\n",
       "      <th>compliment_photos</th>\n",
       "      <th>compliment_plain</th>\n",
       "      <th>...</th>\n",
       "      <th>elite</th>\n",
       "      <th>fans</th>\n",
       "      <th>friends</th>\n",
       "      <th>funny</th>\n",
       "      <th>name</th>\n",
       "      <th>review_count</th>\n",
       "      <th>type</th>\n",
       "      <th>useful</th>\n",
       "      <th>user_id</th>\n",
       "      <th>yelping_since</th>\n",
       "    </tr>\n",
       "  </thead>\n",
       "  <tbody>\n",
       "    <tr>\n",
       "      <th>0</th>\n",
       "      <td>3.59</td>\n",
       "      <td>4192</td>\n",
       "      <td>79</td>\n",
       "      <td>4192</td>\n",
       "      <td>3904</td>\n",
       "      <td>19</td>\n",
       "      <td>305</td>\n",
       "      <td>4705</td>\n",
       "      <td>1347</td>\n",
       "      <td>2617</td>\n",
       "      <td>...</td>\n",
       "      <td>[2017,  2015,  2016,  2014,  2011,  2013,  2012]</td>\n",
       "      <td>298</td>\n",
       "      <td>[iJg9ekPzF9lkMuvjKYX6uA,  ctWAuzS04Xu0lke2Rop4...</td>\n",
       "      <td>12316</td>\n",
       "      <td>Rob</td>\n",
       "      <td>761</td>\n",
       "      <td>user</td>\n",
       "      <td>18456</td>\n",
       "      <td>EZmocAborM6z66rTzeZxzQ</td>\n",
       "      <td>2009-09-12</td>\n",
       "    </tr>\n",
       "    <tr>\n",
       "      <th>1</th>\n",
       "      <td>4.29</td>\n",
       "      <td>144</td>\n",
       "      <td>11</td>\n",
       "      <td>144</td>\n",
       "      <td>64</td>\n",
       "      <td>1</td>\n",
       "      <td>4</td>\n",
       "      <td>97</td>\n",
       "      <td>24</td>\n",
       "      <td>129</td>\n",
       "      <td>...</td>\n",
       "      <td>[None]</td>\n",
       "      <td>34</td>\n",
       "      <td>[r2UUCzGxqI6WPsiWPgqG2A,  qewG3X2O4X6JKskxyyqF...</td>\n",
       "      <td>28</td>\n",
       "      <td>Vivian</td>\n",
       "      <td>80</td>\n",
       "      <td>user</td>\n",
       "      <td>117</td>\n",
       "      <td>myql3o3x22_ygECb8gVo7A</td>\n",
       "      <td>2009-06-27</td>\n",
       "    </tr>\n",
       "  </tbody>\n",
       "</table>\n",
       "<p>2 rows × 23 columns</p>\n",
       "</div>"
      ],
      "text/plain": [
       "   average_stars  compliment_cool  compliment_cute  compliment_funny  \\\n",
       "0           3.59             4192               79              4192   \n",
       "1           4.29              144               11               144   \n",
       "\n",
       "   compliment_hot  compliment_list  compliment_more  compliment_note  \\\n",
       "0            3904               19              305             4705   \n",
       "1              64                1                4               97   \n",
       "\n",
       "   compliment_photos  compliment_plain      ...       \\\n",
       "0               1347              2617      ...        \n",
       "1                 24               129      ...        \n",
       "\n",
       "                                              elite  fans  \\\n",
       "0  [2017,  2015,  2016,  2014,  2011,  2013,  2012]   298   \n",
       "1                                            [None]    34   \n",
       "\n",
       "                                             friends  funny    name  \\\n",
       "0  [iJg9ekPzF9lkMuvjKYX6uA,  ctWAuzS04Xu0lke2Rop4...  12316     Rob   \n",
       "1  [r2UUCzGxqI6WPsiWPgqG2A,  qewG3X2O4X6JKskxyyqF...     28  Vivian   \n",
       "\n",
       "  review_count  type useful                 user_id yelping_since  \n",
       "0          761  user  18456  EZmocAborM6z66rTzeZxzQ    2009-09-12  \n",
       "1           80  user    117  myql3o3x22_ygECb8gVo7A    2009-06-27  \n",
       "\n",
       "[2 rows x 23 columns]"
      ]
     },
     "execution_count": 36,
     "metadata": {},
     "output_type": "execute_result"
    }
   ],
   "source": [
    "user.head(2)"
   ]
  },
  {
   "cell_type": "markdown",
   "metadata": {},
   "source": [
    "#### 3.2.7 Cleaning 'tip' table\n",
    "\n",
    "<pre>\n",
    "```python\n",
    "# Cleaning 'date' column\n",
    "\n",
    "tip['date'] = pd.to_datetime(tip['date'])\n",
    "```\n",
    "<pre>"
   ]
  },
  {
   "cell_type": "code",
   "execution_count": 37,
   "metadata": {
    "collapsed": false
   },
   "outputs": [
    {
     "data": {
      "text/html": [
       "<div>\n",
       "<table border=\"1\" class=\"dataframe\">\n",
       "  <thead>\n",
       "    <tr style=\"text-align: right;\">\n",
       "      <th></th>\n",
       "      <th>business_id</th>\n",
       "      <th>date</th>\n",
       "      <th>likes</th>\n",
       "      <th>text</th>\n",
       "      <th>type</th>\n",
       "      <th>user_id</th>\n",
       "    </tr>\n",
       "  </thead>\n",
       "  <tbody>\n",
       "    <tr>\n",
       "      <th>0</th>\n",
       "      <td>dAa0hB2yrnHzVmsCkN4YvQ</td>\n",
       "      <td>2014-06-20</td>\n",
       "      <td>0</td>\n",
       "      <td>Nice place. Great staff.  A fixture in the tow...</td>\n",
       "      <td>tip</td>\n",
       "      <td>oaYhjqBbh18ZhU0bpyzSuw</td>\n",
       "    </tr>\n",
       "    <tr>\n",
       "      <th>1</th>\n",
       "      <td>dAa0hB2yrnHzVmsCkN4YvQ</td>\n",
       "      <td>2016-10-12</td>\n",
       "      <td>0</td>\n",
       "      <td>Happy hour 5-7 Monday - Friday</td>\n",
       "      <td>tip</td>\n",
       "      <td>ulQ8Nyj7jCUR8M83SUMoRQ</td>\n",
       "    </tr>\n",
       "  </tbody>\n",
       "</table>\n",
       "</div>"
      ],
      "text/plain": [
       "              business_id        date  likes  \\\n",
       "0  dAa0hB2yrnHzVmsCkN4YvQ  2014-06-20      0   \n",
       "1  dAa0hB2yrnHzVmsCkN4YvQ  2016-10-12      0   \n",
       "\n",
       "                                                text type  \\\n",
       "0  Nice place. Great staff.  A fixture in the tow...  tip   \n",
       "1                     Happy hour 5-7 Monday - Friday  tip   \n",
       "\n",
       "                  user_id  \n",
       "0  oaYhjqBbh18ZhU0bpyzSuw  \n",
       "1  ulQ8Nyj7jCUR8M83SUMoRQ  "
      ]
     },
     "execution_count": 37,
     "metadata": {},
     "output_type": "execute_result"
    }
   ],
   "source": [
    "tip.head(2)"
   ]
  },
  {
   "cell_type": "code",
   "execution_count": 38,
   "metadata": {
    "collapsed": false
   },
   "outputs": [
    {
     "data": {
      "text/plain": [
       "0    Nice place. Great staff.  A fixture in the tow...\n",
       "1                       Happy hour 5-7 Monday - Friday\n",
       "Name: text, dtype: object"
      ]
     },
     "execution_count": 38,
     "metadata": {},
     "output_type": "execute_result"
    }
   ],
   "source": [
    "tip.text.head(2)"
   ]
  },
  {
   "cell_type": "markdown",
   "metadata": {},
   "source": [
    "### 4. Model - Latent Dirichlet Allocation (LDA)"
   ]
  },
  {
   "cell_type": "markdown",
   "metadata": {},
   "source": [
    "A topic model is a type of statistical model for discovering the abstract \"topics\" that occur in a collection of documents. A document typically concerns multiple topics in different proportions; thus, in a document that is 10% about cats and 90% about dogs, there would probably be about 9 times more dog words than cat words. The \"topics\" produced by topic modeling techniques are clusters of similar words. A topic model captures this intuition in a mathematical framework, which allows examining a set of documents and discovering, based on the statistics of the words in each, what the topics might be and what each document's balance of topics is.\n",
    "\n",
    "LDA (Latent Dirichlet Allocation) is an example of a topic model that posits that each document is a mixture of a small number of topics and that each word's creation is attributable to one of the document's topics. \n",
    "\n",
    "LDA represents documents as mixtures of topics that spit out words with certain probabilities. It assumes that documents are produced in the following fashion: when writing each document, you:\n",
    "\n",
    "Decide on the number of words N the document will have (say, according to a Poisson distribution).\n",
    "Choose a topic mixture for the document (according to a Dirichlet distribution over a fixed set of K topics). For example, assuming that we have the two topics; food and cute animals, you might choose the document to consist of 1/3 food and 2/3 cute animals.\n",
    "Generate each word in the document by:\n",
    "....First picking a topic (according to the multinomial distribution that you sampled above; for example, you might pick the food topic with 1/3 probability and the cute animals topic with 2/3 probability).\n",
    "....Then using the topic to generate the word itself (according to the topic's multinomial distribution). For instance, the food topic might output the word \"broccoli\" with 30% probability, \"bananas\" with 15% probability, and so on.\n",
    "\n",
    "Assuming this generative model for a collection of documents, LDA then tries to backtrack from the documents to find a set of topics that are likely to have generated the collection."
   ]
  },
  {
   "cell_type": "code",
   "execution_count": 3,
   "metadata": {
    "collapsed": false
   },
   "outputs": [
    {
     "name": "stderr",
     "output_type": "stream",
     "text": [
      "/home/amlanlimaye/anaconda2/lib/python2.7/site-packages/matplotlib/font_manager.py:280: UserWarning: Matplotlib is building the font cache using fc-list. This may take a moment.\n",
      "  'Matplotlib is building the font cache using fc-list. '\n"
     ]
    }
   ],
   "source": [
    "import pandas as pd\n",
    "import numpy as np\n",
    "import seaborn as sns # For prettier plots. Seaborn takes over pandas' default plotter\n",
    "import nltk\n",
    "import pyLDAvis\n",
    "import pyLDAvis.sklearn\n",
    "\n",
    "from gensim import models, matutils\n",
    "from collections import defaultdict\n",
    "from gensim import corpora\n",
    "from nltk.corpus import stopwords\n",
    "from sklearn.feature_extraction.text import TfidfVectorizer, CountVectorizer\n",
    "from sklearn.decomposition import LatentDirichletAllocation\n",
    "\n",
    "pyLDAvis.enable_notebook()\n",
    "%matplotlib inline"
   ]
  },
  {
   "cell_type": "code",
   "execution_count": 4,
   "metadata": {
    "collapsed": false
   },
   "outputs": [
    {
     "name": "stdout",
     "output_type": "stream",
     "text": [
      "(393275, 100) (393275, 100)\n"
     ]
    }
   ],
   "source": [
    "review = pd.read_csv('../../data/interim/clean_US_cities/2016_review.csv')\n",
    "review = review.fillna('')\n",
    "\n",
    "tvec = TfidfVectorizer(stop_words='english', min_df=10, max_df=0.5, max_features=100,\n",
    "                       norm='l2', \n",
    "                       strip_accents='unicode'\n",
    "                       )\n",
    "review_dtm_tfidf = tvec.fit_transform(review['text'])\n",
    "\n",
    "cvec = CountVectorizer(stop_words='english', min_df=10, max_df=0.5, max_features=100,\n",
    "                       strip_accents='unicode')\n",
    "review_dtm_cvec = cvec.fit_transform(review['text'])\n",
    "\n",
    "print review_dtm_tfidf.shape, review_dtm_cvec.shape"
   ]
  },
  {
   "cell_type": "code",
   "execution_count": 12,
   "metadata": {
    "collapsed": false
   },
   "outputs": [
    {
     "data": {
      "text/plain": [
       "LatentDirichletAllocation(batch_size=128, doc_topic_prior=None,\n",
       "             evaluate_every=-1, learning_decay=0.7,\n",
       "             learning_method='online', learning_offset=10.0,\n",
       "             max_doc_update_iter=100, max_iter=10, mean_change_tol=0.001,\n",
       "             n_jobs=1, n_topics=10, perp_tol=0.1, random_state=42,\n",
       "             topic_word_prior=None, total_samples=1000000.0, verbose=0)"
      ]
     },
     "execution_count": 12,
     "metadata": {},
     "output_type": "execute_result"
    }
   ],
   "source": [
    "# Fitting LDA models\n",
    "\n",
    "# On cvec DTM\n",
    "lda_cvec = LatentDirichletAllocation(n_topics=10, random_state=42)\n",
    "lda_cvec.fit(review_dtm_cvec)\n",
    "\n",
    "# On tfidf DTM\n",
    "lda_tfidf = LatentDirichletAllocation(n_topics=10, random_state=42)\n",
    "lda_tfidf.fit(review_dtm_tfidf)"
   ]
  },
  {
   "cell_type": "code",
   "execution_count": 15,
   "metadata": {
    "collapsed": false
   },
   "outputs": [
    {
     "data": {
      "text/html": [
       "\n",
       "<link rel=\"stylesheet\" type=\"text/css\" href=\"https://cdn.rawgit.com/bmabey/pyLDAvis/files/ldavis.v1.0.0.css\">\n",
       "\n",
       "\n",
       "<div id=\"ldavis_el28401406895882636327079222399\"></div>\n",
       "<script type=\"text/javascript\">\n",
       "\n",
       "var ldavis_el28401406895882636327079222399_data = {\"plot.opts\": {\"xlab\": \"PC1\", \"ylab\": \"PC2\"}, \"topic.order\": [10, 5, 9, 1, 7, 2, 4, 3, 8, 6], \"token.table\": {\"Topic\": [1, 2, 4, 6, 9, 6, 1, 2, 4, 5, 9, 2, 3, 9, 6, 9, 1, 3, 6, 7, 2, 1, 2, 3, 7, 10, 2, 6, 7, 8, 2, 4, 5, 6, 1, 3, 4, 5, 6, 7, 9, 10, 1, 2, 3, 6, 8, 1, 1, 2, 6, 7, 4, 5, 9, 8, 1, 2, 4, 5, 6, 7, 1, 6, 1, 2, 4, 6, 8, 10, 1, 6, 3, 7, 3, 10, 1, 2, 5, 6, 7, 9, 1, 4, 5, 6, 3, 4, 4, 5, 1, 2, 6, 7, 8, 1, 3, 4, 6, 7, 8, 1, 2, 3, 4, 3, 5, 2, 4, 5, 7, 1, 2, 4, 5, 10, 6, 1, 2, 3, 4, 6, 7, 8, 9, 10, 1, 2, 5, 1, 2, 3, 4, 6, 8, 1, 2, 3, 4, 6, 1, 4, 6, 7, 7, 1, 4, 6, 1, 2, 5, 6, 8, 1, 4, 5, 6, 7, 5, 8, 1, 2, 7, 3, 8, 10, 2, 6, 10, 1, 2, 6, 2, 4, 5, 7, 1, 3, 4, 5, 6, 3, 7, 10, 3, 10, 1, 6, 10, 2, 3, 4, 5, 6, 7, 8, 9, 3, 4, 1, 3, 5, 7, 2, 3, 1, 3, 4, 6, 2, 4, 5, 8, 9, 10, 1, 2, 3, 4, 5, 6, 7, 6, 1, 2, 8, 1, 2, 3, 4, 6, 8, 9, 3, 1, 2, 3, 5, 9, 10, 1, 3, 6, 10, 5, 6, 7, 7, 5, 6, 4, 7, 3, 1, 3, 4, 6, 1, 2, 3, 4, 5, 6, 7, 8, 9, 10, 1, 2, 5, 6, 7, 10, 2, 2, 3, 7, 8, 2, 3, 4, 7, 8, 1, 6, 7, 8, 9, 5, 6, 4, 6, 1, 6, 1, 2, 1, 2, 3, 7, 8, 1, 2, 4, 5, 6, 10, 1, 2, 3, 4, 6, 9, 2, 5, 4, 5, 7], \"Freq\": [3.7082366761551964e-05, 0.6225016908261728, 0.1669818975272685, 0.2104424313718074, 0.9999833398099687, 0.9999709586097526, 0.00037966515176555786, 0.9995999345753652, 0.18243923029612513, 0.4271647223567865, 0.3903645610777393, 0.5535466813628597, 0.42035663819562186, 0.026064587703960432, 0.9999724644456709, 0.9999915237664877, 0.371501343380157, 0.24173658890073144, 0.0484609947694065, 0.3382878926050003, 0.9999617961100675, 0.0715347161920128, 0.5083412604007542, 0.3211185996935497, 0.004849287755676171, 0.09414413426306349, 0.9999644439943914, 0.7790700141869839, 0.22092265981730888, 0.999971382445041, 0.0001017320709230227, 0.29285272149707464, 0.4510800024726826, 0.2559578904423251, 0.32516742335093257, 0.15840074080803124, 0.13731856763615846, 0.12470272749997431, 0.07112723662986593, 0.11141761202500053, 0.07122762793068436, 0.0006358115718501306, 0.27114575778631417, 0.14537427268242523, 0.17556256555337116, 0.051437714606079266, 0.35645708932810416, 0.9999651766559987, 0.12741029125270048, 0.559246420192654, 0.15415577240205458, 0.15917765119050595, 0.3836227210860665, 0.293960633660401, 0.32241504040050945, 0.9999726981449062, 0.19832115074734472, 0.5992209628329368, 4.730567323225206e-05, 0.11019068151565913, 0.020846033337679072, 0.07135272379198018, 0.8471463774403502, 0.15283430165096593, 0.2962617235163764, 0.17039079452134837, 0.20813140475860964, 0.08614614647804221, 0.2236740876164522, 0.0153773351678655, 0.9667981622874521, 0.033184189087422045, 0.7184476198374917, 0.2815479639703972, 0.9999783494402958, 0.9999607256545789, 0.18670422813309645, 0.22111939925701155, 0.2461801111157014, 0.04759995424465439, 0.09160055893663979, 0.20677974462204693, 0.7859139603827547, 0.0022329326957340754, 0.21165851500089838, 0.0001958712890994803, 0.9999969615140433, 0.9999657096554077, 0.23923757343306903, 0.7607570095732651, 0.3585037582074586, 0.2828966387260965, 0.005203823347019675, 0.3390419256002191, 0.014328015852332199, 0.09560931871155531, 0.3374667137367159, 0.5345010928972964, 7.99203410011715e-05, 6.147718538551654e-06, 0.0323369995127817, 0.035911707399572175, 0.5802918433425538, 0.003777493031369355, 0.3800209036760697, 0.2725553896795945, 0.727442277614103, 0.13334518600220918, 0.16945876303093502, 0.2824074579516383, 0.4147524657572062, 0.27479527435811, 0.43841600040290213, 0.08097949235508907, 0.20528585023950255, 0.00048636331744798236, 0.9999807452615446, 0.47553368620783687, 0.16262857304541634, 0.05387272192873735, 0.1242879254965403, 0.05785169005025503, 0.06468956243231197, 0.06081241829815597, 3.916307206218185e-05, 0.0002819741188477093, 0.8493407648697004, 0.15063001454087319, 0.9999554371890909, 0.6372700493789422, 0.0001484324649174555, 0.006860878378406831, 0.18561479737927808, 0.08301497912911246, 0.08708862566629152, 0.2036685355428476, 2.2702991365828513e-05, 0.08068643131415454, 0.6147516002039045, 0.10086939063837609, 0.38388241983085153, 0.18352560410096838, 0.00010325896704855685, 0.4324485539993561, 0.9999625742809125, 0.3718252536817083, 0.03288181432831865, 0.5952590445552887, 0.26152572023193577, 0.19368455190720726, 0.3730074061924545, 0.07641057906048365, 0.09537436763312705, 0.36599779061104254, 0.33634715042283264, 0.06511368875078352, 0.13206674724028974, 0.1004663751290338, 0.2895584079637055, 0.7104285799497008, 0.34704775708633956, 8.568551498952893e-05, 0.6528593600839683, 0.3436279162817881, 0.3278723456522392, 0.32849285613936186, 0.7492337710328972, 0.18780215369242376, 0.06294814411042976, 0.6810608428910632, 0.19591232607383932, 0.12300070299061115, 0.3446181126731031, 2.3440219879819284e-05, 0.2507869124941865, 0.40457819512568083, 3.055181121496013e-05, 4.5827716822440185e-05, 0.6445973889188362, 0.15471437199255808, 0.2006031924374282, 0.21183458402753738, 0.7881371462062488, 0.9999903625417323, 0.3591965864080536, 0.6408026839847994, 0.5704915322016099, 0.4294946349794036, 0.9999652930100854, 0.0679224010739541, 0.18112445157538687, 0.2507444736362794, 0.21147089018327947, 0.04390984490698351, 0.001404927713328362, 0.2386679491671277, 0.004759192628899826, 0.09042925024029876, 0.9095567470832366, 0.18301828287042804, 0.24642685436445774, 0.19535785450128743, 0.37520711102106297, 0.08837318458751973, 0.9116033887066458, 0.2884913801600455, 0.00022170999567369917, 0.708608484067424, 0.0026721888952251113, 0.11959157202509789, 0.1391744301412917, 0.38508067307415933, 0.0006283269983805494, 0.35552835991699416, 0.9999878591182767, 0.25865040811320644, 0.2666305022026602, 0.04697715765867105, 0.14878609388795974, 0.07327633566416637, 0.07819488422244604, 0.1274556537117469, 0.999984264366522, 0.03496585656784602, 0.9650100686785803, 0.9999801939706175, 0.518590370383787, 0.1689450094567268, 0.08510867617851152, 0.0014936199264347161, 0.0619299076905061, 0.049980948279028374, 0.11395766846131539, 0.9999602620443725, 0.21246316333752577, 0.10441649498588639, 0.3761860101627998, 0.19504914734091544, 0.07000082905469723, 0.04188557574339972, 0.25404566470247963, 0.23846367129293314, 0.33653160956162326, 0.17096799857461906, 0.8386230583473935, 0.16127366506680643, 8.448070459235539e-05, 0.9999495883594827, 0.2131090235284429, 0.7868523545415902, 0.9999728934146904, 0.9999692249316652, 0.9999562334237297, 0.7115535692913747, 0.0007757658221126043, 0.21150197277415458, 0.07616609889832843, 0.20225371432835504, 0.25489965644347873, 0.007931660238863575, 0.06961752196869207, 0.13317221323425282, 0.08385829277198503, 0.16310245990729783, 0.02261428608742656, 0.05732525947978661, 0.005222581764585057, 0.2524714732021986, 0.09976400114145136, 0.05909968846805124, 0.09014699102474708, 0.44774003847839494, 0.05078047556432781, 0.9999789239905733, 0.8487978209768962, 0.15117473264192158, 0.30795842401426127, 0.6919946963142307, 0.058851476750143863, 0.08151858347694542, 0.2912930716242849, 0.11013407653745862, 0.45818384434254045, 0.31055653500922414, 7.188808680769078e-05, 0.24650424966357168, 0.05059483549525277, 0.39227891209220705, 0.7626181715336053, 0.23737185661730634, 0.20800368010411782, 0.7919704745188758, 0.8786896793255934, 0.1213105512273864, 0.23882448433245154, 0.7611359219505462, 0.35033845868643476, 0.332610878954568, 0.10322183079706705, 0.13021830962091535, 0.08361454425633688, 0.4823637416889107, 0.21025364261991705, 0.10753208022137196, 0.07354261338230748, 0.09635612972389543, 0.02990781535302957, 0.12468267391179287, 0.6108419323180879, 0.07466440233639084, 0.1467304529026309, 0.0001146331663301804, 0.04296833184609595, 0.7156242565149935, 0.2843696209853187, 0.5351590443426287, 0.12679539019780112, 0.3380253910110545], \"Term\": [\"10\", \"10\", \"10\", \"10\", \"amazing\", \"area\", \"asked\", \"asked\", \"awesome\", \"awesome\", \"awesome\", \"bad\", \"bad\", \"bad\", \"bar\", \"best\", \"better\", \"better\", \"better\", \"better\", \"called\", \"came\", \"came\", \"came\", \"came\", \"came\", \"car\", \"check\", \"check\", \"chicken\", \"clean\", \"clean\", \"clean\", \"clean\", \"come\", \"come\", \"come\", \"come\", \"come\", \"come\", \"come\", \"come\", \"coming\", \"coming\", \"coming\", \"coming\", \"coming\", \"customer\", \"day\", \"day\", \"day\", \"day\", \"definitely\", \"definitely\", \"definitely\", \"delicious\", \"did\", \"did\", \"did\", \"did\", \"did\", \"did\", \"didn\", \"didn\", \"different\", \"different\", \"different\", \"different\", \"different\", \"different\", \"don\", \"don\", \"drinks\", \"drinks\", \"eat\", \"excellent\", \"experience\", \"experience\", \"experience\", \"experience\", \"experience\", \"experience\", \"feel\", \"feel\", \"feel\", \"feel\", \"food\", \"fresh\", \"friendly\", \"friendly\", \"going\", \"going\", \"going\", \"going\", \"going\", \"good\", \"good\", \"good\", \"good\", \"good\", \"good\", \"got\", \"got\", \"got\", \"got\", \"great\", \"great\", \"happy\", \"happy\", \"happy\", \"happy\", \"home\", \"home\", \"home\", \"home\", \"home\", \"hotel\", \"just\", \"just\", \"just\", \"just\", \"just\", \"just\", \"just\", \"just\", \"just\", \"know\", \"know\", \"las\", \"like\", \"like\", \"like\", \"like\", \"like\", \"like\", \"little\", \"little\", \"little\", \"little\", \"little\", \"ll\", \"ll\", \"ll\", \"ll\", \"location\", \"long\", \"long\", \"long\", \"looking\", \"looking\", \"looking\", \"looking\", \"looking\", \"lot\", \"lot\", \"lot\", \"lot\", \"lot\", \"love\", \"love\", \"make\", \"make\", \"make\", \"menu\", \"menu\", \"menu\", \"minutes\", \"minutes\", \"minutes\", \"need\", \"need\", \"need\", \"new\", \"new\", \"new\", \"new\", \"nice\", \"nice\", \"nice\", \"nice\", \"nice\", \"night\", \"night\", \"order\", \"ordered\", \"ordered\", \"people\", \"people\", \"pizza\", \"place\", \"place\", \"place\", \"place\", \"place\", \"place\", \"place\", \"place\", \"pretty\", \"pretty\", \"price\", \"price\", \"price\", \"price\", \"quality\", \"quality\", \"really\", \"really\", \"really\", \"really\", \"recommend\", \"recommend\", \"recommend\", \"recommend\", \"recommend\", \"restaurant\", \"right\", \"right\", \"right\", \"right\", \"right\", \"right\", \"right\", \"room\", \"said\", \"said\", \"sauce\", \"say\", \"say\", \"say\", \"say\", \"say\", \"say\", \"say\", \"server\", \"service\", \"service\", \"service\", \"service\", \"service\", \"service\", \"small\", \"small\", \"small\", \"small\", \"staff\", \"staff\", \"staff\", \"stars\", \"strip\", \"strip\", \"super\", \"sure\", \"table\", \"think\", \"think\", \"think\", \"think\", \"time\", \"time\", \"time\", \"time\", \"time\", \"time\", \"time\", \"time\", \"time\", \"time\", \"times\", \"times\", \"times\", \"times\", \"times\", \"times\", \"told\", \"took\", \"took\", \"tried\", \"tried\", \"try\", \"try\", \"try\", \"try\", \"try\", \"ve\", \"ve\", \"ve\", \"ve\", \"ve\", \"vegas\", \"vegas\", \"wait\", \"wait\", \"want\", \"want\", \"wanted\", \"wanted\", \"wasn\", \"wasn\", \"wasn\", \"wasn\", \"wasn\", \"way\", \"way\", \"way\", \"way\", \"way\", \"way\", \"went\", \"went\", \"went\", \"went\", \"went\", \"went\", \"work\", \"work\", \"worth\", \"worth\", \"worth\"]}, \"mdsDat\": {\"y\": [0.05237825566224762, -0.024026729758905522, 0.07407144476836063, 0.10276053665334596, -0.10631054268334121, 0.10286383003094801, -0.06990361050310094, 0.21009781050517182, -0.3774970874336106, 0.035566092758885], \"cluster\": [1, 1, 1, 1, 1, 1, 1, 1, 1, 1], \"Freq\": [16.90910808048616, 14.128543853160421, 12.923313186269853, 11.982069660754789, 11.68174789699324, 8.546441719546298, 7.54976676685206, 6.2377018942422575, 5.194280905435324, 4.847026036259602], \"topics\": [1, 2, 3, 4, 5, 6, 7, 8, 9, 10], \"x\": [0.13801657366547426, 0.042465624383703056, -0.16379306354526751, 0.13145048380544827, 0.051306708566758924, 0.16477435585928998, 0.10796562779265059, -0.017842849391199546, -0.02027773199156581, -0.4340657291452921]}, \"R\": 30, \"lambda.step\": 0.01, \"tinfo\": {\"Category\": [\"Default\", \"Default\", \"Default\", \"Default\", \"Default\", \"Default\", \"Default\", \"Default\", \"Default\", \"Default\", \"Default\", \"Default\", \"Default\", \"Default\", \"Default\", \"Default\", \"Default\", \"Default\", \"Default\", \"Default\", \"Default\", \"Default\", \"Default\", \"Default\", \"Default\", \"Default\", \"Default\", \"Default\", \"Default\", \"Default\", \"Topic1\", \"Topic1\", \"Topic1\", \"Topic1\", \"Topic1\", \"Topic1\", \"Topic1\", \"Topic1\", \"Topic1\", \"Topic1\", \"Topic1\", \"Topic1\", \"Topic1\", \"Topic1\", \"Topic1\", \"Topic1\", \"Topic1\", \"Topic1\", \"Topic1\", \"Topic1\", \"Topic1\", \"Topic1\", \"Topic1\", \"Topic1\", \"Topic1\", \"Topic1\", \"Topic1\", \"Topic1\", \"Topic1\", \"Topic1\", \"Topic1\", \"Topic1\", \"Topic1\", \"Topic1\", \"Topic1\", \"Topic1\", \"Topic2\", \"Topic2\", \"Topic2\", \"Topic2\", \"Topic2\", \"Topic2\", \"Topic2\", \"Topic2\", \"Topic2\", \"Topic2\", \"Topic2\", \"Topic2\", \"Topic2\", \"Topic2\", \"Topic2\", \"Topic2\", \"Topic2\", \"Topic2\", \"Topic2\", \"Topic2\", \"Topic2\", \"Topic2\", \"Topic2\", \"Topic2\", \"Topic2\", \"Topic2\", \"Topic2\", \"Topic2\", \"Topic2\", \"Topic2\", \"Topic2\", \"Topic2\", \"Topic2\", \"Topic3\", \"Topic3\", \"Topic3\", \"Topic3\", \"Topic3\", \"Topic3\", \"Topic3\", \"Topic3\", \"Topic3\", \"Topic3\", \"Topic3\", \"Topic3\", \"Topic3\", \"Topic3\", \"Topic3\", \"Topic3\", \"Topic3\", \"Topic3\", \"Topic3\", \"Topic3\", \"Topic3\", \"Topic3\", \"Topic3\", \"Topic3\", \"Topic3\", \"Topic3\", \"Topic3\", \"Topic3\", \"Topic3\", \"Topic3\", \"Topic4\", \"Topic4\", \"Topic4\", \"Topic4\", \"Topic4\", \"Topic4\", \"Topic4\", \"Topic4\", \"Topic4\", \"Topic4\", \"Topic4\", \"Topic4\", \"Topic4\", \"Topic4\", \"Topic4\", \"Topic4\", \"Topic4\", \"Topic4\", \"Topic4\", \"Topic4\", \"Topic4\", \"Topic4\", \"Topic4\", \"Topic4\", \"Topic4\", \"Topic4\", \"Topic4\", \"Topic4\", \"Topic4\", \"Topic4\", \"Topic4\", \"Topic5\", \"Topic5\", \"Topic5\", \"Topic5\", \"Topic5\", \"Topic5\", \"Topic5\", \"Topic5\", \"Topic5\", \"Topic5\", \"Topic5\", \"Topic5\", \"Topic5\", \"Topic5\", \"Topic5\", \"Topic5\", \"Topic5\", \"Topic5\", \"Topic5\", \"Topic5\", \"Topic5\", \"Topic5\", \"Topic5\", \"Topic5\", \"Topic5\", \"Topic5\", \"Topic5\", \"Topic5\", \"Topic5\", \"Topic5\", \"Topic6\", \"Topic6\", \"Topic6\", \"Topic6\", \"Topic6\", \"Topic6\", \"Topic6\", \"Topic6\", \"Topic6\", \"Topic6\", \"Topic6\", \"Topic6\", \"Topic6\", \"Topic6\", \"Topic6\", \"Topic6\", \"Topic6\", \"Topic6\", \"Topic6\", \"Topic6\", \"Topic6\", \"Topic6\", \"Topic6\", \"Topic6\", \"Topic6\", \"Topic6\", \"Topic6\", \"Topic6\", \"Topic6\", \"Topic6\", \"Topic6\", \"Topic6\", \"Topic6\", \"Topic7\", \"Topic7\", \"Topic7\", \"Topic7\", \"Topic7\", \"Topic7\", \"Topic7\", \"Topic7\", \"Topic7\", \"Topic7\", \"Topic7\", \"Topic7\", \"Topic7\", \"Topic7\", \"Topic7\", \"Topic7\", \"Topic7\", \"Topic7\", \"Topic7\", \"Topic7\", \"Topic7\", \"Topic7\", \"Topic7\", \"Topic7\", \"Topic7\", \"Topic7\", \"Topic7\", \"Topic7\", \"Topic7\", \"Topic7\", \"Topic8\", \"Topic8\", \"Topic8\", \"Topic8\", \"Topic8\", \"Topic8\", \"Topic8\", \"Topic8\", \"Topic8\", \"Topic8\", \"Topic8\", \"Topic8\", \"Topic8\", \"Topic8\", \"Topic8\", \"Topic8\", \"Topic8\", \"Topic8\", \"Topic8\", \"Topic8\", \"Topic8\", \"Topic8\", \"Topic8\", \"Topic8\", \"Topic8\", \"Topic8\", \"Topic8\", \"Topic8\", \"Topic8\", \"Topic8\", \"Topic8\", \"Topic8\", \"Topic8\", \"Topic8\", \"Topic8\", \"Topic8\", \"Topic8\", \"Topic8\", \"Topic9\", \"Topic9\", \"Topic9\", \"Topic9\", \"Topic9\", \"Topic9\", \"Topic9\", \"Topic9\", \"Topic9\", \"Topic9\", \"Topic9\", \"Topic9\", \"Topic9\", \"Topic9\", \"Topic9\", \"Topic9\", \"Topic9\", \"Topic9\", \"Topic9\", \"Topic9\", \"Topic9\", \"Topic9\", \"Topic9\", \"Topic9\", \"Topic9\", \"Topic9\", \"Topic9\", \"Topic9\", \"Topic9\", \"Topic9\", \"Topic9\", \"Topic9\", \"Topic9\", \"Topic9\", \"Topic9\", \"Topic9\", \"Topic9\", \"Topic9\", \"Topic9\", \"Topic9\", \"Topic9\", \"Topic10\", \"Topic10\", \"Topic10\", \"Topic10\", \"Topic10\", \"Topic10\", \"Topic10\", \"Topic10\", \"Topic10\", \"Topic10\", \"Topic10\", \"Topic10\", \"Topic10\", \"Topic10\", \"Topic10\", \"Topic10\", \"Topic10\", \"Topic10\", \"Topic10\", \"Topic10\", \"Topic10\", \"Topic10\", \"Topic10\", \"Topic10\", \"Topic10\", \"Topic10\", \"Topic10\", \"Topic10\", \"Topic10\", \"Topic10\", \"Topic10\", \"Topic10\", \"Topic10\", \"Topic10\", \"Topic10\", \"Topic10\", \"Topic10\", \"Topic10\", \"Topic10\", \"Topic10\", \"Topic10\"], \"Term\": [\"food\", \"great\", \"best\", \"amazing\", \"order\", \"good\", \"restaurant\", \"ordered\", \"vegas\", \"love\", \"place\", \"chicken\", \"really\", \"delicious\", \"room\", \"ve\", \"don\", \"sure\", \"like\", \"staff\", \"got\", \"make\", \"definitely\", \"pizza\", \"friendly\", \"service\", \"said\", \"location\", \"wait\", \"excellent\", \"customer\", \"don\", \"want\", \"know\", \"didn\", \"feel\", \"think\", \"need\", \"like\", \"people\", \"say\", \"way\", \"just\", \"ll\", \"long\", \"better\", \"lot\", \"going\", \"wasn\", \"make\", \"come\", \"ve\", \"different\", \"really\", \"home\", \"coming\", \"looking\", \"right\", \"small\", \"times\", \"service\", \"time\", \"did\", \"experience\", \"little\", \"good\", \"told\", \"car\", \"called\", \"asked\", \"said\", \"took\", \"wanted\", \"minutes\", \"work\", \"10\", \"went\", \"did\", \"got\", \"day\", \"bad\", \"came\", \"home\", \"new\", \"wasn\", \"going\", \"right\", \"time\", \"experience\", \"way\", \"need\", \"looking\", \"different\", \"say\", \"just\", \"know\", \"service\", \"place\", \"recommend\", \"food\", \"eat\", \"table\", \"server\", \"quality\", \"drinks\", \"bad\", \"service\", \"ordered\", \"menu\", \"good\", \"came\", \"great\", \"price\", \"better\", \"small\", \"night\", \"place\", \"coming\", \"come\", \"took\", \"wasn\", \"pretty\", \"say\", \"try\", \"little\", \"went\", \"just\", \"right\", \"time\", \"super\", \"fresh\", \"pretty\", \"really\", \"nice\", \"little\", \"worth\", \"good\", \"definitely\", \"got\", \"lot\", \"clean\", \"try\", \"place\", \"friendly\", \"think\", \"different\", \"wait\", \"like\", \"ll\", \"awesome\", \"happy\", \"10\", \"right\", \"went\", \"recommend\", \"come\", \"just\", \"way\", \"home\", \"time\", \"las\", \"staff\", \"vegas\", \"friendly\", \"great\", \"clean\", \"awesome\", \"recommend\", \"looking\", \"definitely\", \"love\", \"work\", \"happy\", \"new\", \"experience\", \"strip\", \"feel\", \"place\", \"home\", \"price\", \"service\", \"nice\", \"time\", \"worth\", \"come\", \"did\", \"way\", \"right\", \"lot\", \"times\", \"room\", \"hotel\", \"bar\", \"area\", \"wait\", \"strip\", \"check\", \"long\", \"people\", \"small\", \"clean\", \"vegas\", \"10\", \"nice\", \"minutes\", \"staff\", \"day\", \"didn\", \"lot\", \"need\", \"want\", \"little\", \"way\", \"times\", \"different\", \"time\", \"like\", \"right\", \"looking\", \"think\", \"come\", \"just\", \"place\", \"sure\", \"location\", \"stars\", \"night\", \"make\", \"times\", \"ll\", \"happy\", \"new\", \"price\", \"going\", \"better\", \"worth\", \"tried\", \"drinks\", \"ve\", \"check\", \"time\", \"day\", \"wasn\", \"right\", \"come\", \"try\", \"lot\", \"experience\", \"did\", \"just\", \"came\", \"place\", \"staff\", \"delicious\", \"chicken\", \"sauce\", \"love\", \"tried\", \"try\", \"coming\", \"menu\", \"place\", \"different\", \"looking\", \"like\", \"wasn\", \"just\", \"ve\", \"say\", \"good\", \"time\", \"going\", \"recommend\", \"quality\", \"area\", \"home\", \"stars\", \"small\", \"drinks\", \"feel\", \"server\", \"called\", \"strip\", \"friendly\", \"come\", \"right\", \"fresh\", \"eat\", \"definitely\", \"ordered\", \"little\", \"best\", \"amazing\", \"ve\", \"awesome\", \"recommend\", \"definitely\", \"experience\", \"say\", \"come\", \"service\", \"time\", \"went\", \"bad\", \"place\", \"just\", \"quality\", \"different\", \"area\", \"home\", \"stars\", \"looking\", \"small\", \"drinks\", \"tried\", \"coming\", \"feel\", \"server\", \"called\", \"strip\", \"las\", \"lot\", \"worth\", \"times\", \"vegas\", \"right\", \"going\", \"happy\", \"way\", \"try\", \"did\", \"better\", \"order\", \"restaurant\", \"pizza\", \"excellent\", \"ordered\", \"menu\", \"small\", \"came\", \"minutes\", \"times\", \"service\", \"way\", \"different\", \"time\", \"come\", \"home\", \"just\", \"happy\", \"server\", \"quality\", \"area\", \"stars\", \"looking\", \"drinks\", \"tried\", \"coming\", \"feel\", \"called\", \"strip\", \"las\", \"like\", \"good\", \"ll\", \"did\", \"wasn\", \"wait\", \"right\", \"try\", \"10\", \"experience\", \"little\"], \"loglift\": [30.0, 29.0, 28.0, 27.0, 26.0, 25.0, 24.0, 23.0, 22.0, 21.0, 20.0, 19.0, 18.0, 17.0, 16.0, 15.0, 14.0, 13.0, 12.0, 11.0, 10.0, 9.0, 8.0, 7.0, 6.0, 5.0, 4.0, 3.0, 2.0, 1.0, 1.7773, 1.7436, 1.648, 1.614, 1.6114, 1.5364, 1.437, 1.3932, 1.3268, 1.2161, 1.1207, 1.0483, 1.034, 0.8199, 0.788, 0.7871, 0.7722, 0.7515, 0.7285, 0.719, 0.6539, 0.6079, 0.5608, 0.5342, 0.4856, 0.4723, 0.436, 0.4251, 0.407, 0.4009, 0.2283, 0.1791, 0.1595, 0.0991, 0.1861, -0.5702, 1.957, 1.9569, 1.9569, 1.9566, 1.9214, 1.793, 1.684, 1.6683, 1.6224, 1.483, 1.4641, 1.4449, 1.4127, 1.3758, 1.3656, 1.2804, 1.1324, 0.8916, 0.8562, 0.6943, 0.6351, 0.5901, 0.4479, 0.3976, 0.3269, 0.3155, 0.1873, 0.1787, 0.1407, 0.0641, -0.3024, -0.7324, -0.1667, 2.0461, 2.0461, 2.0461, 2.0461, 1.9536, 1.7155, 1.1795, 1.0685, 1.0222, 0.9779, 0.9598, 0.9102, 0.7462, 0.6454, 0.6262, 0.6126, 0.4941, 0.3376, 0.3063, 0.2035, 0.1568, -0.2248, -0.3571, -0.4178, -0.4609, -0.471, -0.5487, -0.875, -1.0122, -2.7908, 2.1217, 2.1217, 2.027, 1.7773, 1.6826, 1.6352, 1.4965, 1.4953, 1.1637, 1.1542, 1.0321, 0.8936, 0.8884, 0.7384, 0.6914, 0.5683, 0.5523, 0.5516, 0.4377, 0.4264, 0.4204, 0.3467, 0.3319, 0.2166, 0.2026, 0.1497, 0.1364, 0.0366, -0.1082, -0.3918, -0.5429, 2.1471, 1.9712, 1.8761, 1.8737, 1.8289, 1.351, 1.2966, 1.1928, 1.161, 0.9228, 0.9078, 0.8897, 0.8828, 0.764, 0.7455, 0.6013, 0.5943, 0.5935, 0.5638, 0.5142, 0.5126, 0.281, 0.131, 0.0819, 0.0653, -0.0584, -0.4626, -0.4665, -0.5846, -0.6814, 2.4596, 2.4596, 2.4596, 2.4596, 2.2264, 2.2199, 2.21, 1.9409, 1.6145, 1.3706, 1.0969, 1.0215, 0.9011, 0.8532, 0.7872, 0.635, 0.5898, 0.5813, 0.4352, 0.3642, 0.3502, 0.1657, 0.1201, 0.0532, 0.008, -0.0189, -0.0291, -0.0887, -0.1122, -0.1152, -0.1837, -0.3903, -0.666, 2.5836, 2.5836, 2.5836, 2.3456, 2.1572, 1.7801, 1.7454, 1.7035, 1.6787, 1.6034, 1.502, 1.4998, 1.4991, 1.4059, 1.3162, 1.1833, 1.0737, 0.7703, 0.7459, 0.5451, 0.5237, 0.3891, 0.3777, 0.2858, 0.1934, -0.0566, -0.1545, -2.7465, -3.9861, -6.7587, 2.7745, 2.7745, 2.7745, 2.4327, 2.4064, 1.9941, 1.7431, 1.6594, 1.3419, 1.277, 0.4246, 0.3337, 0.2929, -0.0254, -0.2092, -0.2215, -0.6571, -1.0147, -1.4705, -4.5924, -9.5698, -9.6068, -9.6168, -9.6254, -9.6439, -9.6493, -9.651, -9.6513, -9.6739, -9.678, -9.9926, -10.5016, -10.0962, -9.781, -9.8997, -10.4822, -10.4651, -10.1964, 2.9576, 2.9576, 2.0218, 2.017, 1.9234, 1.8257, 1.3815, 0.7856, 0.3158, 0.2983, 0.0986, -0.1897, -0.6893, -2.3904, -7.195, -9.3761, -9.4036, -9.4133, -9.4233, -9.4318, -9.4446, -9.4504, -9.4557, -9.4563, -9.4564, -9.4573, -9.4577, -9.4803, -9.4844, -9.4893, -9.5162, -9.5454, -9.6204, -10.6374, -9.9027, -9.9754, -9.5496, -9.935, -10.1416, -10.3673, -9.9181, 3.0268, 3.0268, 3.0268, 3.0268, 2.5818, 1.9136, 1.2604, 0.6639, 0.2614, 0.0463, -0.146, -0.4827, -1.1491, -2.2276, -4.3426, -4.6192, -5.1346, -8.5808, -9.2562, -9.2711, -9.3082, -9.3267, -9.3396, -9.3506, -9.3512, -9.3515, -9.3523, -9.3752, -9.3793, -9.3842, -10.1402, -10.6212, -9.4812, -10.262, -9.5418, -9.8597, -9.7976, -10.0365, -9.4071, -10.0628, -9.8978], \"Freq\": [172938.0, 164568.0, 74346.0, 63815.0, 59357.0, 162661.0, 50801.0, 57623.0, 83084.0, 59179.0, 170827.0, 46724.0, 85697.0, 45680.0, 47830.0, 69552.0, 66417.0, 39611.0, 121267.0, 59185.0, 78358.0, 46682.0, 58620.0, 29019.0, 54130.0, 147926.0, 46245.0, 32456.0, 42403.0, 27587.0, 37925.4170086988, 64212.46865040023, 33282.56662960199, 35010.042439294164, 50446.07656871554, 20062.1215885195, 20178.573073856584, 18083.678147284874, 77279.78997505945, 29208.742275521938, 18748.821440985317, 19853.95304987692, 60711.57777181667, 11153.194536158937, 10979.91848338356, 15033.189988572374, 9949.123407868034, 15363.054021012213, 10809.996682831328, 16200.911891748165, 19433.975150186958, 21599.506653755776, 7166.996388258707, 24723.14907083467, 6780.288136726118, 6916.265289250965, 6591.6427884839795, 10307.36370392375, 6439.679731212894, 7587.372487102916, 31428.73438145385, 27922.097851443355, 12577.352340489975, 9699.845738081423, 8971.239264468628, 15552.080718806203, 39386.92806191991, 28980.12841604209, 26115.095663598087, 34227.257824674096, 44626.84300741236, 32509.069567310627, 21933.003860076005, 27316.190368462252, 24588.515431185057, 16786.918132710336, 31971.821104690232, 38001.392811175734, 45470.50268721101, 24611.049618502097, 16990.33043175389, 32916.34798648615, 10817.075888613579, 14701.644469209768, 10263.076865391911, 12123.152504666426, 10625.085197002642, 35189.79627953818, 11488.106608240298, 8654.384696576473, 5201.86151565208, 4882.131902378181, 4121.961089038884, 6107.564786514662, 20763.14502057221, 6209.357831942358, 15445.818563207951, 11602.740927932029, 5710.073831871423, 172937.61842542337, 32737.80173512422, 28112.323353820382, 25534.0968083806, 21455.581881971546, 18308.653501404304, 12901.714297528146, 55648.044407137684, 20697.536375190473, 12736.626534067304, 54892.871674013586, 20792.95845254429, 44853.9006558999, 8786.54187771773, 9782.055431238006, 6045.082330839695, 7456.709212025491, 30940.789448238622, 4477.7121040502625, 9467.142667873151, 5790.174299588407, 3184.694570315775, 3280.9236846798817, 3076.7848462528027, 4124.558430227296, 3553.9949276994394, 3907.6772355389594, 6878.184491452702, 1871.5699290760997, 1094.9605695082525, 31051.93737482275, 29072.092543320705, 33000.77519795112, 60725.66994631188, 42196.71247123053, 27077.538378353387, 14919.520187341604, 86942.75130480256, 22488.260767345542, 29777.631261786646, 9142.871460991422, 8635.503128102378, 14740.430590991515, 42833.628363350756, 12949.8407139362, 5998.34626715437, 5035.4349722728975, 8820.305459430965, 22509.07561920791, 5332.356931959106, 6191.711459485822, 4744.465755508712, 4503.142393748733, 5929.461700134186, 7680.19551687495, 6644.852591275584, 8207.356706616429, 15868.097600637477, 4425.956855584312, 1997.9618097763666, 9611.371520830775, 26353.26999222898, 49634.23027856491, 63362.2804926272, 41179.59403529809, 119713.6740011721, 13301.985570939478, 14498.174988505321, 18385.595734856615, 9402.071677241494, 17231.61811044728, 17136.428813354247, 9770.889345373273, 7906.360392493208, 10699.22665664222, 12790.318652489805, 5589.4376180608215, 5402.785476656547, 36125.490678981536, 5065.295007422861, 6965.517678609, 28852.99998628958, 10128.35716288461, 18385.049480166435, 3534.905350376712, 7453.044933214736, 6987.912309732611, 3027.4852896797015, 2919.6173105589337, 1769.6998271405475, 1775.9390339297051, 47829.84784946119, 29744.66795017533, 29287.90161926424, 24422.80442580249, 33581.98346271701, 20635.76823827626, 24342.66968259549, 17577.953273546977, 21990.15964321433, 8530.81457507863, 7547.666741641612, 19721.740940315332, 5675.161136747426, 13132.034627495548, 6846.621184988297, 9544.990241976566, 6783.709316216246, 9101.26763001331, 3589.8686269916543, 3266.4479677287404, 4594.618257340235, 4442.726960815524, 3966.4498865938754, 2708.5812076759644, 2084.0616714402254, 11577.448606606487, 10067.247662030886, 3116.464830890017, 1925.6437047872307, 2159.9731702066674, 4250.9017281572305, 7385.557105566393, 7500.977838858313, 39610.318416104186, 32455.314090559863, 24880.353667238105, 27744.480508789544, 30476.525077541584, 13455.457281488305, 12564.323656834391, 11610.621623916604, 17259.647268809535, 13379.054999782686, 14529.07147783597, 13689.148043223919, 9424.431999701777, 7853.232420407683, 7174.653628947792, 17144.945495050608, 6902.755983170384, 22516.770215086788, 7005.070011231928, 4017.810632678643, 5079.278102439593, 6658.6801223409475, 5573.499594094653, 2731.1515782800193, 4759.18430275981, 4524.564999448704, 8258.905953616844, 313.61127425034005, 239.52625375508777, 5.186528374704068, 45679.34737076837, 46723.374225094245, 26849.632026333027, 42042.53927303342, 17646.164815854587, 23184.9980129863, 9092.35531027937, 12152.720411267464, 40771.190517168085, 5410.990039199759, 2403.9379366476815, 10561.190840412433, 2579.7929631258335, 7764.306368303691, 3519.406255558495, 1807.0544753348872, 5259.544733368347, 3121.58845174783, 614.3005451245804, 30.163894450012528, 0.10248446144436071, 0.10248122385416293, 0.10249473206107858, 0.10248093599861484, 0.10249766294295476, 0.10248313699123832, 0.10248274976185401, 0.10248247143353813, 0.10247276940829196, 0.10248481308489776, 0.15442461656343698, 0.1024953341625132, 0.10249454255360989, 0.10249428335078695, 0.10249324973555252, 0.10249317201748519, 0.10249295420718468, 0.1024927330004936, 74345.7314281242, 63814.16449156273, 27283.633912218465, 13249.479230470843, 16974.65310839203, 18899.512177738587, 10743.194044349015, 4119.707547556173, 4257.164927931127, 10354.783303948416, 7913.966539515944, 2248.932017085212, 800.2369218857647, 812.7443324308551, 4.97603137011311, 0.10357773992365586, 0.10357887467630829, 0.10356467925499409, 0.10357505433174242, 0.1035645495095922, 0.10357965260880966, 0.10357192071687361, 0.10356919011566774, 0.10356865517827887, 0.10359190862292894, 0.10357402112661224, 0.10357049167697036, 0.10355999913686964, 0.10357039432451216, 0.10356522614528411, 0.10399544926803507, 0.10358161553698735, 0.10357993287173926, 0.10357981865286409, 0.10357847105360234, 0.10357801634860503, 0.10357771079263182, 0.1035774414527886, 0.10357630162229832, 0.10357627402665473, 0.10357527351185611, 59356.67714544283, 50800.7218544366, 29018.11230654308, 27586.188554092336, 36924.705968648916, 12176.210926218086, 4333.5928954005285, 6096.282725399176, 2295.071927702516, 1525.647962678548, 6196.03926709094, 1231.1772959400378, 371.605193072884, 721.2754344128375, 37.665692704098795, 11.792112913818293, 36.44356586141404, 0.25465634992121183, 0.1182262352389476, 0.10735693469351663, 0.10735073515765801, 0.1073541637652482, 0.1073602545337168, 0.1073536676606177, 0.10735589860005411, 0.10735653627033864, 0.10735063175334382, 0.10734738780670669, 0.10735498876322201, 0.10734881175892202, 0.2319350448680027, 0.19233092890413322, 0.10740952461948235, 0.10738429967112718, 0.10736588206125687, 0.10736578403938114, 0.10736534817860215, 0.10736350182409285, 0.10736335916909508, 0.10736290388925157, 0.10736231773024235], \"Total\": [172938.0, 164568.0, 74346.0, 63815.0, 59357.0, 162661.0, 50801.0, 57623.0, 83084.0, 59179.0, 170827.0, 46724.0, 85697.0, 45680.0, 47830.0, 69552.0, 66417.0, 39611.0, 121267.0, 59185.0, 78358.0, 46682.0, 58620.0, 29019.0, 54130.0, 147926.0, 46245.0, 32456.0, 42403.0, 27587.0, 37926.32072131318, 66417.17217177358, 37877.991267116246, 41220.20447867114, 59548.15052437858, 25526.967341602423, 28359.073541147376, 26552.693769964055, 121267.27134801641, 51199.708236296196, 36153.775832984815, 41159.81008540309, 127671.29177356575, 29053.16686529771, 29530.000695969815, 40465.53334967821, 27183.22420304749, 42853.1072500215, 30855.87588793764, 46682.33598746316, 59766.13462605728, 69552.55344846772, 24191.447733894758, 85697.53448537871, 24672.91337464698, 25506.576449742555, 25205.93383378829, 39849.15421238701, 25349.77326829046, 30050.91982777692, 147926.81943679284, 138054.3249488569, 63417.34077583448, 51953.83145305702, 44047.05899263801, 162661.9686195964, 39387.83013827929, 28981.03044968121, 26115.997732702857, 34240.69851959303, 46245.11333970764, 38300.051197804474, 28816.1409381294, 36458.58082763946, 34360.21037037727, 26966.995025701217, 52340.87299584895, 63417.34077583448, 78358.84740009671, 44007.434131669164, 30692.98502191318, 64751.77713107618, 24672.91337464698, 42661.71585109336, 30855.87588793764, 42853.1072500215, 39849.15421238701, 138054.3249488569, 51953.83145305702, 41159.81008540309, 26552.693769964055, 25205.93383378829, 24191.447733894758, 36153.775832984815, 127671.29177356575, 41220.20447867114, 147926.81943679284, 170827.2943320514, 47745.83947104299, 172938.52547128103, 32738.708811369757, 28113.230419843374, 25535.014709281466, 23536.551383865626, 25484.11254273677, 30692.98502191318, 147926.81943679284, 57623.042042183304, 37066.25508724725, 162661.9686195964, 64751.77713107618, 164568.3838897063, 35657.639759521895, 40465.53334967821, 25349.77326829046, 35201.995152173215, 170827.2943320514, 25506.576449742555, 59766.13462605728, 38300.051197804474, 30855.87588793764, 36282.50805222158, 36153.775832984815, 50601.95876890583, 44047.05899263801, 52340.87299584895, 127671.29177356575, 39849.15421238701, 138054.3249488569, 31052.841736503637, 29072.996923082825, 36282.50805222158, 85697.53448537871, 65462.567372132486, 44047.05899263801, 27879.562454797382, 162661.9686195964, 58620.09407663519, 78358.84740009671, 27183.22420304749, 29489.225696290025, 50601.95876890583, 170827.2943320514, 54130.29322345553, 28359.073541147376, 24191.447733894758, 42403.095924000394, 121267.27134801641, 29053.16686529771, 33940.06864614312, 27995.011382999262, 26966.995025701217, 39849.15421238701, 52340.87299584895, 47745.83947104299, 59766.13462605728, 127671.29177356575, 41159.81008540309, 24672.91337464698, 138054.3249488569, 26354.17441609117, 59185.11243634262, 83084.82850937142, 54130.29322345553, 164568.3838897063, 29489.225696290025, 33940.06864614312, 47745.83947104299, 25205.93383378829, 58620.09407663519, 59179.770052292515, 34360.21037037727, 27995.011382999262, 42661.71585109336, 51953.83145305702, 26226.012899233505, 25526.967341602423, 170827.2943320514, 24672.91337464698, 35657.639759521895, 147926.81943679284, 65462.567372132486, 138054.3249488569, 27879.562454797382, 59766.13462605728, 63417.34077583448, 41159.81008540309, 39849.15421238701, 27183.22420304749, 30050.91982777692, 47830.75264719263, 29745.572743223376, 29288.806483522163, 24423.709298473026, 42403.095924000394, 26226.012899233505, 31246.22890973886, 29530.000695969815, 51199.708236296196, 25349.77326829046, 29489.225696290025, 83084.82850937142, 26966.995025701217, 65462.567372132486, 36458.58082763946, 59185.11243634262, 44007.434131669164, 59548.15052437858, 27183.22420304749, 26552.693769964055, 37877.991267116246, 44047.05899263801, 41159.81008540309, 30050.91982777692, 24191.447733894758, 138054.3249488569, 121267.27134801641, 39849.15421238701, 25205.93383378829, 28359.073541147376, 59766.13462605728, 127671.29177356575, 170827.2943320514, 39611.21903797272, 32456.2146971739, 24881.254304847636, 35201.995152173215, 46682.33598746316, 30050.91982777692, 29053.16686529771, 27995.011382999262, 42661.71585109336, 35657.639759521895, 42853.1072500215, 40465.53334967821, 27879.562454797382, 25500.195440785654, 25484.11254273677, 69552.55344846772, 31246.22890973886, 138054.3249488569, 44007.434131669164, 30855.87588793764, 39849.15421238701, 59766.13462605728, 50601.95876890583, 27183.22420304749, 51953.83145305702, 63417.34077583448, 127671.29177356575, 64751.77713107618, 170827.2943320514, 59185.11243634262, 45680.24715548849, 46724.33713628592, 26850.531802421814, 59179.770052292515, 25500.195440785654, 50601.95876890583, 25506.576449742555, 37066.25508724725, 170827.2943320514, 24191.447733894758, 25205.93383378829, 121267.27134801641, 30855.87588793764, 127671.29177356575, 69552.55344846772, 36153.775832984815, 162661.9686195964, 138054.3249488569, 42853.1072500215, 47745.83947104299, 23536.551383865626, 24423.709298473026, 24672.91337464698, 24881.254304847636, 25349.77326829046, 25484.11254273677, 25526.967341602423, 25535.014709281466, 26115.997732702857, 26226.012899233505, 54130.29322345553, 59766.13462605728, 39849.15421238701, 29072.996923082825, 32738.708811369757, 58620.09407663519, 57623.042042183304, 44047.05899263801, 74346.63017939826, 63815.06317107929, 69552.55344846772, 33940.06864614312, 47745.83947104299, 58620.09407663519, 51953.83145305702, 36153.775832984815, 59766.13462605728, 147926.81943679284, 138054.3249488569, 52340.87299584895, 30692.98502191318, 170827.2943320514, 127671.29177356575, 23536.551383865626, 24191.447733894758, 24423.709298473026, 24672.91337464698, 24881.254304847636, 25205.93383378829, 25349.77326829046, 25484.11254273677, 25500.195440785654, 25506.576449742555, 25526.967341602423, 25535.014709281466, 26115.997732702857, 26226.012899233505, 26354.17441609117, 27183.22420304749, 27879.562454797382, 30050.91982777692, 83084.82850937142, 39849.15421238701, 42853.1072500215, 27995.011382999262, 41159.81008540309, 50601.95876890583, 63417.34077583448, 40465.53334967821, 59357.57205612356, 50801.61677642063, 29019.007162388916, 27587.08346464515, 57623.042042183304, 37066.25508724725, 25349.77326829046, 64751.77713107618, 36458.58082763946, 30050.91982777692, 147926.81943679284, 41159.81008540309, 24191.447733894758, 138054.3249488569, 59766.13462605728, 24672.91337464698, 127671.29177356575, 27995.011382999262, 25535.014709281466, 23536.551383865626, 24423.709298473026, 24881.254304847636, 25205.93383378829, 25484.11254273677, 25500.195440785654, 25506.576449742555, 25526.967341602423, 26115.997732702857, 26226.012899233505, 26354.17441609117, 121267.27134801641, 162661.9686195964, 29053.16686529771, 63417.34077583448, 30855.87588793764, 42403.095924000394, 39849.15421238701, 50601.95876890583, 26966.995025701217, 51953.83145305702, 44047.05899263801], \"logprob\": [30.0, 29.0, 28.0, 27.0, 26.0, 25.0, 24.0, 23.0, 22.0, 21.0, 20.0, 19.0, 18.0, 17.0, 16.0, 15.0, 14.0, 13.0, 12.0, 11.0, 10.0, 9.0, 8.0, 7.0, 6.0, 5.0, 4.0, 3.0, 2.0, 1.0, -3.0892, -2.5626, -3.2198, -3.1692, -2.8039, -3.726, -3.7202, -3.8298, -2.3774, -3.3503, -3.7937, -3.7364, -2.6187, -4.3131, -4.3287, -4.0146, -4.4273, -3.9928, -4.3443, -3.9397, -3.7578, -3.6521, -4.7553, -3.5171, -4.8108, -4.7909, -4.839, -4.392, -4.8623, -4.6983, -3.2771, -3.3954, -4.1929, -4.4527, -4.5308, -3.9806, -2.8717, -3.1785, -3.2826, -3.0121, -2.7468, -3.0636, -3.4572, -3.2377, -3.3429, -3.7246, -3.0803, -2.9075, -2.7281, -3.342, -3.7125, -3.0512, -4.164, -3.8572, -4.2166, -4.05, -4.1819, -2.9844, -4.1038, -4.3871, -4.8961, -4.9596, -5.1288, -4.7356, -3.512, -4.7191, -3.8078, -4.0939, -4.8029, -1.3031, -2.9675, -3.1198, -3.216, -3.39, -3.5486, -3.8986, -2.4369, -3.426, -3.9115, -2.4506, -3.4214, -2.6526, -4.2828, -4.1754, -4.6567, -4.4469, -3.0239, -4.9569, -4.2082, -4.6998, -5.2976, -5.2679, -5.3321, -5.039, -5.1879, -5.0931, -4.5276, -5.8292, -6.3653, -2.9447, -3.0106, -2.8838, -2.274, -2.638, -3.0817, -3.6777, -1.9151, -3.2674, -2.9866, -4.1674, -4.2245, -3.6898, -2.623, -3.8193, -4.5889, -4.7639, -4.2033, -3.2665, -4.7066, -4.5572, -4.8234, -4.8756, -4.6004, -4.3417, -4.4865, -4.2753, -3.6161, -4.8929, -5.6882, -4.1174, -3.0834, -2.4503, -2.2061, -2.637, -1.5699, -3.7671, -3.681, -3.4434, -4.1141, -3.5082, -3.5138, -4.0756, -4.2873, -3.9848, -3.8063, -4.6341, -4.6681, -2.768, -4.7326, -4.414, -2.9928, -4.0397, -3.4435, -5.0923, -4.3464, -4.4108, -5.2473, -5.2835, -5.7842, -5.7807, -2.1748, -2.6498, -2.6653, -2.847, -2.5285, -3.0155, -2.8502, -3.1758, -2.9519, -3.8988, -4.0212, -3.0608, -4.3064, -3.4674, -4.1187, -3.7865, -4.128, -3.8341, -4.7644, -4.8588, -4.5176, -4.5512, -4.6646, -5.0461, -5.3082, -3.5934, -3.7332, -4.9058, -5.3872, -5.2724, -4.5953, -4.043, -4.0274, -2.2394, -2.4386, -2.7044, -2.5954, -2.5015, -3.3191, -3.3876, -3.4666, -3.0701, -3.3248, -3.2423, -3.3019, -3.6752, -3.8576, -3.9479, -3.0768, -3.9866, -2.8042, -3.9718, -4.5277, -4.2933, -4.0226, -4.2005, -4.9138, -4.3584, -4.409, -3.8072, -7.0781, -7.3476, -11.1802, -1.9059, -1.8833, -2.4373, -1.9889, -2.8571, -2.5841, -3.5201, -3.23, -2.0196, -4.0391, -4.8505, -3.3704, -4.7799, -3.678, -4.4693, -5.1359, -4.0675, -4.5892, -6.2148, -9.2287, -14.9134, -14.9134, -14.9133, -14.9134, -14.9132, -14.9134, -14.9134, -14.9134, -14.9135, -14.9134, -14.5034, -14.9133, -14.9133, -14.9133, -14.9133, -14.9133, -14.9133, -14.9133, -1.2358, -1.3885, -2.2382, -2.9606, -2.7128, -2.6054, -3.1702, -4.1287, -4.0959, -3.2071, -3.4759, -4.7341, -5.7674, -5.7519, -10.8476, -14.7197, -14.7197, -14.7198, -14.7197, -14.7198, -14.7197, -14.7198, -14.7198, -14.7198, -14.7196, -14.7197, -14.7198, -14.7199, -14.7198, -14.7198, -14.7157, -14.7197, -14.7197, -14.7197, -14.7197, -14.7197, -14.7197, -14.7197, -14.7197, -14.7197, -14.7197, -1.3918, -1.5474, -2.1074, -2.158, -1.8664, -2.9758, -4.0089, -3.6676, -4.6446, -5.0529, -3.6514, -5.2674, -6.4653, -5.8021, -8.7543, -9.9157, -8.7873, -13.7509, -14.5182, -14.6147, -14.6147, -14.6147, -14.6146, -14.6147, -14.6147, -14.6147, -14.6147, -14.6148, -14.6147, -14.6148, -13.8444, -14.0316, -14.6142, -14.6144, -14.6146, -14.6146, -14.6146, -14.6146, -14.6146, -14.6146, -14.6146]}};\n",
       "\n",
       "function LDAvis_load_lib(url, callback){\n",
       "  var s = document.createElement('script');\n",
       "  s.src = url;\n",
       "  s.async = true;\n",
       "  s.onreadystatechange = s.onload = callback;\n",
       "  s.onerror = function(){console.warn(\"failed to load library \" + url);};\n",
       "  document.getElementsByTagName(\"head\")[0].appendChild(s);\n",
       "}\n",
       "\n",
       "if(typeof(LDAvis) !== \"undefined\"){\n",
       "   // already loaded: just create the visualization\n",
       "   !function(LDAvis){\n",
       "       new LDAvis(\"#\" + \"ldavis_el28401406895882636327079222399\", ldavis_el28401406895882636327079222399_data);\n",
       "   }(LDAvis);\n",
       "}else if(typeof define === \"function\" && define.amd){\n",
       "   // require.js is available: use it to load d3/LDAvis\n",
       "   require.config({paths: {d3: \"https://cdnjs.cloudflare.com/ajax/libs/d3/3.5.5/d3.min\"}});\n",
       "   require([\"d3\"], function(d3){\n",
       "      window.d3 = d3;\n",
       "      LDAvis_load_lib(\"https://cdn.rawgit.com/bmabey/pyLDAvis/files/ldavis.v1.0.0.js\", function(){\n",
       "        new LDAvis(\"#\" + \"ldavis_el28401406895882636327079222399\", ldavis_el28401406895882636327079222399_data);\n",
       "      });\n",
       "    });\n",
       "}else{\n",
       "    // require.js not available: dynamically load d3 & LDAvis\n",
       "    LDAvis_load_lib(\"https://cdnjs.cloudflare.com/ajax/libs/d3/3.5.5/d3.min.js\", function(){\n",
       "         LDAvis_load_lib(\"https://cdn.rawgit.com/bmabey/pyLDAvis/files/ldavis.v1.0.0.js\", function(){\n",
       "                 new LDAvis(\"#\" + \"ldavis_el28401406895882636327079222399\", ldavis_el28401406895882636327079222399_data);\n",
       "            })\n",
       "         });\n",
       "}\n",
       "</script>"
      ],
      "text/plain": [
       "PreparedData(topic_coordinates=            Freq  cluster  topics         x         y\n",
       "topic                                                \n",
       "9      16.909108        1       1  0.138017  0.052378\n",
       "4      14.128544        1       2  0.042466 -0.024027\n",
       "8      12.923313        1       3 -0.163793  0.074071\n",
       "0      11.982070        1       4  0.131450  0.102761\n",
       "6      11.681748        1       5  0.051307 -0.106311\n",
       "1       8.546442        1       6  0.164774  0.102864\n",
       "3       7.549767        1       7  0.107966 -0.069904\n",
       "2       6.237702        1       8 -0.017843  0.210098\n",
       "7       5.194281        1       9 -0.020278 -0.377497\n",
       "5       4.847026        1      10 -0.434066  0.035566, topic_info=     Category           Freq        Term          Total  loglift  logprob\n",
       "term                                                                     \n",
       "30    Default  172938.000000        food  172938.000000  30.0000  30.0000\n",
       "36    Default  164568.000000       great  164568.000000  29.0000  29.0000\n",
       "7     Default   74346.000000        best   74346.000000  28.0000  28.0000\n",
       "1     Default   63815.000000     amazing   63815.000000  27.0000  27.0000\n",
       "58    Default   59357.000000       order   59357.000000  26.0000  26.0000\n",
       "34    Default  162661.000000        good  162661.000000  25.0000  25.0000\n",
       "68    Default   50801.000000  restaurant   50801.000000  24.0000  24.0000\n",
       "59    Default   57623.000000     ordered   57623.000000  23.0000  23.0000\n",
       "91    Default   83084.000000       vegas   83084.000000  22.0000  22.0000\n",
       "50    Default   59179.000000        love   59179.000000  21.0000  21.0000\n",
       "62    Default  170827.000000       place  170827.000000  20.0000  20.0000\n",
       "13    Default   46724.000000     chicken   46724.000000  19.0000  19.0000\n",
       "66    Default   85697.000000      really   85697.000000  18.0000  18.0000\n",
       "20    Default   45680.000000   delicious   45680.000000  17.0000  17.0000\n",
       "70    Default   47830.000000        room   47830.000000  16.0000  16.0000\n",
       "90    Default   69552.000000          ve   69552.000000  15.0000  15.0000\n",
       "24    Default   66417.000000         don   66417.000000  14.0000  14.0000\n",
       "81    Default   39611.000000        sure   39611.000000  13.0000  13.0000\n",
       "43    Default  121267.000000        like  121267.000000  12.0000  12.0000\n",
       "77    Default   59185.000000       staff   59185.000000  11.0000  11.0000\n",
       "35    Default   78358.000000         got   78358.000000  10.0000  10.0000\n",
       "51    Default   46682.000000        make   46682.000000   9.0000   9.0000\n",
       "19    Default   58620.000000  definitely   58620.000000   8.0000   8.0000\n",
       "61    Default   29019.000000       pizza   29019.000000   7.0000   7.0000\n",
       "32    Default   54130.000000    friendly   54130.000000   6.0000   6.0000\n",
       "75    Default  147926.000000     service  147926.000000   5.0000   5.0000\n",
       "71    Default   46245.000000        said   46245.000000   4.0000   4.0000\n",
       "46    Default   32456.000000    location   32456.000000   3.0000   3.0000\n",
       "92    Default   42403.000000        wait   42403.000000   2.0000   2.0000\n",
       "27    Default   27587.000000   excellent   27587.000000   1.0000   1.0000\n",
       "...       ...            ...         ...            ...      ...      ...\n",
       "96    Topic10    1231.177296         way   41159.810085  -0.4827  -5.2674\n",
       "23    Topic10     371.605193   different   24191.447734  -1.1491  -6.4653\n",
       "84    Topic10     721.275434        time  138054.324949  -2.2276  -5.8021\n",
       "15    Topic10      37.665693        come   59766.134626  -4.3426  -8.7543\n",
       "38    Topic10      11.792113        home   24672.913375  -4.6192  -9.9157\n",
       "40    Topic10      36.443566        just  127671.291774  -5.1346  -8.7873\n",
       "37    Topic10       0.254656       happy   27995.011383  -8.5808 -13.7509\n",
       "74    Topic10       0.118226      server   25535.014709  -9.2562 -14.5182\n",
       "65    Topic10       0.107357     quality   23536.551384  -9.2711 -14.6147\n",
       "2     Topic10       0.107351        area   24423.709298  -9.3082 -14.6147\n",
       "78    Topic10       0.107354       stars   24881.254305  -9.3267 -14.6147\n",
       "48    Topic10       0.107360     looking   25205.933834  -9.3396 -14.6146\n",
       "25    Topic10       0.107354      drinks   25484.112543  -9.3506 -14.6147\n",
       "88    Topic10       0.107356       tried   25500.195441  -9.3512 -14.6147\n",
       "16    Topic10       0.107357      coming   25506.576450  -9.3515 -14.6147\n",
       "29    Topic10       0.107351        feel   25526.967342  -9.3523 -14.6147\n",
       "9     Topic10       0.107347      called   26115.997733  -9.3752 -14.6148\n",
       "79    Topic10       0.107355       strip   26226.012899  -9.3793 -14.6147\n",
       "42    Topic10       0.107349         las   26354.174416  -9.3842 -14.6148\n",
       "43    Topic10       0.231935        like  121267.271348 -10.1402 -13.8444\n",
       "34    Topic10       0.192331        good  162661.968620 -10.6212 -14.0316\n",
       "45    Topic10       0.107410          ll   29053.166865  -9.4812 -14.6142\n",
       "21    Topic10       0.107384         did   63417.340776 -10.2620 -14.6144\n",
       "95    Topic10       0.107366        wasn   30855.875888  -9.5418 -14.6146\n",
       "92    Topic10       0.107366        wait   42403.095924  -9.8597 -14.6146\n",
       "69    Topic10       0.107365       right   39849.154212  -9.7976 -14.6146\n",
       "89    Topic10       0.107364         try   50601.958769 -10.0365 -14.6146\n",
       "0     Topic10       0.107363          10   26966.995026  -9.4071 -14.6146\n",
       "28    Topic10       0.107363  experience   51953.831453 -10.0628 -14.6146\n",
       "44    Topic10       0.107362      little   44047.058993  -9.8978 -14.6146\n",
       "\n",
       "[373 rows x 6 columns], token_table=      Topic      Freq     Term\n",
       "term                          \n",
       "0         1  0.000037       10\n",
       "0         2  0.622502       10\n",
       "0         4  0.166982       10\n",
       "0         6  0.210442       10\n",
       "1         9  0.999983  amazing\n",
       "2         6  0.999971     area\n",
       "3         1  0.000380    asked\n",
       "3         2  0.999600    asked\n",
       "4         4  0.182439  awesome\n",
       "4         5  0.427165  awesome\n",
       "4         9  0.390365  awesome\n",
       "5         2  0.553547      bad\n",
       "5         3  0.420357      bad\n",
       "5         9  0.026065      bad\n",
       "6         6  0.999972      bar\n",
       "7         9  0.999992     best\n",
       "8         1  0.371501   better\n",
       "8         3  0.241737   better\n",
       "8         6  0.048461   better\n",
       "8         7  0.338288   better\n",
       "9         2  0.999962   called\n",
       "10        1  0.071535     came\n",
       "10        2  0.508341     came\n",
       "10        3  0.321119     came\n",
       "10        7  0.004849     came\n",
       "10       10  0.094144     came\n",
       "11        2  0.999964      car\n",
       "12        6  0.779070    check\n",
       "12        7  0.220923    check\n",
       "13        8  0.999971  chicken\n",
       "...     ...       ...      ...\n",
       "91        5  0.762618    vegas\n",
       "91        6  0.237372    vegas\n",
       "92        4  0.208004     wait\n",
       "92        6  0.791970     wait\n",
       "93        1  0.878690     want\n",
       "93        6  0.121311     want\n",
       "94        1  0.238824   wanted\n",
       "94        2  0.761136   wanted\n",
       "95        1  0.350338     wasn\n",
       "95        2  0.332611     wasn\n",
       "95        3  0.103222     wasn\n",
       "95        7  0.130218     wasn\n",
       "95        8  0.083615     wasn\n",
       "96        1  0.482364      way\n",
       "96        2  0.210254      way\n",
       "96        4  0.107532      way\n",
       "96        5  0.073543      way\n",
       "96        6  0.096356      way\n",
       "96       10  0.029908      way\n",
       "97        1  0.124683     went\n",
       "97        2  0.610842     went\n",
       "97        3  0.074664     went\n",
       "97        4  0.146730     went\n",
       "97        6  0.000115     went\n",
       "97        9  0.042968     went\n",
       "98        2  0.715624     work\n",
       "98        5  0.284370     work\n",
       "99        4  0.535159    worth\n",
       "99        5  0.126795    worth\n",
       "99        7  0.338025    worth\n",
       "\n",
       "[318 rows x 3 columns], R=30, lambda_step=0.01, plot_opts={'xlab': 'PC1', 'ylab': 'PC2'}, topic_order=[10, 5, 9, 1, 7, 2, 4, 3, 8, 6])"
      ]
     },
     "execution_count": 15,
     "metadata": {},
     "output_type": "execute_result"
    }
   ],
   "source": [
    "lda_viz_10_topics_cvec = pyLDAvis.sklearn.prepare(lda_cvec, review_dtm_cvec, cvec)\n",
    "lda_viz_10_topics_cvec\n",
    "\n",
    "# topic labels"
   ]
  },
  {
   "cell_type": "code",
   "execution_count": null,
   "metadata": {
    "collapsed": true
   },
   "outputs": [],
   "source": [
    "topics_labels = {\n",
    "   1: \"customer_feelings\",\n",
    "   2: \"customer_actions\",\n",
    "   3: \"restaurant_related\",\n",
    "    4: \"compliments\",\n",
    "    5: \"las_vegas_related\",\n",
    "    6: \"hotel_related\",\n",
    "    7: \"location_related\",\n",
    "    8: \"chicken_related\",\n",
    "    9: \"superlatives\",\n",
    "    10: \"ordering_pizza\"\n",
    "}"
   ]
  },
  {
   "cell_type": "markdown",
   "metadata": {},
   "source": [
    "### Generating topic probabilities for each review"
   ]
  },
  {
   "cell_type": "code",
   "execution_count": 8,
   "metadata": {
    "collapsed": false,
    "scrolled": true
   },
   "outputs": [
    {
     "data": {
      "text/plain": [
       "{0: u'10',\n",
       " 1: u'amazing',\n",
       " 2: u'area',\n",
       " 3: u'asked',\n",
       " 4: u'awesome',\n",
       " 5: u'bad',\n",
       " 6: u'bar',\n",
       " 7: u'best',\n",
       " 8: u'better',\n",
       " 9: u'called',\n",
       " 10: u'came',\n",
       " 11: u'car',\n",
       " 12: u'check',\n",
       " 13: u'chicken',\n",
       " 14: u'clean',\n",
       " 15: u'come',\n",
       " 16: u'coming',\n",
       " 17: u'customer',\n",
       " 18: u'day',\n",
       " 19: u'definitely',\n",
       " 20: u'delicious',\n",
       " 21: u'did',\n",
       " 22: u'didn',\n",
       " 23: u'different',\n",
       " 24: u'don',\n",
       " 25: u'drinks',\n",
       " 26: u'eat',\n",
       " 27: u'excellent',\n",
       " 28: u'experience',\n",
       " 29: u'feel',\n",
       " 30: u'food',\n",
       " 31: u'fresh',\n",
       " 32: u'friendly',\n",
       " 33: u'going',\n",
       " 34: u'good',\n",
       " 35: u'got',\n",
       " 36: u'great',\n",
       " 37: u'happy',\n",
       " 38: u'home',\n",
       " 39: u'hotel',\n",
       " 40: u'just',\n",
       " 41: u'know',\n",
       " 42: u'las',\n",
       " 43: u'like',\n",
       " 44: u'little',\n",
       " 45: u'll',\n",
       " 46: u'location',\n",
       " 47: u'long',\n",
       " 48: u'looking',\n",
       " 49: u'lot',\n",
       " 50: u'love',\n",
       " 51: u'make',\n",
       " 52: u'menu',\n",
       " 53: u'minutes',\n",
       " 54: u'need',\n",
       " 55: u'new',\n",
       " 56: u'nice',\n",
       " 57: u'night',\n",
       " 58: u'order',\n",
       " 59: u'ordered',\n",
       " 60: u'people',\n",
       " 61: u'pizza',\n",
       " 62: u'place',\n",
       " 63: u'pretty',\n",
       " 64: u'price',\n",
       " 65: u'quality',\n",
       " 66: u'really',\n",
       " 67: u'recommend',\n",
       " 68: u'restaurant',\n",
       " 69: u'right',\n",
       " 70: u'room',\n",
       " 71: u'said',\n",
       " 72: u'sauce',\n",
       " 73: u'say',\n",
       " 74: u'server',\n",
       " 75: u'service',\n",
       " 76: u'small',\n",
       " 77: u'staff',\n",
       " 78: u'stars',\n",
       " 79: u'strip',\n",
       " 80: u'super',\n",
       " 81: u'sure',\n",
       " 82: u'table',\n",
       " 83: u'think',\n",
       " 84: u'time',\n",
       " 85: u'times',\n",
       " 86: u'told',\n",
       " 87: u'took',\n",
       " 88: u'tried',\n",
       " 89: u'try',\n",
       " 90: u've',\n",
       " 91: u'vegas',\n",
       " 92: u'wait',\n",
       " 93: u'want',\n",
       " 94: u'wanted',\n",
       " 95: u'wasn',\n",
       " 96: u'way',\n",
       " 97: u'went',\n",
       " 98: u'work',\n",
       " 99: u'worth'}"
      ]
     },
     "execution_count": 8,
     "metadata": {},
     "output_type": "execute_result"
    }
   ],
   "source": [
    "vocab = {v: k for k, v in cvec.vocabulary_.iteritems()}\n",
    "vocab"
   ]
  },
  {
   "cell_type": "code",
   "execution_count": 9,
   "metadata": {
    "collapsed": false
   },
   "outputs": [],
   "source": [
    "lda_ = models.LdaModel(\n",
    "    matutils.Sparse2Corpus(review_dtm_cvec, documents_columns=False),\n",
    "    # or use the corpus object created with the dictionary in the previous frame!\n",
    "    # corpus, \n",
    "    num_topics  =  10,\n",
    "    passes      =  1,\n",
    "    id2word     =  vocab\n",
    "    # or use the gensim dictionary object!\n",
    "    # id2word     =  dictionary\n",
    ")"
   ]
  },
  {
   "cell_type": "code",
   "execution_count": null,
   "metadata": {
    "collapsed": false
   },
   "outputs": [],
   "source": [
    "stops = stopwords.words()\n",
    "\n",
    "docs = pd.DataFrame(review_dtm_cvec.toarray(), columns=vectorizer.get_feature_names())\n",
    "docs.sum()\n",
    "\n",
    "bow = []\n",
    "\n",
    "for document in review_dtm_cvec.toarray():\n",
    "    \n",
    "    single_document = []\n",
    "    \n",
    "    for token_id, token_count in enumerate(document):\n",
    "\n",
    "        if token_count > 0:\n",
    "            single_document.append((token_id, token_count))\n",
    "\n",
    "    bow.append(single_document)\n",
    "\n",
    "# remove words that appear only once\n",
    "frequency = defaultdict(int)\n",
    "\n",
    "for text in documents:\n",
    "    for token in text.split():\n",
    "        frequency[token] += 1\n",
    "\n",
    "texts = [[token for token in text.split() if frequency[token] > 1 and token not in stops]\n",
    "          for text in documents]\n",
    "\n",
    "# Create gensim dictionary object\n",
    "dictionary = corpora.Dictionary(texts)\n",
    "\n",
    "# Create corpus matrix\n",
    "corpus = [dictionary.doc2bow(text) for text in texts]\n",
    "\n",
    "lda_.print_topics(num_topics=3, num_words=5)\n",
    "\n",
    "lda_.get_document_topics(bow[0])"
   ]
  },
  {
   "cell_type": "code",
   "execution_count": null,
   "metadata": {
    "collapsed": true
   },
   "outputs": [],
   "source": [
    "doc_topics = [lda_.get_document_topics(doc) for doc in corpus]\n",
    "\n",
    "topic_data = []\n",
    "\n",
    "for document_id, topics in enumerate(doc_topics):\n",
    "    \n",
    "    document_topics = []\n",
    "    \n",
    "    for topic, probability in topics:\n",
    "       \n",
    "        topic_data.append({\n",
    "            'document_id':  document_id,\n",
    "            'topic_id':     topic,\n",
    "            'topic':        topics_labels[topic],\n",
    "            'probability':  probability\n",
    "        })\n",
    "\n",
    "topics_df = pd.DataFrame(topic_data.[:5])\n",
    "topics_df.pivot_table(values=\"probability\", index=[\"document_id\", \"topic\"]).T"
   ]
  },
  {
   "cell_type": "markdown",
   "metadata": {},
   "source": [
    "### Conclusions and Next Steps"
   ]
  },
  {
   "cell_type": "markdown",
   "metadata": {},
   "source": [
    "The next step is to generate a matrix of topic probabilities for each review, which I did actually work on but the first time I tried it, it crashed and the 2nd time it wasn't even done after 5 hours, so that definitely needs more work. The huge size of the data, 400K reviews is definitely a challenge, but I'm optimistic on being able to do that soon.\n",
    "\n",
    "I was able to discover reasonably distinct abstract topics in Yelp Reviews, understand their distribution and develop an understanding of Yelp Reviews that will serve as a foundation to tackle more sophisticated and ambitious questions in the future, such as:\n",
    "\n",
    "-   Cultural Trends: What makes a particular city different? What cuisines do Yelpers rave about in different countries? Do Americans tend to eat out late compared to those in Germany or the U.K.? In which countries are Yelpers sticklers for service quality? In international cities such as Montreal, are French speakers reviewing places differently than English speakers?\n",
    "\n",
    "-   Inferring Categories: Are there any non-intuitive correlations between business categories e.g., how many karaoke bars also offer Korean food, and vice versa? What businesses deserve their own subcategory (i.e., Szechuan or Hunan versus just \"Chinese restaurants\")\n",
    "\n",
    "-   Detecting Sarcasm in Reviews: Are Yelpers a sarcastic bunch?\n",
    "\n",
    "-   Detecting Changepoints and Events: Detecting when things change suddenly (e.g., a business coming under new management or when a city starts going nuts over cronuts)"
   ]
  },
  {
   "cell_type": "markdown",
   "metadata": {},
   "source": [
    "### References"
   ]
  },
  {
   "cell_type": "markdown",
   "metadata": {},
   "source": [
    "Chen, E. (2011, August 28). What is a good explanation of Latent Dirichlet Allocation? Retrieved February 8, 2017, from https://www.quora.com/What-is-a-good-explanation-of-Latent-Dirichlet-Allocation/answer/Edwin-Chen-1\n",
    "\n",
    "W. (2017, January 07). Topic Modeling. Retrieved February 08, 2017, from https://en.wikipedia.org/wiki/Topic_model\n",
    "\n",
    "W. (2017, January 20). Latent Dirichlet Allocation. Retrieved February 08, 2017, from https://en.wikipedia.org/wiki/Latent_Dirichlet_allocation\n",
    "\n",
    "W. (2004, October 20). Yelp. Retrieved February 08, 2017, from https://en.wikipedia.org/wiki/Yelp\n",
    "\n",
    "Y. (2017, January 24). Yelp Dataset Challenge. Retrieved February 08, 2017, from https://www.yelp.com/dataset_challenge"
   ]
  }
 ],
 "metadata": {
  "anaconda-cloud": {},
  "kernelspec": {
   "display_name": "Python [conda root]",
   "language": "python",
   "name": "conda-root-py"
  },
  "language_info": {
   "codemirror_mode": {
    "name": "ipython",
    "version": 2
   },
   "file_extension": ".py",
   "mimetype": "text/x-python",
   "name": "python",
   "nbconvert_exporter": "python",
   "pygments_lexer": "ipython2",
   "version": "2.7.13"
  }
 },
 "nbformat": 4,
 "nbformat_minor": 1
}
