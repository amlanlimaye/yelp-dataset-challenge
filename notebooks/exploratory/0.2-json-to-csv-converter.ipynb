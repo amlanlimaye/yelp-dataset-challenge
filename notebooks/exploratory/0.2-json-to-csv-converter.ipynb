{
 "cells": [
  {
   "cell_type": "code",
   "execution_count": 3,
   "metadata": {
    "collapsed": true
   },
   "outputs": [],
   "source": [
    "import pandas as pd"
   ]
  },
  {
   "cell_type": "code",
   "execution_count": null,
   "metadata": {
    "collapsed": true
   },
   "outputs": [],
   "source": [
    "def convert_json_to_csv(json_file_dir, csv_file_dir):\n",
    "    \n",
    "    for filename in os.listdir(json_file_dir):\n",
    "        if filename.endswith('.json'):\n",
    "            try:\n",
    "                pd.read_json(os.path.join(json_file_dir, filename), lines=True).to_csv(os.path.join(csv_file_path, filename.replace('.json', '.csv')), encoding='utf-8', index=False)\n",
    "            except:\n",
    "                print filename + 'error\\n'\n",
    "                \n",
    "convert_json_to_csv('/home/amlanlimaye/yelp-dataset-challenge/data/raw/', '/home/amlanlimaye/yelp-dataset-challenge/data/interim/original_csv/')"
   ]
  },
  {
   "cell_type": "code",
   "execution_count": 5,
   "metadata": {
    "collapsed": false
   },
   "outputs": [
    {
     "name": "stdout",
     "output_type": "stream",
     "text": [
      "Once deleted, variables cannot be recovered. Proceed (y/[n])? y\n"
     ]
    }
   ],
   "source": [
    "# pd.read_json('../../data/raw/yelp_academic_dataset_business.json', lines=True).to_csv('../../data/interim/original_csv/business.csv', encoding='utf-8', index=False)\n",
    "# pd.read_json('../../data/raw/yelp_academic_dataset_checkin.json', lines=True).to_csv('../../data/interim/original_csv/checkin.csv', encoding='utf-8', index=False)\n",
    "# pd.read_json('../../data/raw/yelp_academic_dataset_review.json', lines=True).to_csv('../../data/interim/original_csv/review.csv', encoding='utf-8', index=False)\n",
    "# pd.read_json('../../data/raw/yelp_academic_dataset_tip.json', lines=True).to_csv('../../data/interim/original_csv/tip.csv', encoding='utf-8', index=False)\n",
    "# pd.read_json('../../data/raw/yelp_academic_dataset_user.json', lines=True).to_csv('../../data/interim/original_csv/user.csv', encoding='utf-8', index=False)"
   ]
  }
 ],
 "metadata": {
  "anaconda-cloud": {},
  "kernelspec": {
   "display_name": "Python [conda root]",
   "language": "python",
   "name": "conda-root-py"
  },
  "language_info": {
   "codemirror_mode": {
    "name": "ipython",
    "version": 2
   },
   "file_extension": ".py",
   "mimetype": "text/x-python",
   "name": "python",
   "nbconvert_exporter": "python",
   "pygments_lexer": "ipython2",
   "version": "2.7.12"
  }
 },
 "nbformat": 4,
 "nbformat_minor": 1
}
