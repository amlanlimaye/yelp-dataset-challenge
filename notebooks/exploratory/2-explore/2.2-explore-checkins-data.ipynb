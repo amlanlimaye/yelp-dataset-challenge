{
 "cells": [
  {
   "cell_type": "code",
   "execution_count": 4,
   "metadata": {
    "collapsed": false
   },
   "outputs": [
    {
     "name": "stdout",
     "output_type": "stream",
     "text": [
      "Once deleted, variables cannot be recovered. Proceed (y/[n])? y\n"
     ]
    }
   ],
   "source": [
    "%reset"
   ]
  },
  {
   "cell_type": "code",
   "execution_count": 1,
   "metadata": {
    "collapsed": true
   },
   "outputs": [],
   "source": [
    "import pandas as pd\n",
    "import seaborn as sns\n",
    "import numpy as np\n",
    "\n",
    "%matplotlib inline"
   ]
  },
  {
   "cell_type": "code",
   "execution_count": 2,
   "metadata": {
    "collapsed": true
   },
   "outputs": [],
   "source": [
    "checkin = pd.read_csv('../../../data/interim/clean_US_cities/checkin_clean.csv')"
   ]
  },
  {
   "cell_type": "code",
   "execution_count": 3,
   "metadata": {
    "collapsed": false
   },
   "outputs": [
    {
     "data": {
      "text/html": [
       "<div>\n",
       "<table border=\"1\" class=\"dataframe\">\n",
       "  <thead>\n",
       "    <tr style=\"text-align: right;\">\n",
       "      <th></th>\n",
       "      <th>business_id</th>\n",
       "      <th>time</th>\n",
       "      <th>type</th>\n",
       "    </tr>\n",
       "  </thead>\n",
       "  <tbody>\n",
       "    <tr>\n",
       "      <th>0</th>\n",
       "      <td>7KPBkxAOEtb3QeIL9PEErg</td>\n",
       "      <td>[Fri-0:2,  Sat-0:1,  Sun-0:1,  Wed-0:2,  Sat-1...</td>\n",
       "      <td>checkin</td>\n",
       "    </tr>\n",
       "    <tr>\n",
       "      <th>1</th>\n",
       "      <td>kREVIrSBbtqBhIYkTccQUg</td>\n",
       "      <td>[Mon-13:1,  Thu-13:1,  Sat-16:1,  Wed-17:1,  S...</td>\n",
       "      <td>checkin</td>\n",
       "    </tr>\n",
       "    <tr>\n",
       "      <th>2</th>\n",
       "      <td>nhZ1HGWD8lMErdn3FuWuTQ</td>\n",
       "      <td>[Fri-0:1,  Sat-0:1,  Sun-0:1,  Thu-0:1,  Wed-0...</td>\n",
       "      <td>checkin</td>\n",
       "    </tr>\n",
       "    <tr>\n",
       "      <th>3</th>\n",
       "      <td>8bY6M2yiWOF2ilfmGS34Fw</td>\n",
       "      <td>[Sat-11:1,  Fri-13:1,  Thu-14:1]</td>\n",
       "      <td>checkin</td>\n",
       "    </tr>\n",
       "    <tr>\n",
       "      <th>4</th>\n",
       "      <td>zNVot5_XHsxwfKdiFjk_aA</td>\n",
       "      <td>[Mon-0:1,  Fri-1:1,  Sun-1:1,  Tue-1:1,  Wed-1...</td>\n",
       "      <td>checkin</td>\n",
       "    </tr>\n",
       "  </tbody>\n",
       "</table>\n",
       "</div>"
      ],
      "text/plain": [
       "              business_id                                               time  \\\n",
       "0  7KPBkxAOEtb3QeIL9PEErg  [Fri-0:2,  Sat-0:1,  Sun-0:1,  Wed-0:2,  Sat-1...   \n",
       "1  kREVIrSBbtqBhIYkTccQUg  [Mon-13:1,  Thu-13:1,  Sat-16:1,  Wed-17:1,  S...   \n",
       "2  nhZ1HGWD8lMErdn3FuWuTQ  [Fri-0:1,  Sat-0:1,  Sun-0:1,  Thu-0:1,  Wed-0...   \n",
       "3  8bY6M2yiWOF2ilfmGS34Fw                   [Sat-11:1,  Fri-13:1,  Thu-14:1]   \n",
       "4  zNVot5_XHsxwfKdiFjk_aA  [Mon-0:1,  Fri-1:1,  Sun-1:1,  Tue-1:1,  Wed-1...   \n",
       "\n",
       "      type  \n",
       "0  checkin  \n",
       "1  checkin  \n",
       "2  checkin  \n",
       "3  checkin  \n",
       "4  checkin  "
      ]
     },
     "execution_count": 3,
     "metadata": {},
     "output_type": "execute_result"
    }
   ],
   "source": [
    "checkin.head()"
   ]
  },
  {
   "cell_type": "code",
   "execution_count": 19,
   "metadata": {
    "collapsed": false
   },
   "outputs": [
    {
     "name": "stdout",
     "output_type": "stream",
     "text": [
      "<class 'pandas.core.frame.DataFrame'>\n",
      "RangeIndex: 92070 entries, 0 to 92069\n",
      "Data columns (total 3 columns):\n",
      "business_id    92070 non-null object\n",
      "time           92070 non-null object\n",
      "type           92070 non-null object\n",
      "dtypes: object(3)\n",
      "memory usage: 2.1+ MB\n"
     ]
    }
   ],
   "source": [
    "checkin.info()"
   ]
  },
  {
   "cell_type": "code",
   "execution_count": 97,
   "metadata": {
    "collapsed": false
   },
   "outputs": [],
   "source": [
    "# Making columns aggregating checkins by day of week\n",
    "\n",
    "checkin['mon_list'] = checkins['time'].map(lambda x: [list_item for list_item in x[1:-1].split(',') if 'Mon' in list_item])\n",
    "checkin['tue_list'] = checkins['time'].map(lambda x: [list_item for list_item in x[1:-1].split(',') if 'Tue' in list_item])\n",
    "checkin['wed_list'] = checkins['time'].map(lambda x: [list_item for list_item in x[1:-1].split(',') if 'Wed' in list_item])\n",
    "checkin['thu_list'] = checkins['time'].map(lambda x: [list_item for list_item in x[1:-1].split(',') if 'Thu' in list_item])\n",
    "checkin['fri_list'] = checkins['time'].map(lambda x: [list_item for list_item in x[1:-1].split(',') if 'Fri' in list_item])\n",
    "checkin['sat_list'] = checkins['time'].map(lambda x: [list_item for list_item in x[1:-1].split(',') if 'Sat' in list_item])\n",
    "checkin['sun_list'] = checkins['time'].map(lambda x: [list_item for list_item in x[1:-1].split(',') if 'Sun' in list_item])"
   ]
  },
  {
   "cell_type": "code",
   "execution_count": 98,
   "metadata": {
    "collapsed": false
   },
   "outputs": [],
   "source": [
    "# Converting day of week lists to dictionaries so that # of checkins can be looked up by hour\n",
    "\n",
    "checkin['mon_list'] = checkin['mon_list'].map(lambda x: \n",
    "                                              {int(list_item.replace(' ', '').replace('Mon-', '').split(':')[0]):int(list_item.replace(' ', '').replace('Mon-', '').split(':')[1]) \n",
    "                                               for list_item in x})\n",
    "\n",
    "checkin['tue_list'] = checkin['tue_list'].map(lambda x: \n",
    "                                              {int(list_item.replace(' ', '').replace('Tue-', '').split(':')[0]):int(list_item.replace(' ', '').replace('Tue-', '').split(':')[1]) \n",
    "                                               for list_item in x})\n",
    "\n",
    "checkin['wed_list'] = checkin['wed_list'].map(lambda x: \n",
    "                                              {int(list_item.replace(' ', '').replace('Wed-', '').split(':')[0]):int(list_item.replace(' ', '').replace('Wed-', '').split(':')[1]) \n",
    "                                               for list_item in x})\n",
    "\n",
    "checkin['thu_list'] = checkin['thu_list'].map(lambda x: \n",
    "                                              {int(list_item.replace(' ', '').replace('Thu-', '').split(':')[0]):int(list_item.replace(' ', '').replace('Thu-', '').split(':')[1]) \n",
    "                                               for list_item in x})\n",
    "\n",
    "checkin['fri_list'] = checkin['fri_list'].map(lambda x: \n",
    "                                              {int(list_item.replace(' ', '').replace('Fri-', '').split(':')[0]):int(list_item.replace(' ', '').replace('Fri-', '').split(':')[1]) \n",
    "                                               for list_item in x})\n",
    "\n",
    "checkin['sat_list'] = checkin['sat_list'].map(lambda x: \n",
    "                                              {int(list_item.replace(' ', '').replace('Sat-', '').split(':')[0]):int(list_item.replace(' ', '').replace('Sat-', '').split(':')[1]) \n",
    "                                               for list_item in x})\n",
    "\n",
    "checkin['sun_list'] = checkin['sun_list'].map(lambda x: \n",
    "                                              {int(list_item.replace(' ', '').replace('Sun-', '').split(':')[0]):int(list_item.replace(' ', '').replace('Sun-', '').split(':')[1]) \n",
    "                                               for list_item in x})"
   ]
  },
  {
   "cell_type": "code",
   "execution_count": 102,
   "metadata": {
    "collapsed": false
   },
   "outputs": [
    {
     "data": {
      "text/html": [
       "<div>\n",
       "<table border=\"1\" class=\"dataframe\">\n",
       "  <thead>\n",
       "    <tr style=\"text-align: right;\">\n",
       "      <th></th>\n",
       "      <th>business_id</th>\n",
       "      <th>time</th>\n",
       "      <th>type</th>\n",
       "      <th>sat_list</th>\n",
       "      <th>mon_list</th>\n",
       "      <th>tue_list</th>\n",
       "      <th>wed_list</th>\n",
       "      <th>thu_list</th>\n",
       "      <th>fri_list</th>\n",
       "      <th>sun_list</th>\n",
       "    </tr>\n",
       "  </thead>\n",
       "  <tbody>\n",
       "    <tr>\n",
       "      <th>0</th>\n",
       "      <td>7KPBkxAOEtb3QeIL9PEErg</td>\n",
       "      <td>[Fri-0:2,   Sat-0:1,   Sun-0:1,   Wed-0:2,   S...</td>\n",
       "      <td>checkin</td>\n",
       "      <td>{0: 1, 1: 2, 2: 1, 10: 1, 12: 1, 13: 2, 14: 1,...</td>\n",
       "      <td>{11: 1, 12: 1, 18: 1, 19: 1, 20: 1, 23: 1}</td>\n",
       "      <td>{4: 1, 12: 1, 13: 2, 15: 1, 16: 1, 18: 2, 20: ...</td>\n",
       "      <td>{0: 2, 1: 1, 2: 1, 6: 1, 11: 2, 13: 2, 14: 1, ...</td>\n",
       "      <td>{1: 1, 2: 1, 4: 1, 13: 1, 15: 1, 19: 1, 20: 1,...</td>\n",
       "      <td>{0: 2, 3: 1, 10: 1, 14: 2, 15: 1, 16: 1, 18: 1...</td>\n",
       "      <td>{0: 1, 2: 2, 3: 3, 6: 1, 16: 1, 17: 1, 18: 1, ...</td>\n",
       "    </tr>\n",
       "    <tr>\n",
       "      <th>1</th>\n",
       "      <td>kREVIrSBbtqBhIYkTccQUg</td>\n",
       "      <td>[Mon-13:1,   Thu-13:1,   Sat-16:1,   Wed-17:1,...</td>\n",
       "      <td>checkin</td>\n",
       "      <td>{16: 1, 21: 1}</td>\n",
       "      <td>{13: 1}</td>\n",
       "      <td>{}</td>\n",
       "      <td>{17: 1}</td>\n",
       "      <td>{20: 1, 13: 1}</td>\n",
       "      <td>{}</td>\n",
       "      <td>{19: 1}</td>\n",
       "    </tr>\n",
       "    <tr>\n",
       "      <th>2</th>\n",
       "      <td>nhZ1HGWD8lMErdn3FuWuTQ</td>\n",
       "      <td>[Fri-0:1,   Sat-0:1,   Sun-0:1,   Thu-0:1,   W...</td>\n",
       "      <td>checkin</td>\n",
       "      <td>{0: 1, 1: 1, 3: 1, 17: 1, 20: 1, 22: 3, 23: 2}</td>\n",
       "      <td>{2: 1, 17: 1, 18: 1, 19: 1, 20: 3, 21: 1}</td>\n",
       "      <td>{1: 1, 23: 3, 22: 3, 17: 1}</td>\n",
       "      <td>{0: 1, 3: 1, 22: 1}</td>\n",
       "      <td>{0: 1, 2: 1, 3: 1, 20: 1, 21: 1}</td>\n",
       "      <td>{0: 1, 1: 1, 18: 1}</td>\n",
       "      <td>{0: 1, 17: 2, 2: 1, 18: 1, 22: 1}</td>\n",
       "    </tr>\n",
       "    <tr>\n",
       "      <th>3</th>\n",
       "      <td>8bY6M2yiWOF2ilfmGS34Fw</td>\n",
       "      <td>[Sat-11:1,   Fri-13:1,   Thu-14:1]</td>\n",
       "      <td>checkin</td>\n",
       "      <td>{11: 1}</td>\n",
       "      <td>{}</td>\n",
       "      <td>{}</td>\n",
       "      <td>{}</td>\n",
       "      <td>{14: 1}</td>\n",
       "      <td>{13: 1}</td>\n",
       "      <td>{}</td>\n",
       "    </tr>\n",
       "    <tr>\n",
       "      <th>4</th>\n",
       "      <td>zNVot5_XHsxwfKdiFjk_aA</td>\n",
       "      <td>[Mon-0:1,   Fri-1:1,   Sun-1:1,   Tue-1:1,   W...</td>\n",
       "      <td>checkin</td>\n",
       "      <td>{17: 1, 20: 2, 21: 1}</td>\n",
       "      <td>{0: 1}</td>\n",
       "      <td>{1: 1, 12: 1}</td>\n",
       "      <td>{11: 1, 23: 1}</td>\n",
       "      <td>{16: 1, 20: 2, 21: 1}</td>\n",
       "      <td>{1: 1, 18: 1, 12: 1, 13: 1, 20: 1}</td>\n",
       "      <td>{1: 1, 18: 1, 20: 1, 15: 1}</td>\n",
       "    </tr>\n",
       "  </tbody>\n",
       "</table>\n",
       "</div>"
      ],
      "text/plain": [
       "              business_id                                               time  \\\n",
       "0  7KPBkxAOEtb3QeIL9PEErg  [Fri-0:2,   Sat-0:1,   Sun-0:1,   Wed-0:2,   S...   \n",
       "1  kREVIrSBbtqBhIYkTccQUg  [Mon-13:1,   Thu-13:1,   Sat-16:1,   Wed-17:1,...   \n",
       "2  nhZ1HGWD8lMErdn3FuWuTQ  [Fri-0:1,   Sat-0:1,   Sun-0:1,   Thu-0:1,   W...   \n",
       "3  8bY6M2yiWOF2ilfmGS34Fw                 [Sat-11:1,   Fri-13:1,   Thu-14:1]   \n",
       "4  zNVot5_XHsxwfKdiFjk_aA  [Mon-0:1,   Fri-1:1,   Sun-1:1,   Tue-1:1,   W...   \n",
       "\n",
       "      type                                           sat_list  \\\n",
       "0  checkin  {0: 1, 1: 2, 2: 1, 10: 1, 12: 1, 13: 2, 14: 1,...   \n",
       "1  checkin                                     {16: 1, 21: 1}   \n",
       "2  checkin     {0: 1, 1: 1, 3: 1, 17: 1, 20: 1, 22: 3, 23: 2}   \n",
       "3  checkin                                            {11: 1}   \n",
       "4  checkin                              {17: 1, 20: 2, 21: 1}   \n",
       "\n",
       "                                     mon_list  \\\n",
       "0  {11: 1, 12: 1, 18: 1, 19: 1, 20: 1, 23: 1}   \n",
       "1                                     {13: 1}   \n",
       "2   {2: 1, 17: 1, 18: 1, 19: 1, 20: 3, 21: 1}   \n",
       "3                                          {}   \n",
       "4                                      {0: 1}   \n",
       "\n",
       "                                            tue_list  \\\n",
       "0  {4: 1, 12: 1, 13: 2, 15: 1, 16: 1, 18: 2, 20: ...   \n",
       "1                                                 {}   \n",
       "2                        {1: 1, 23: 3, 22: 3, 17: 1}   \n",
       "3                                                 {}   \n",
       "4                                      {1: 1, 12: 1}   \n",
       "\n",
       "                                            wed_list  \\\n",
       "0  {0: 2, 1: 1, 2: 1, 6: 1, 11: 2, 13: 2, 14: 1, ...   \n",
       "1                                            {17: 1}   \n",
       "2                                {0: 1, 3: 1, 22: 1}   \n",
       "3                                                 {}   \n",
       "4                                     {11: 1, 23: 1}   \n",
       "\n",
       "                                            thu_list  \\\n",
       "0  {1: 1, 2: 1, 4: 1, 13: 1, 15: 1, 19: 1, 20: 1,...   \n",
       "1                                     {20: 1, 13: 1}   \n",
       "2                   {0: 1, 2: 1, 3: 1, 20: 1, 21: 1}   \n",
       "3                                            {14: 1}   \n",
       "4                              {16: 1, 20: 2, 21: 1}   \n",
       "\n",
       "                                            fri_list  \\\n",
       "0  {0: 2, 3: 1, 10: 1, 14: 2, 15: 1, 16: 1, 18: 1...   \n",
       "1                                                 {}   \n",
       "2                                {0: 1, 1: 1, 18: 1}   \n",
       "3                                            {13: 1}   \n",
       "4                 {1: 1, 18: 1, 12: 1, 13: 1, 20: 1}   \n",
       "\n",
       "                                            sun_list  \n",
       "0  {0: 1, 2: 2, 3: 3, 6: 1, 16: 1, 17: 1, 18: 1, ...  \n",
       "1                                            {19: 1}  \n",
       "2                  {0: 1, 17: 2, 2: 1, 18: 1, 22: 1}  \n",
       "3                                                 {}  \n",
       "4                        {1: 1, 18: 1, 20: 1, 15: 1}  "
      ]
     },
     "execution_count": 102,
     "metadata": {},
     "output_type": "execute_result"
    }
   ],
   "source": [
    "checkin.head()"
   ]
  }
 ],
 "metadata": {
  "anaconda-cloud": {},
  "kernelspec": {
   "display_name": "Python [conda root]",
   "language": "python",
   "name": "conda-root-py"
  },
  "language_info": {
   "codemirror_mode": {
    "name": "ipython",
    "version": 2
   },
   "file_extension": ".py",
   "mimetype": "text/x-python",
   "name": "python",
   "nbconvert_exporter": "python",
   "pygments_lexer": "ipython2",
   "version": "2.7.12"
  }
 },
 "nbformat": 4,
 "nbformat_minor": 1
}
