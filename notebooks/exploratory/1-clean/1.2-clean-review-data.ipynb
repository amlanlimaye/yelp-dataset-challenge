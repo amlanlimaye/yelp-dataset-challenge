{
 "cells": [
  {
   "cell_type": "code",
   "execution_count": 1,
   "metadata": {
    "collapsed": true
   },
   "outputs": [],
   "source": [
    "import pandas as pd"
   ]
  },
  {
   "cell_type": "code",
   "execution_count": 2,
   "metadata": {
    "collapsed": true
   },
   "outputs": [],
   "source": [
    "review = pd.read_csv('../../../data/interim/US_cities_only/review_US.csv')"
   ]
  },
  {
   "cell_type": "code",
   "execution_count": 45,
   "metadata": {
    "collapsed": false
   },
   "outputs": [
    {
     "data": {
      "text/html": [
       "<div>\n",
       "<table border=\"1\" class=\"dataframe\">\n",
       "  <thead>\n",
       "    <tr style=\"text-align: right;\">\n",
       "      <th></th>\n",
       "      <th>business_id</th>\n",
       "      <th>cool</th>\n",
       "      <th>date</th>\n",
       "      <th>funny</th>\n",
       "      <th>review_id</th>\n",
       "      <th>stars</th>\n",
       "      <th>text</th>\n",
       "      <th>type</th>\n",
       "      <th>useful</th>\n",
       "      <th>user_id</th>\n",
       "    </tr>\n",
       "  </thead>\n",
       "  <tbody>\n",
       "    <tr>\n",
       "      <th>0</th>\n",
       "      <td>2aFiy99vNLklCx3T_tGS9A</td>\n",
       "      <td>0</td>\n",
       "      <td>2011-10-10</td>\n",
       "      <td>0</td>\n",
       "      <td>NxL8SIC5yqOdnlXCg18IBg</td>\n",
       "      <td>5.0</td>\n",
       "      <td>If you enjoy service by someone who is as comp...</td>\n",
       "      <td>review</td>\n",
       "      <td>0</td>\n",
       "      <td>KpkOkG6RIf4Ra25Lhhxf1A</td>\n",
       "    </tr>\n",
       "    <tr>\n",
       "      <th>1</th>\n",
       "      <td>2aFiy99vNLklCx3T_tGS9A</td>\n",
       "      <td>0</td>\n",
       "      <td>2010-12-29</td>\n",
       "      <td>0</td>\n",
       "      <td>pXbbIgOXvLuTi_SPs1hQEQ</td>\n",
       "      <td>5.0</td>\n",
       "      <td>After being on the phone with Verizon Wireless...</td>\n",
       "      <td>review</td>\n",
       "      <td>1</td>\n",
       "      <td>bQ7fQq1otn9hKX-gXRsrgA</td>\n",
       "    </tr>\n",
       "    <tr>\n",
       "      <th>2</th>\n",
       "      <td>2aFiy99vNLklCx3T_tGS9A</td>\n",
       "      <td>0</td>\n",
       "      <td>2011-04-29</td>\n",
       "      <td>0</td>\n",
       "      <td>wslW2Lu4NYylb1jEapAGsw</td>\n",
       "      <td>5.0</td>\n",
       "      <td>Great service! Corey is very service oriented....</td>\n",
       "      <td>review</td>\n",
       "      <td>0</td>\n",
       "      <td>r1NUhdNmL6yU9Bn-Yx6FTw</td>\n",
       "    </tr>\n",
       "    <tr>\n",
       "      <th>3</th>\n",
       "      <td>2LfIuF3_sX6uwe-IR-P0jQ</td>\n",
       "      <td>1</td>\n",
       "      <td>2014-07-14</td>\n",
       "      <td>0</td>\n",
       "      <td>GP6YEearUWrzPtQYSF1vVg</td>\n",
       "      <td>5.0</td>\n",
       "      <td>Highly recommended. Went in yesterday looking ...</td>\n",
       "      <td>review</td>\n",
       "      <td>0</td>\n",
       "      <td>aW3ix1KNZAvoM8q-WghA3Q</td>\n",
       "    </tr>\n",
       "    <tr>\n",
       "      <th>4</th>\n",
       "      <td>2LfIuF3_sX6uwe-IR-P0jQ</td>\n",
       "      <td>0</td>\n",
       "      <td>2014-01-15</td>\n",
       "      <td>0</td>\n",
       "      <td>25RlYGq2s5qShi-pn3ufVA</td>\n",
       "      <td>4.0</td>\n",
       "      <td>I walked in here looking for a specific piece ...</td>\n",
       "      <td>review</td>\n",
       "      <td>0</td>\n",
       "      <td>YOo-Cip8HqvKp_p9nEGphw</td>\n",
       "    </tr>\n",
       "  </tbody>\n",
       "</table>\n",
       "</div>"
      ],
      "text/plain": [
       "              business_id  cool       date  funny               review_id  \\\n",
       "0  2aFiy99vNLklCx3T_tGS9A     0 2011-10-10      0  NxL8SIC5yqOdnlXCg18IBg   \n",
       "1  2aFiy99vNLklCx3T_tGS9A     0 2010-12-29      0  pXbbIgOXvLuTi_SPs1hQEQ   \n",
       "2  2aFiy99vNLklCx3T_tGS9A     0 2011-04-29      0  wslW2Lu4NYylb1jEapAGsw   \n",
       "3  2LfIuF3_sX6uwe-IR-P0jQ     1 2014-07-14      0  GP6YEearUWrzPtQYSF1vVg   \n",
       "4  2LfIuF3_sX6uwe-IR-P0jQ     0 2014-01-15      0  25RlYGq2s5qShi-pn3ufVA   \n",
       "\n",
       "   stars                                               text    type  useful  \\\n",
       "0    5.0  If you enjoy service by someone who is as comp...  review       0   \n",
       "1    5.0  After being on the phone with Verizon Wireless...  review       1   \n",
       "2    5.0  Great service! Corey is very service oriented....  review       0   \n",
       "3    5.0  Highly recommended. Went in yesterday looking ...  review       0   \n",
       "4    4.0  I walked in here looking for a specific piece ...  review       0   \n",
       "\n",
       "                  user_id  \n",
       "0  KpkOkG6RIf4Ra25Lhhxf1A  \n",
       "1  bQ7fQq1otn9hKX-gXRsrgA  \n",
       "2  r1NUhdNmL6yU9Bn-Yx6FTw  \n",
       "3  aW3ix1KNZAvoM8q-WghA3Q  \n",
       "4  YOo-Cip8HqvKp_p9nEGphw  "
      ]
     },
     "execution_count": 45,
     "metadata": {},
     "output_type": "execute_result"
    }
   ],
   "source": [
    "review.head()"
   ]
  },
  {
   "cell_type": "code",
   "execution_count": 44,
   "metadata": {
    "collapsed": false
   },
   "outputs": [
    {
     "name": "stdout",
     "output_type": "stream",
     "text": [
      "<class 'pandas.core.frame.DataFrame'>\n",
      "RangeIndex: 3457015 entries, 0 to 3457014\n",
      "Data columns (total 10 columns):\n",
      "business_id    object\n",
      "cool           int64\n",
      "date           datetime64[ns]\n",
      "funny          int64\n",
      "review_id      object\n",
      "stars          float64\n",
      "text           object\n",
      "type           object\n",
      "useful         int64\n",
      "user_id        object\n",
      "dtypes: datetime64[ns](1), float64(1), int64(3), object(5)\n",
      "memory usage: 263.7+ MB\n"
     ]
    }
   ],
   "source": [
    "review.info()"
   ]
  },
  {
   "cell_type": "code",
   "execution_count": 38,
   "metadata": {
    "collapsed": false
   },
   "outputs": [
    {
     "data": {
      "text/html": [
       "<div>\n",
       "<table border=\"1\" class=\"dataframe\">\n",
       "  <thead>\n",
       "    <tr style=\"text-align: right;\">\n",
       "      <th></th>\n",
       "      <th>cool</th>\n",
       "      <th>funny</th>\n",
       "      <th>stars</th>\n",
       "      <th>useful</th>\n",
       "    </tr>\n",
       "  </thead>\n",
       "  <tbody>\n",
       "    <tr>\n",
       "      <th>count</th>\n",
       "      <td>3.457015e+06</td>\n",
       "      <td>3.457015e+06</td>\n",
       "      <td>3.457015e+06</td>\n",
       "      <td>3.457015e+06</td>\n",
       "    </tr>\n",
       "    <tr>\n",
       "      <th>mean</th>\n",
       "      <td>5.461839e-01</td>\n",
       "      <td>4.455893e-01</td>\n",
       "      <td>3.741661e+00</td>\n",
       "      <td>1.048886e+00</td>\n",
       "    </tr>\n",
       "    <tr>\n",
       "      <th>std</th>\n",
       "      <td>2.035434e+00</td>\n",
       "      <td>1.832262e+00</td>\n",
       "      <td>1.428476e+00</td>\n",
       "      <td>2.744492e+00</td>\n",
       "    </tr>\n",
       "    <tr>\n",
       "      <th>min</th>\n",
       "      <td>0.000000e+00</td>\n",
       "      <td>0.000000e+00</td>\n",
       "      <td>1.000000e+00</td>\n",
       "      <td>0.000000e+00</td>\n",
       "    </tr>\n",
       "    <tr>\n",
       "      <th>25%</th>\n",
       "      <td>0.000000e+00</td>\n",
       "      <td>0.000000e+00</td>\n",
       "      <td>3.000000e+00</td>\n",
       "      <td>0.000000e+00</td>\n",
       "    </tr>\n",
       "    <tr>\n",
       "      <th>50%</th>\n",
       "      <td>0.000000e+00</td>\n",
       "      <td>0.000000e+00</td>\n",
       "      <td>4.000000e+00</td>\n",
       "      <td>0.000000e+00</td>\n",
       "    </tr>\n",
       "    <tr>\n",
       "      <th>75%</th>\n",
       "      <td>0.000000e+00</td>\n",
       "      <td>0.000000e+00</td>\n",
       "      <td>5.000000e+00</td>\n",
       "      <td>1.000000e+00</td>\n",
       "    </tr>\n",
       "    <tr>\n",
       "      <th>max</th>\n",
       "      <td>5.130000e+02</td>\n",
       "      <td>6.320000e+02</td>\n",
       "      <td>5.000000e+00</td>\n",
       "      <td>1.125000e+03</td>\n",
       "    </tr>\n",
       "  </tbody>\n",
       "</table>\n",
       "</div>"
      ],
      "text/plain": [
       "               cool         funny         stars        useful\n",
       "count  3.457015e+06  3.457015e+06  3.457015e+06  3.457015e+06\n",
       "mean   5.461839e-01  4.455893e-01  3.741661e+00  1.048886e+00\n",
       "std    2.035434e+00  1.832262e+00  1.428476e+00  2.744492e+00\n",
       "min    0.000000e+00  0.000000e+00  1.000000e+00  0.000000e+00\n",
       "25%    0.000000e+00  0.000000e+00  3.000000e+00  0.000000e+00\n",
       "50%    0.000000e+00  0.000000e+00  4.000000e+00  0.000000e+00\n",
       "75%    0.000000e+00  0.000000e+00  5.000000e+00  1.000000e+00\n",
       "max    5.130000e+02  6.320000e+02  5.000000e+00  1.125000e+03"
      ]
     },
     "execution_count": 38,
     "metadata": {},
     "output_type": "execute_result"
    }
   ],
   "source": [
    "review.describe()"
   ]
  },
  {
   "cell_type": "code",
   "execution_count": 3,
   "metadata": {
    "collapsed": false
   },
   "outputs": [],
   "source": [
    "# Cleaning the 'date' column\n",
    "\n",
    "review['date'] = pd.to_datetime(review['date'])"
   ]
  },
  {
   "cell_type": "code",
   "execution_count": 4,
   "metadata": {
    "collapsed": false
   },
   "outputs": [],
   "source": [
    "# Cleaning the 'useful' column\n",
    "\n",
    "review['useful'] = review['useful'].fillna(0)\n",
    "review['useful'] = review['useful'].map(int)"
   ]
  },
  {
   "cell_type": "code",
   "execution_count": 13,
   "metadata": {
    "collapsed": true
   },
   "outputs": [],
   "source": [
    "# Reading clean vegas_three_years reviews and writing 2016 reviews\n",
    "\n",
    "review = pd.read_csv('../../../data/interim/clean_US_cities/reviews_vegas_threeyears.csv')\n",
    "review['date'] = pd.to_datetime(review['date'])\n",
    "review = review.loc[review['date'] > '2015-12-31']\n",
    "review.to_csv('../../../data/interim/clean_US_cities/2016_review.csv', encoding='utf-8', index=False)"
   ]
  },
  {
   "cell_type": "code",
   "execution_count": 46,
   "metadata": {
    "collapsed": true
   },
   "outputs": [],
   "source": [
    "# Writing clean 'review' dataframe to csv\n",
    "\n",
    "review.to_csv('../../../data/interim/clean_US_cities/review_clean.csv', encoding='utf-8', index=False)"
   ]
  }
 ],
 "metadata": {
  "anaconda-cloud": {},
  "kernelspec": {
   "display_name": "Python [conda root]",
   "language": "python",
   "name": "conda-root-py"
  },
  "language_info": {
   "codemirror_mode": {
    "name": "ipython",
    "version": 2
   },
   "file_extension": ".py",
   "mimetype": "text/x-python",
   "name": "python",
   "nbconvert_exporter": "python",
   "pygments_lexer": "ipython2",
   "version": "2.7.12"
  }
 },
 "nbformat": 4,
 "nbformat_minor": 1
}
