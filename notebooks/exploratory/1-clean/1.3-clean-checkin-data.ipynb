{
 "cells": [
  {
   "cell_type": "code",
   "execution_count": 1,
   "metadata": {
    "collapsed": true
   },
   "outputs": [],
   "source": [
    "import pandas as pd"
   ]
  },
  {
   "cell_type": "code",
   "execution_count": 2,
   "metadata": {
    "collapsed": true
   },
   "outputs": [],
   "source": [
    "checkin = pd.read_csv('../../../data/interim/US_cities_only/checkin_US.csv')"
   ]
  },
  {
   "cell_type": "code",
   "execution_count": 3,
   "metadata": {
    "collapsed": false
   },
   "outputs": [
    {
     "data": {
      "text/html": [
       "<div>\n",
       "<table border=\"1\" class=\"dataframe\">\n",
       "  <thead>\n",
       "    <tr style=\"text-align: right;\">\n",
       "      <th></th>\n",
       "      <th>business_id</th>\n",
       "      <th>time</th>\n",
       "      <th>type</th>\n",
       "    </tr>\n",
       "  </thead>\n",
       "  <tbody>\n",
       "    <tr>\n",
       "      <th>0</th>\n",
       "      <td>7KPBkxAOEtb3QeIL9PEErg</td>\n",
       "      <td>[Fri-0:2, Sat-0:1, Sun-0:1, Wed-0:2, Sat-1:2, ...</td>\n",
       "      <td>checkin</td>\n",
       "    </tr>\n",
       "    <tr>\n",
       "      <th>1</th>\n",
       "      <td>kREVIrSBbtqBhIYkTccQUg</td>\n",
       "      <td>[Mon-13:1, Thu-13:1, Sat-16:1, Wed-17:1, Sun-1...</td>\n",
       "      <td>checkin</td>\n",
       "    </tr>\n",
       "    <tr>\n",
       "      <th>2</th>\n",
       "      <td>nhZ1HGWD8lMErdn3FuWuTQ</td>\n",
       "      <td>[Fri-0:1, Sat-0:1, Sun-0:1, Thu-0:1, Wed-0:1, ...</td>\n",
       "      <td>checkin</td>\n",
       "    </tr>\n",
       "    <tr>\n",
       "      <th>3</th>\n",
       "      <td>8bY6M2yiWOF2ilfmGS34Fw</td>\n",
       "      <td>[Sat-11:1, Fri-13:1, Thu-14:1]</td>\n",
       "      <td>checkin</td>\n",
       "    </tr>\n",
       "    <tr>\n",
       "      <th>4</th>\n",
       "      <td>zNVot5_XHsxwfKdiFjk_aA</td>\n",
       "      <td>[Mon-0:1, Fri-1:1, Sun-1:1, Tue-1:1, Wed-11:1,...</td>\n",
       "      <td>checkin</td>\n",
       "    </tr>\n",
       "  </tbody>\n",
       "</table>\n",
       "</div>"
      ],
      "text/plain": [
       "              business_id                                               time  \\\n",
       "0  7KPBkxAOEtb3QeIL9PEErg  [Fri-0:2, Sat-0:1, Sun-0:1, Wed-0:2, Sat-1:2, ...   \n",
       "1  kREVIrSBbtqBhIYkTccQUg  [Mon-13:1, Thu-13:1, Sat-16:1, Wed-17:1, Sun-1...   \n",
       "2  nhZ1HGWD8lMErdn3FuWuTQ  [Fri-0:1, Sat-0:1, Sun-0:1, Thu-0:1, Wed-0:1, ...   \n",
       "3  8bY6M2yiWOF2ilfmGS34Fw                     [Sat-11:1, Fri-13:1, Thu-14:1]   \n",
       "4  zNVot5_XHsxwfKdiFjk_aA  [Mon-0:1, Fri-1:1, Sun-1:1, Tue-1:1, Wed-11:1,...   \n",
       "\n",
       "      type  \n",
       "0  checkin  \n",
       "1  checkin  \n",
       "2  checkin  \n",
       "3  checkin  \n",
       "4  checkin  "
      ]
     },
     "execution_count": 3,
     "metadata": {},
     "output_type": "execute_result"
    }
   ],
   "source": [
    "checkin.head()"
   ]
  },
  {
   "cell_type": "code",
   "execution_count": 4,
   "metadata": {
    "collapsed": true
   },
   "outputs": [],
   "source": [
    "# Cleaning 'time' column\n",
    "\n",
    "checkin['time'] = checkin['time'].map(lambda x: x[1:-1].split(','))"
   ]
  },
  {
   "cell_type": "code",
   "execution_count": 5,
   "metadata": {
    "collapsed": true
   },
   "outputs": [],
   "source": [
    "# Writing clean 'checkin' dataframe to csv\n",
    "\n",
    "checkin.to_csv('../../../data/interim/clean_US_cities/checkin_clean.csv', encoding='utf-8', index=False)"
   ]
  }
 ],
 "metadata": {
  "anaconda-cloud": {},
  "kernelspec": {
   "display_name": "Python [conda root]",
   "language": "python",
   "name": "conda-root-py"
  },
  "language_info": {
   "codemirror_mode": {
    "name": "ipython",
    "version": 2
   },
   "file_extension": ".py",
   "mimetype": "text/x-python",
   "name": "python",
   "nbconvert_exporter": "python",
   "pygments_lexer": "ipython2",
   "version": "2.7.12"
  }
 },
 "nbformat": 4,
 "nbformat_minor": 1
}
