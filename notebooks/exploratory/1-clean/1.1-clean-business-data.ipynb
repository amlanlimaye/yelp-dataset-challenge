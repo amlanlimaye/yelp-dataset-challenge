{
 "cells": [
  {
   "cell_type": "code",
   "execution_count": 74,
   "metadata": {
    "collapsed": false
   },
   "outputs": [
    {
     "name": "stdout",
     "output_type": "stream",
     "text": [
      "Once deleted, variables cannot be recovered. Proceed (y/[n])? y\n"
     ]
    }
   ],
   "source": [
    "%reset"
   ]
  },
  {
   "cell_type": "code",
   "execution_count": 1,
   "metadata": {
    "collapsed": false
   },
   "outputs": [],
   "source": [
    "import pandas as pd\n",
    "import re # for regular expressions\n",
    "import ast\n",
    "import json"
   ]
  },
  {
   "cell_type": "code",
   "execution_count": 2,
   "metadata": {
    "collapsed": false
   },
   "outputs": [],
   "source": [
    "business = pd.read_csv('../../../data/interim/US_cities_only/business_US.csv', encoding='utf-8')"
   ]
  },
  {
   "cell_type": "code",
   "execution_count": 3,
   "metadata": {
    "collapsed": false
   },
   "outputs": [
    {
     "name": "stdout",
     "output_type": "stream",
     "text": [
      "<class 'pandas.core.frame.DataFrame'>\n",
      "RangeIndex: 105893 entries, 0 to 105892\n",
      "Data columns (total 16 columns):\n",
      "address         101952 non-null object\n",
      "attributes      92729 non-null object\n",
      "business_id     105893 non-null object\n",
      "categories      105628 non-null object\n",
      "city            105893 non-null object\n",
      "hours           77042 non-null object\n",
      "is_open         105893 non-null int64\n",
      "latitude        105893 non-null float64\n",
      "longitude       105893 non-null float64\n",
      "name            105893 non-null object\n",
      "neighborhood    32444 non-null object\n",
      "postal_code     105355 non-null float64\n",
      "review_count    105893 non-null int64\n",
      "stars           105893 non-null float64\n",
      "state           105893 non-null object\n",
      "type            105893 non-null object\n",
      "dtypes: float64(4), int64(2), object(10)\n",
      "memory usage: 12.9+ MB\n"
     ]
    }
   ],
   "source": [
    "business.info()"
   ]
  },
  {
   "cell_type": "code",
   "execution_count": 79,
   "metadata": {
    "collapsed": false
   },
   "outputs": [
    {
     "data": {
      "text/plain": [
       "0"
      ]
     },
     "execution_count": 79,
     "metadata": {},
     "output_type": "execute_result"
    }
   ],
   "source": [
    "len(business['attributes'][business['attributes'] == '{}'])"
   ]
  },
  {
   "cell_type": "code",
   "execution_count": 78,
   "metadata": {
    "collapsed": false,
    "scrolled": true
   },
   "outputs": [
    {
     "data": {
      "text/html": [
       "<div>\n",
       "<table border=\"1\" class=\"dataframe\">\n",
       "  <thead>\n",
       "    <tr style=\"text-align: right;\">\n",
       "      <th></th>\n",
       "      <th>address</th>\n",
       "      <th>attributes</th>\n",
       "      <th>business_id</th>\n",
       "      <th>categories</th>\n",
       "      <th>city</th>\n",
       "      <th>hours</th>\n",
       "      <th>is_open</th>\n",
       "      <th>latitude</th>\n",
       "      <th>longitude</th>\n",
       "      <th>name</th>\n",
       "      <th>neighborhood</th>\n",
       "      <th>postal_code</th>\n",
       "      <th>review_count</th>\n",
       "      <th>stars</th>\n",
       "      <th>state</th>\n",
       "      <th>type</th>\n",
       "    </tr>\n",
       "  </thead>\n",
       "  <tbody>\n",
       "    <tr>\n",
       "      <th>0</th>\n",
       "      <td>227 E Baseline Rd, Ste J2</td>\n",
       "      <td>[BikeParking: True, BusinessAcceptsBitcoin: Fa...</td>\n",
       "      <td>0DI8Dt2PJp07XkVvIElIcQ</td>\n",
       "      <td>[Tobacco Shops, Nightlife, Vape Shops, Shopping]</td>\n",
       "      <td>Tempe</td>\n",
       "      <td>[Monday 11:0-21:0, Tuesday 11:0-21:0, Wednesda...</td>\n",
       "      <td>0</td>\n",
       "      <td>33.378214</td>\n",
       "      <td>-111.936102</td>\n",
       "      <td>Innovative Vapors</td>\n",
       "      <td>NaN</td>\n",
       "      <td>85283.0</td>\n",
       "      <td>17</td>\n",
       "      <td>4.5</td>\n",
       "      <td>AZ</td>\n",
       "      <td>business</td>\n",
       "    </tr>\n",
       "    <tr>\n",
       "      <th>1</th>\n",
       "      <td>495 S Grand Central Pkwy</td>\n",
       "      <td>[BusinessAcceptsBitcoin: False, BusinessAccept...</td>\n",
       "      <td>LTlCaCGZE14GuaUXUGbamg</td>\n",
       "      <td>[Caterers, Grocery, Food, Event Planning &amp; Ser...</td>\n",
       "      <td>Las Vegas</td>\n",
       "      <td>[Monday 0:0-0:0, Tuesday 0:0-0:0, Wednesday 0:...</td>\n",
       "      <td>1</td>\n",
       "      <td>36.192284</td>\n",
       "      <td>-115.159272</td>\n",
       "      <td>Cut and Taste</td>\n",
       "      <td>NaN</td>\n",
       "      <td>89106.0</td>\n",
       "      <td>9</td>\n",
       "      <td>5.0</td>\n",
       "      <td>NV</td>\n",
       "      <td>business</td>\n",
       "    </tr>\n",
       "    <tr>\n",
       "      <th>2</th>\n",
       "      <td>7014 Steubenville Pike</td>\n",
       "      <td>[AcceptsInsurance: False, BusinessAcceptsCredi...</td>\n",
       "      <td>cnGIivYRLxpF7tBVR_JwWA</td>\n",
       "      <td>[Hair Removal, Beauty &amp; Spas, Blow Dry/Out Ser...</td>\n",
       "      <td>Oakdale</td>\n",
       "      <td>[Tuesday 10:0-21:0, Wednesday 10:0-21:0, Thurs...</td>\n",
       "      <td>1</td>\n",
       "      <td>40.444544</td>\n",
       "      <td>-80.174540</td>\n",
       "      <td>Plush Salon and Spa</td>\n",
       "      <td>NaN</td>\n",
       "      <td>15071.0</td>\n",
       "      <td>4</td>\n",
       "      <td>4.0</td>\n",
       "      <td>PA</td>\n",
       "      <td>business</td>\n",
       "    </tr>\n",
       "    <tr>\n",
       "      <th>3</th>\n",
       "      <td>10875 N Frankloyd Wright Blvd</td>\n",
       "      <td>[BikeParking: True, BusinessAcceptsCreditCards...</td>\n",
       "      <td>Cu4_Fheh7IrzGiK-Pc79ig</td>\n",
       "      <td>[Baby Gear &amp; Furniture, Shopping]</td>\n",
       "      <td>Scottsdale</td>\n",
       "      <td>[Monday 10:0-18:0, Tuesday 10:0-18:0, Wednesda...</td>\n",
       "      <td>1</td>\n",
       "      <td>33.585271</td>\n",
       "      <td>-111.834954</td>\n",
       "      <td>Boomerang Baby</td>\n",
       "      <td>NaN</td>\n",
       "      <td>85259.0</td>\n",
       "      <td>8</td>\n",
       "      <td>3.5</td>\n",
       "      <td>AZ</td>\n",
       "      <td>business</td>\n",
       "    </tr>\n",
       "    <tr>\n",
       "      <th>4</th>\n",
       "      <td>11072 No Frank Lloyd Wright</td>\n",
       "      <td>[Alcohol: none, Ambience: {'romantic': False, ...</td>\n",
       "      <td>GDnbt3isfhd57T1QqU6flg</td>\n",
       "      <td>[Tex-Mex, Mexican, Fast Food, Restaurants]</td>\n",
       "      <td>Scottsdale</td>\n",
       "      <td>[Monday 10:0-22:0, Tuesday 10:0-22:0, Wednesda...</td>\n",
       "      <td>1</td>\n",
       "      <td>33.586710</td>\n",
       "      <td>-111.835410</td>\n",
       "      <td>Taco Bell</td>\n",
       "      <td>NaN</td>\n",
       "      <td>85259.0</td>\n",
       "      <td>9</td>\n",
       "      <td>2.5</td>\n",
       "      <td>AZ</td>\n",
       "      <td>business</td>\n",
       "    </tr>\n",
       "  </tbody>\n",
       "</table>\n",
       "</div>"
      ],
      "text/plain": [
       "                         address  \\\n",
       "0      227 E Baseline Rd, Ste J2   \n",
       "1       495 S Grand Central Pkwy   \n",
       "2         7014 Steubenville Pike   \n",
       "3  10875 N Frankloyd Wright Blvd   \n",
       "4    11072 No Frank Lloyd Wright   \n",
       "\n",
       "                                          attributes             business_id  \\\n",
       "0  [BikeParking: True, BusinessAcceptsBitcoin: Fa...  0DI8Dt2PJp07XkVvIElIcQ   \n",
       "1  [BusinessAcceptsBitcoin: False, BusinessAccept...  LTlCaCGZE14GuaUXUGbamg   \n",
       "2  [AcceptsInsurance: False, BusinessAcceptsCredi...  cnGIivYRLxpF7tBVR_JwWA   \n",
       "3  [BikeParking: True, BusinessAcceptsCreditCards...  Cu4_Fheh7IrzGiK-Pc79ig   \n",
       "4  [Alcohol: none, Ambience: {'romantic': False, ...  GDnbt3isfhd57T1QqU6flg   \n",
       "\n",
       "                                          categories        city  \\\n",
       "0   [Tobacco Shops, Nightlife, Vape Shops, Shopping]       Tempe   \n",
       "1  [Caterers, Grocery, Food, Event Planning & Ser...   Las Vegas   \n",
       "2  [Hair Removal, Beauty & Spas, Blow Dry/Out Ser...     Oakdale   \n",
       "3                  [Baby Gear & Furniture, Shopping]  Scottsdale   \n",
       "4         [Tex-Mex, Mexican, Fast Food, Restaurants]  Scottsdale   \n",
       "\n",
       "                                               hours  is_open   latitude  \\\n",
       "0  [Monday 11:0-21:0, Tuesday 11:0-21:0, Wednesda...        0  33.378214   \n",
       "1  [Monday 0:0-0:0, Tuesday 0:0-0:0, Wednesday 0:...        1  36.192284   \n",
       "2  [Tuesday 10:0-21:0, Wednesday 10:0-21:0, Thurs...        1  40.444544   \n",
       "3  [Monday 10:0-18:0, Tuesday 10:0-18:0, Wednesda...        1  33.585271   \n",
       "4  [Monday 10:0-22:0, Tuesday 10:0-22:0, Wednesda...        1  33.586710   \n",
       "\n",
       "    longitude                 name neighborhood  postal_code  review_count  \\\n",
       "0 -111.936102    Innovative Vapors          NaN      85283.0            17   \n",
       "1 -115.159272        Cut and Taste          NaN      89106.0             9   \n",
       "2  -80.174540  Plush Salon and Spa          NaN      15071.0             4   \n",
       "3 -111.834954       Boomerang Baby          NaN      85259.0             8   \n",
       "4 -111.835410            Taco Bell          NaN      85259.0             9   \n",
       "\n",
       "   stars state      type  \n",
       "0    4.5    AZ  business  \n",
       "1    5.0    NV  business  \n",
       "2    4.0    PA  business  \n",
       "3    3.5    AZ  business  \n",
       "4    2.5    AZ  business  "
      ]
     },
     "execution_count": 78,
     "metadata": {},
     "output_type": "execute_result"
    }
   ],
   "source": [
    "business.head()"
   ]
  },
  {
   "cell_type": "code",
   "execution_count": 3,
   "metadata": {
    "collapsed": false
   },
   "outputs": [
    {
     "data": {
      "text/plain": [
       "u\"[BikeParking: True, BusinessAcceptsBitcoin: False, BusinessAcceptsCreditCards: True, BusinessParking: {'garage': False, 'street': False, 'validated': False, 'lot': True, 'valet': False}, DogsAllowed: False, RestaurantsPriceRange2: 2, WheelchairAccessible: True]\""
      ]
     },
     "execution_count": 3,
     "metadata": {},
     "output_type": "execute_result"
    }
   ],
   "source": [
    "business['attributes'][0]"
   ]
  },
  {
   "cell_type": "code",
   "execution_count": 4,
   "metadata": {
    "collapsed": false,
    "scrolled": true
   },
   "outputs": [
    {
     "data": {
      "text/html": [
       "<div>\n",
       "<table border=\"1\" class=\"dataframe\">\n",
       "  <thead>\n",
       "    <tr style=\"text-align: right;\">\n",
       "      <th></th>\n",
       "      <th>address</th>\n",
       "      <th>attributes</th>\n",
       "      <th>business_id</th>\n",
       "      <th>categories</th>\n",
       "      <th>city</th>\n",
       "      <th>hours</th>\n",
       "      <th>is_open</th>\n",
       "      <th>latitude</th>\n",
       "      <th>longitude</th>\n",
       "      <th>name</th>\n",
       "      <th>neighborhood</th>\n",
       "      <th>postal_code</th>\n",
       "      <th>review_count</th>\n",
       "      <th>stars</th>\n",
       "      <th>state</th>\n",
       "      <th>type</th>\n",
       "    </tr>\n",
       "  </thead>\n",
       "  <tbody>\n",
       "    <tr>\n",
       "      <th>0</th>\n",
       "      <td>227 E Baseline Rd, Ste J2</td>\n",
       "      <td>{BikeParking: true, BusinessAcceptsBitcoin: fa...</td>\n",
       "      <td>0DI8Dt2PJp07XkVvIElIcQ</td>\n",
       "      <td>[Tobacco Shops, Nightlife, Vape Shops, Shopping]</td>\n",
       "      <td>Tempe</td>\n",
       "      <td>[Monday 11:0-21:0, Tuesday 11:0-21:0, Wednesda...</td>\n",
       "      <td>0</td>\n",
       "      <td>33.378214</td>\n",
       "      <td>-111.936102</td>\n",
       "      <td>Innovative Vapors</td>\n",
       "      <td>NaN</td>\n",
       "      <td>85283.0</td>\n",
       "      <td>17</td>\n",
       "      <td>4.5</td>\n",
       "      <td>AZ</td>\n",
       "      <td>business</td>\n",
       "    </tr>\n",
       "    <tr>\n",
       "      <th>1</th>\n",
       "      <td>495 S Grand Central Pkwy</td>\n",
       "      <td>{BusinessAcceptsBitcoin: false, BusinessAccept...</td>\n",
       "      <td>LTlCaCGZE14GuaUXUGbamg</td>\n",
       "      <td>[Caterers, Grocery, Food, Event Planning &amp; Ser...</td>\n",
       "      <td>Las Vegas</td>\n",
       "      <td>[Monday 0:0-0:0, Tuesday 0:0-0:0, Wednesday 0:...</td>\n",
       "      <td>1</td>\n",
       "      <td>36.192284</td>\n",
       "      <td>-115.159272</td>\n",
       "      <td>Cut and Taste</td>\n",
       "      <td>NaN</td>\n",
       "      <td>89106.0</td>\n",
       "      <td>9</td>\n",
       "      <td>5.0</td>\n",
       "      <td>NV</td>\n",
       "      <td>business</td>\n",
       "    </tr>\n",
       "  </tbody>\n",
       "</table>\n",
       "</div>"
      ],
      "text/plain": [
       "                     address  \\\n",
       "0  227 E Baseline Rd, Ste J2   \n",
       "1   495 S Grand Central Pkwy   \n",
       "\n",
       "                                          attributes             business_id  \\\n",
       "0  {BikeParking: true, BusinessAcceptsBitcoin: fa...  0DI8Dt2PJp07XkVvIElIcQ   \n",
       "1  {BusinessAcceptsBitcoin: false, BusinessAccept...  LTlCaCGZE14GuaUXUGbamg   \n",
       "\n",
       "                                          categories       city  \\\n",
       "0   [Tobacco Shops, Nightlife, Vape Shops, Shopping]      Tempe   \n",
       "1  [Caterers, Grocery, Food, Event Planning & Ser...  Las Vegas   \n",
       "\n",
       "                                               hours  is_open   latitude  \\\n",
       "0  [Monday 11:0-21:0, Tuesday 11:0-21:0, Wednesda...        0  33.378214   \n",
       "1  [Monday 0:0-0:0, Tuesday 0:0-0:0, Wednesday 0:...        1  36.192284   \n",
       "\n",
       "    longitude               name neighborhood  postal_code  review_count  \\\n",
       "0 -111.936102  Innovative Vapors          NaN      85283.0            17   \n",
       "1 -115.159272      Cut and Taste          NaN      89106.0             9   \n",
       "\n",
       "   stars state      type  \n",
       "0    4.5    AZ  business  \n",
       "1    5.0    NV  business  "
      ]
     },
     "execution_count": 4,
     "metadata": {},
     "output_type": "execute_result"
    }
   ],
   "source": [
    "# Cleaning business with Dave's tips\n",
    "\n",
    "business['attributes'] = business['attributes'].fillna('[]')\n",
    "business['attributes'] = business['attributes'].map(lambda x: x.replace('[','{'))\n",
    "business['attributes'] = business['attributes'].map(lambda x: x.replace(']','}'))\n",
    "business['attributes'] = business['attributes'].map(lambda x: x.replace('True', 'true'))\n",
    "business['attributes'] = business['attributes'].map(lambda x: x.replace('False', 'false'))\n",
    "business['attributes'] = business['attributes'].map(lambda x: x.replace('\\'', '\"'))\n",
    "\n",
    "business.head(2)"
   ]
  },
  {
   "cell_type": "code",
   "execution_count": 5,
   "metadata": {
    "collapsed": false
   },
   "outputs": [],
   "source": [
    "# Function to make python understand business['attributes'] is a json-type dict\n",
    "\n",
    "def regex_match(test_str):\n",
    "\n",
    "    matches = re.findall(\"([A-Za-z0-9]+)(?=:)\", test_str)\n",
    "\n",
    "    if len(matches):\n",
    "        for match in matches:\n",
    "            test_str = test_str.replace(match, '\"%s\"' % match)\n",
    "    \n",
    "    return test_str"
   ]
  },
  {
   "cell_type": "code",
   "execution_count": 6,
   "metadata": {
    "collapsed": true
   },
   "outputs": [],
   "source": [
    "business['attributes'] = business['attributes'].map(regex_match)"
   ]
  },
  {
   "cell_type": "code",
   "execution_count": 86,
   "metadata": {
    "collapsed": false
   },
   "outputs": [
    {
     "data": {
      "text/plain": [
       "unicode"
      ]
     },
     "execution_count": 86,
     "metadata": {},
     "output_type": "execute_result"
    }
   ],
   "source": [
    "type(business['attributes'][0])"
   ]
  },
  {
   "cell_type": "code",
   "execution_count": 98,
   "metadata": {
    "collapsed": false
   },
   "outputs": [
    {
     "data": {
      "text/plain": [
       "'{\"BikeParking\": true, \"BusinessAcceptsBitcoin\": false, \"BusinessAcceptsCreditCards\": true, \"BusinessParking\": {\"garage\": false, \"street\": false, \"validated\": false, \"lot\": true, \"valet\": false}, \"DogsAllowed\": false, \"RestaurantsPriceRange2\": 2, \"WheelchairAccessible\": true}'"
      ]
     },
     "execution_count": 98,
     "metadata": {},
     "output_type": "execute_result"
    }
   ],
   "source": [
    "business['attributes'][0]"
   ]
  },
  {
   "cell_type": "code",
   "execution_count": 110,
   "metadata": {
    "collapsed": false
   },
   "outputs": [
    {
     "name": "stdout",
     "output_type": "stream",
     "text": [
      "DogsAllowed <type 'bool'>\n",
      "BusinessParking <type 'dict'>\n",
      "BusinessAcceptsCreditCards <type 'bool'>\n",
      "RestaurantsPriceRange2 <type 'int'>\n",
      "BusinessAcceptsBitcoin <type 'bool'>\n",
      "BikeParking <type 'bool'>\n",
      "WheelchairAccessible <type 'bool'>\n",
      "DogsAllowed <type 'bool'>\n",
      "BusinessParking <type 'dict'>\n",
      "BusinessAcceptsCreditCards <type 'bool'>\n",
      "RestaurantsPriceRange2 <type 'int'>\n",
      "BusinessAcceptsBitcoin <type 'bool'>\n",
      "BikeParking <type 'bool'>\n",
      "WheelchairAccessible <type 'bool'>\n",
      "BusinessAcceptsCreditCards <type 'bool'>\n",
      "BusinessAcceptsBitcoin <type 'bool'>\n",
      "BusinessParking <type 'dict'>\n",
      "HairSpecializesIn <type 'dict'>\n",
      "BusinessAcceptsCreditCards <type 'bool'>\n",
      "RestaurantsPriceRange2 <type 'int'>\n",
      "AcceptsInsurance <type 'bool'>\n",
      "ByAppointmentOnly <type 'bool'>\n",
      "BusinessAcceptsCreditCards <type 'bool'>\n",
      "RestaurantsPriceRange2 <type 'int'>\n",
      "BusinessParking <type 'dict'>\n",
      "BikeParking <type 'bool'>\n",
      "WheelchairAccessible <type 'bool'>\n",
      "could not decode: {\"Alcohol\": none, \"Ambience\": {\"romantic\": false, \"intimate\": false, \"classy\": false, \"hipster\": false, \"divey\": false, \"touristy\": false, \"trendy\": false, \"upscale\": false, \"casual\": false}, \"BikeParking\": true, \"BusinessAcceptsCreditCards\": true, \"BusinessParking\": {\"garage\": false, \"street\": false, \"validated\": false, \"lot\": false, \"valet\": false}, \"DriveThru\": true, \"GoodForKids\": true, \"GoodForMeal\": {\"dessert\": false, \"latenight\": false, \"lunch\": false, \"dinner\": false, \"breakfast\": false, \"brunch\": false}, \"HasTV\": false, \"NoiseLevel\": quiet, \"OutdoorSeating\": false, \"RestaurantsAttire\": casual, \"RestaurantsDelivery\": false, \"RestaurantsGoodForGroups\": true, \"RestaurantsPriceRange2\": 1, \"RestaurantsReservations\": false, \"RestaurantsTableService\": false, \"RestaurantsTakeOut\": true, \"WiFi\": no}\n",
      "BusinessAcceptsCreditCards <type 'bool'>\n",
      "could not decode: {\"Alcohol\": none, \"Ambience\": {\"romantic\": false, \"intimate\": false, \"classy\": false, \"hipster\": false, \"divey\": false, \"touristy\": false, \"trendy\": false, \"upscale\": false, \"casual\": true}, \"BusinessAcceptsCreditCards\": true, \"BusinessParking\": {\"garage\": false, \"street\": false, \"validated\": false, \"lot\": true, \"valet\": false}, \"Caters\": true, \"GoodForKids\": true, \"GoodForMeal\": {\"dessert\": false, \"latenight\": false, \"lunch\": true, \"dinner\": true, \"breakfast\": false, \"brunch\": false}, \"HasTV\": true, \"NoiseLevel\": quiet, \"OutdoorSeating\": false, \"RestaurantsAttire\": casual, \"RestaurantsDelivery\": false, \"RestaurantsGoodForGroups\": true, \"RestaurantsPriceRange2\": 1, \"RestaurantsReservations\": false, \"RestaurantsTableService\": false, \"RestaurantsTakeOut\": true, \"WiFi\": no}\n",
      "ByAppointmentOnly <type 'bool'>\n"
     ]
    },
    {
     "data": {
      "text/plain": [
       "Index([u'address', u'attribute_AcceptsInsurance', u'attribute_BikeParking',\n",
       "       u'attribute_BusinessAcceptsBitcoin',\n",
       "       u'attribute_BusinessAcceptsCreditCards',\n",
       "       u'attribute_BusinessParking_garage', u'attribute_BusinessParking_lot',\n",
       "       u'attribute_BusinessParking_street', u'attribute_BusinessParking_valet',\n",
       "       u'attribute_BusinessParking_validated', u'attribute_ByAppointmentOnly',\n",
       "       u'attribute_DogsAllowed',\n",
       "       u'attribute_HairSpecializesIn_africanamerican',\n",
       "       u'attribute_HairSpecializesIn_asian',\n",
       "       u'attribute_HairSpecializesIn_coloring',\n",
       "       u'attribute_HairSpecializesIn_curly',\n",
       "       u'attribute_HairSpecializesIn_extensions',\n",
       "       u'attribute_HairSpecializesIn_kids',\n",
       "       u'attribute_HairSpecializesIn_perms',\n",
       "       u'attribute_HairSpecializesIn_straightperms',\n",
       "       u'attribute_RestaurantsPriceRange2', u'attribute_WheelchairAccessible',\n",
       "       u'attributes', u'business_id', u'categories', u'city', u'hours',\n",
       "       u'is_open', u'latitude', u'longitude', u'name', u'neighborhood',\n",
       "       u'postal_code', u'review_count', u'stars', u'state', u'type'],\n",
       "      dtype='object')"
      ]
     },
     "execution_count": 110,
     "metadata": {},
     "output_type": "execute_result"
    }
   ],
   "source": [
    "def expand_features(row):\n",
    "    try:\n",
    "        extracted = json.loads(row['attributes'])\n",
    "        for key, value in extracted.items():\n",
    "            print key, type(value)\n",
    "            if type(value) != dict:\n",
    "                row[\"attribute_\" + key] = value\n",
    "            else:\n",
    "                for attr_key, attr_value in value.items():\n",
    "                    row[\"attribute_\" + key + \"_\" + attr_key] = attr_value\n",
    "    except:\n",
    "        print \"could not decode:\", row['attributes']\n",
    "    \n",
    "    return row\n",
    "\n",
    "business.head(10).apply(expand_features, axis=1).columns"
   ]
  },
  {
   "cell_type": "code",
   "execution_count": 96,
   "metadata": {
    "collapsed": false
   },
   "outputs": [
    {
     "ename": "ValueError",
     "evalue": "No JSON object could be decoded",
     "output_type": "error",
     "traceback": [
      "\u001b[0;31m---------------------------------------------------------------------------\u001b[0m",
      "\u001b[0;31mValueError\u001b[0m                                Traceback (most recent call last)",
      "\u001b[0;32m<ipython-input-96-443f4a080afe>\u001b[0m in \u001b[0;36m<module>\u001b[0;34m()\u001b[0m\n\u001b[0;32m----> 1\u001b[0;31m \u001b[0mbusiness\u001b[0m\u001b[0;34m[\u001b[0m\u001b[0;34m'attributes'\u001b[0m\u001b[0;34m]\u001b[0m \u001b[0;34m=\u001b[0m \u001b[0mbusiness\u001b[0m\u001b[0;34m[\u001b[0m\u001b[0;34m'attributes'\u001b[0m\u001b[0;34m]\u001b[0m\u001b[0;34m.\u001b[0m\u001b[0mmap\u001b[0m\u001b[0;34m(\u001b[0m\u001b[0;32mlambda\u001b[0m \u001b[0mx\u001b[0m\u001b[0;34m:\u001b[0m \u001b[0mjson\u001b[0m\u001b[0;34m.\u001b[0m\u001b[0mloads\u001b[0m\u001b[0;34m(\u001b[0m\u001b[0mx\u001b[0m\u001b[0;34m.\u001b[0m\u001b[0mencode\u001b[0m\u001b[0;34m(\u001b[0m\u001b[0;34m'utf-8'\u001b[0m\u001b[0;34m)\u001b[0m\u001b[0;34m)\u001b[0m\u001b[0;34m)\u001b[0m\u001b[0;34m\u001b[0m\u001b[0m\n\u001b[0m",
      "\u001b[0;32m/home/amlanlimaye/anaconda2/lib/python2.7/site-packages/pandas/core/series.pyc\u001b[0m in \u001b[0;36mmap\u001b[0;34m(self, arg, na_action)\u001b[0m\n\u001b[1;32m   2175\u001b[0m             \u001b[0mnew_values\u001b[0m \u001b[0;34m=\u001b[0m \u001b[0malgos\u001b[0m\u001b[0;34m.\u001b[0m\u001b[0mtake_1d\u001b[0m\u001b[0;34m(\u001b[0m\u001b[0marg\u001b[0m\u001b[0;34m.\u001b[0m\u001b[0m_values\u001b[0m\u001b[0;34m,\u001b[0m \u001b[0mindexer\u001b[0m\u001b[0;34m)\u001b[0m\u001b[0;34m\u001b[0m\u001b[0m\n\u001b[1;32m   2176\u001b[0m         \u001b[0;32melse\u001b[0m\u001b[0;34m:\u001b[0m\u001b[0;34m\u001b[0m\u001b[0m\n\u001b[0;32m-> 2177\u001b[0;31m             \u001b[0mnew_values\u001b[0m \u001b[0;34m=\u001b[0m \u001b[0mmap_f\u001b[0m\u001b[0;34m(\u001b[0m\u001b[0mvalues\u001b[0m\u001b[0;34m,\u001b[0m \u001b[0marg\u001b[0m\u001b[0;34m)\u001b[0m\u001b[0;34m\u001b[0m\u001b[0m\n\u001b[0m\u001b[1;32m   2178\u001b[0m \u001b[0;34m\u001b[0m\u001b[0m\n\u001b[1;32m   2179\u001b[0m         return self._constructor(new_values,\n",
      "\u001b[0;32mpandas/src/inference.pyx\u001b[0m in \u001b[0;36mpandas.lib.map_infer (pandas/lib.c:66124)\u001b[0;34m()\u001b[0m\n",
      "\u001b[0;32m<ipython-input-96-443f4a080afe>\u001b[0m in \u001b[0;36m<lambda>\u001b[0;34m(x)\u001b[0m\n\u001b[0;32m----> 1\u001b[0;31m \u001b[0mbusiness\u001b[0m\u001b[0;34m[\u001b[0m\u001b[0;34m'attributes'\u001b[0m\u001b[0;34m]\u001b[0m \u001b[0;34m=\u001b[0m \u001b[0mbusiness\u001b[0m\u001b[0;34m[\u001b[0m\u001b[0;34m'attributes'\u001b[0m\u001b[0;34m]\u001b[0m\u001b[0;34m.\u001b[0m\u001b[0mmap\u001b[0m\u001b[0;34m(\u001b[0m\u001b[0;32mlambda\u001b[0m \u001b[0mx\u001b[0m\u001b[0;34m:\u001b[0m \u001b[0mjson\u001b[0m\u001b[0;34m.\u001b[0m\u001b[0mloads\u001b[0m\u001b[0;34m(\u001b[0m\u001b[0mx\u001b[0m\u001b[0;34m.\u001b[0m\u001b[0mencode\u001b[0m\u001b[0;34m(\u001b[0m\u001b[0;34m'utf-8'\u001b[0m\u001b[0;34m)\u001b[0m\u001b[0;34m)\u001b[0m\u001b[0;34m)\u001b[0m\u001b[0;34m\u001b[0m\u001b[0m\n\u001b[0m",
      "\u001b[0;32m/home/amlanlimaye/anaconda2/lib/python2.7/json/__init__.pyc\u001b[0m in \u001b[0;36mloads\u001b[0;34m(s, encoding, cls, object_hook, parse_float, parse_int, parse_constant, object_pairs_hook, **kw)\u001b[0m\n\u001b[1;32m    337\u001b[0m             \u001b[0mparse_int\u001b[0m \u001b[0;32mis\u001b[0m \u001b[0mNone\u001b[0m \u001b[0;32mand\u001b[0m \u001b[0mparse_float\u001b[0m \u001b[0;32mis\u001b[0m \u001b[0mNone\u001b[0m \u001b[0;32mand\u001b[0m\u001b[0;34m\u001b[0m\u001b[0m\n\u001b[1;32m    338\u001b[0m             parse_constant is None and object_pairs_hook is None and not kw):\n\u001b[0;32m--> 339\u001b[0;31m         \u001b[0;32mreturn\u001b[0m \u001b[0m_default_decoder\u001b[0m\u001b[0;34m.\u001b[0m\u001b[0mdecode\u001b[0m\u001b[0;34m(\u001b[0m\u001b[0ms\u001b[0m\u001b[0;34m)\u001b[0m\u001b[0;34m\u001b[0m\u001b[0m\n\u001b[0m\u001b[1;32m    340\u001b[0m     \u001b[0;32mif\u001b[0m \u001b[0mcls\u001b[0m \u001b[0;32mis\u001b[0m \u001b[0mNone\u001b[0m\u001b[0;34m:\u001b[0m\u001b[0;34m\u001b[0m\u001b[0m\n\u001b[1;32m    341\u001b[0m         \u001b[0mcls\u001b[0m \u001b[0;34m=\u001b[0m \u001b[0mJSONDecoder\u001b[0m\u001b[0;34m\u001b[0m\u001b[0m\n",
      "\u001b[0;32m/home/amlanlimaye/anaconda2/lib/python2.7/json/decoder.pyc\u001b[0m in \u001b[0;36mdecode\u001b[0;34m(self, s, _w)\u001b[0m\n\u001b[1;32m    362\u001b[0m \u001b[0;34m\u001b[0m\u001b[0m\n\u001b[1;32m    363\u001b[0m         \"\"\"\n\u001b[0;32m--> 364\u001b[0;31m         \u001b[0mobj\u001b[0m\u001b[0;34m,\u001b[0m \u001b[0mend\u001b[0m \u001b[0;34m=\u001b[0m \u001b[0mself\u001b[0m\u001b[0;34m.\u001b[0m\u001b[0mraw_decode\u001b[0m\u001b[0;34m(\u001b[0m\u001b[0ms\u001b[0m\u001b[0;34m,\u001b[0m \u001b[0midx\u001b[0m\u001b[0;34m=\u001b[0m\u001b[0m_w\u001b[0m\u001b[0;34m(\u001b[0m\u001b[0ms\u001b[0m\u001b[0;34m,\u001b[0m \u001b[0;36m0\u001b[0m\u001b[0;34m)\u001b[0m\u001b[0;34m.\u001b[0m\u001b[0mend\u001b[0m\u001b[0;34m(\u001b[0m\u001b[0;34m)\u001b[0m\u001b[0;34m)\u001b[0m\u001b[0;34m\u001b[0m\u001b[0m\n\u001b[0m\u001b[1;32m    365\u001b[0m         \u001b[0mend\u001b[0m \u001b[0;34m=\u001b[0m \u001b[0m_w\u001b[0m\u001b[0;34m(\u001b[0m\u001b[0ms\u001b[0m\u001b[0;34m,\u001b[0m \u001b[0mend\u001b[0m\u001b[0;34m)\u001b[0m\u001b[0;34m.\u001b[0m\u001b[0mend\u001b[0m\u001b[0;34m(\u001b[0m\u001b[0;34m)\u001b[0m\u001b[0;34m\u001b[0m\u001b[0m\n\u001b[1;32m    366\u001b[0m         \u001b[0;32mif\u001b[0m \u001b[0mend\u001b[0m \u001b[0;34m!=\u001b[0m \u001b[0mlen\u001b[0m\u001b[0;34m(\u001b[0m\u001b[0ms\u001b[0m\u001b[0;34m)\u001b[0m\u001b[0;34m:\u001b[0m\u001b[0;34m\u001b[0m\u001b[0m\n",
      "\u001b[0;32m/home/amlanlimaye/anaconda2/lib/python2.7/json/decoder.pyc\u001b[0m in \u001b[0;36mraw_decode\u001b[0;34m(self, s, idx)\u001b[0m\n\u001b[1;32m    380\u001b[0m             \u001b[0mobj\u001b[0m\u001b[0;34m,\u001b[0m \u001b[0mend\u001b[0m \u001b[0;34m=\u001b[0m \u001b[0mself\u001b[0m\u001b[0;34m.\u001b[0m\u001b[0mscan_once\u001b[0m\u001b[0;34m(\u001b[0m\u001b[0ms\u001b[0m\u001b[0;34m,\u001b[0m \u001b[0midx\u001b[0m\u001b[0;34m)\u001b[0m\u001b[0;34m\u001b[0m\u001b[0m\n\u001b[1;32m    381\u001b[0m         \u001b[0;32mexcept\u001b[0m \u001b[0mStopIteration\u001b[0m\u001b[0;34m:\u001b[0m\u001b[0;34m\u001b[0m\u001b[0m\n\u001b[0;32m--> 382\u001b[0;31m             \u001b[0;32mraise\u001b[0m \u001b[0mValueError\u001b[0m\u001b[0;34m(\u001b[0m\u001b[0;34m\"No JSON object could be decoded\"\u001b[0m\u001b[0;34m)\u001b[0m\u001b[0;34m\u001b[0m\u001b[0m\n\u001b[0m\u001b[1;32m    383\u001b[0m         \u001b[0;32mreturn\u001b[0m \u001b[0mobj\u001b[0m\u001b[0;34m,\u001b[0m \u001b[0mend\u001b[0m\u001b[0;34m\u001b[0m\u001b[0m\n",
      "\u001b[0;31mValueError\u001b[0m: No JSON object could be decoded"
     ]
    }
   ],
   "source": [
    "business['attributes'] = business['attributes'].map(json.)"
   ]
  },
  {
   "cell_type": "code",
   "execution_count": 7,
   "metadata": {
    "collapsed": false
   },
   "outputs": [],
   "source": [
    "# Cleaning 'categories' column\n",
    "\n",
    "business['categories'] = business['categories'].fillna(' ')\n",
    "business['categories'] = business['categories'].map(lambda x: x[1:-1].split(','))"
   ]
  },
  {
   "cell_type": "code",
   "execution_count": 8,
   "metadata": {
    "collapsed": true
   },
   "outputs": [],
   "source": [
    "# Cleaning 'hours' column\n",
    "\n",
    "business['hours'] = business['hours'].fillna(' ')\n",
    "business['hours'] = business['hours'].map(lambda x: x[1:-1].split(','))"
   ]
  },
  {
   "cell_type": "code",
   "execution_count": 9,
   "metadata": {
    "collapsed": true
   },
   "outputs": [],
   "source": [
    "# Cleaning 'neighborhoods' column\n",
    "\n",
    "business['neighborhood'] = business['neighborhood'].fillna(' ')\n",
    "business['neighborhood'] = business['neighborhood'].map(lambda x: x[1:-1].split(','))"
   ]
  },
  {
   "cell_type": "code",
   "execution_count": 10,
   "metadata": {
    "collapsed": false
   },
   "outputs": [
    {
     "ename": "TypeError",
     "evalue": "'float' object has no attribute '__getitem__'",
     "output_type": "error",
     "traceback": [
      "\u001b[0;31m---------------------------------------------------------------------------\u001b[0m",
      "\u001b[0;31mTypeError\u001b[0m                                 Traceback (most recent call last)",
      "\u001b[0;32m<ipython-input-10-2cf7e52127ab>\u001b[0m in \u001b[0;36m<module>\u001b[0;34m()\u001b[0m\n\u001b[1;32m      1\u001b[0m \u001b[0;31m# Cleaning 'postal_code' column\u001b[0m\u001b[0;34m\u001b[0m\u001b[0;34m\u001b[0m\u001b[0m\n\u001b[1;32m      2\u001b[0m \u001b[0;34m\u001b[0m\u001b[0m\n\u001b[0;32m----> 3\u001b[0;31m \u001b[0mbusiness\u001b[0m\u001b[0;34m[\u001b[0m\u001b[0;34m'postal_code'\u001b[0m\u001b[0;34m]\u001b[0m \u001b[0;34m=\u001b[0m \u001b[0mbusiness\u001b[0m\u001b[0;34m[\u001b[0m\u001b[0;34m'postal_code'\u001b[0m\u001b[0;34m]\u001b[0m\u001b[0;34m.\u001b[0m\u001b[0mmap\u001b[0m\u001b[0;34m(\u001b[0m\u001b[0;32mlambda\u001b[0m \u001b[0mx\u001b[0m\u001b[0;34m:\u001b[0m \u001b[0mx\u001b[0m\u001b[0;34m[\u001b[0m\u001b[0;34m:\u001b[0m\u001b[0;34m-\u001b[0m\u001b[0;36m2\u001b[0m\u001b[0;34m]\u001b[0m\u001b[0;34m)\u001b[0m\u001b[0;34m\u001b[0m\u001b[0m\n\u001b[0m",
      "\u001b[0;32m/home/amlanlimaye/anaconda2/lib/python2.7/site-packages/pandas/core/series.pyc\u001b[0m in \u001b[0;36mmap\u001b[0;34m(self, arg, na_action)\u001b[0m\n\u001b[1;32m   2175\u001b[0m             \u001b[0mnew_values\u001b[0m \u001b[0;34m=\u001b[0m \u001b[0malgos\u001b[0m\u001b[0;34m.\u001b[0m\u001b[0mtake_1d\u001b[0m\u001b[0;34m(\u001b[0m\u001b[0marg\u001b[0m\u001b[0;34m.\u001b[0m\u001b[0m_values\u001b[0m\u001b[0;34m,\u001b[0m \u001b[0mindexer\u001b[0m\u001b[0;34m)\u001b[0m\u001b[0;34m\u001b[0m\u001b[0m\n\u001b[1;32m   2176\u001b[0m         \u001b[0;32melse\u001b[0m\u001b[0;34m:\u001b[0m\u001b[0;34m\u001b[0m\u001b[0m\n\u001b[0;32m-> 2177\u001b[0;31m             \u001b[0mnew_values\u001b[0m \u001b[0;34m=\u001b[0m \u001b[0mmap_f\u001b[0m\u001b[0;34m(\u001b[0m\u001b[0mvalues\u001b[0m\u001b[0;34m,\u001b[0m \u001b[0marg\u001b[0m\u001b[0;34m)\u001b[0m\u001b[0;34m\u001b[0m\u001b[0m\n\u001b[0m\u001b[1;32m   2178\u001b[0m \u001b[0;34m\u001b[0m\u001b[0m\n\u001b[1;32m   2179\u001b[0m         return self._constructor(new_values,\n",
      "\u001b[0;32mpandas/src/inference.pyx\u001b[0m in \u001b[0;36mpandas.lib.map_infer (pandas/lib.c:66124)\u001b[0;34m()\u001b[0m\n",
      "\u001b[0;32m<ipython-input-10-2cf7e52127ab>\u001b[0m in \u001b[0;36m<lambda>\u001b[0;34m(x)\u001b[0m\n\u001b[1;32m      1\u001b[0m \u001b[0;31m# Cleaning 'postal_code' column\u001b[0m\u001b[0;34m\u001b[0m\u001b[0;34m\u001b[0m\u001b[0m\n\u001b[1;32m      2\u001b[0m \u001b[0;34m\u001b[0m\u001b[0m\n\u001b[0;32m----> 3\u001b[0;31m \u001b[0mbusiness\u001b[0m\u001b[0;34m[\u001b[0m\u001b[0;34m'postal_code'\u001b[0m\u001b[0;34m]\u001b[0m \u001b[0;34m=\u001b[0m \u001b[0mbusiness\u001b[0m\u001b[0;34m[\u001b[0m\u001b[0;34m'postal_code'\u001b[0m\u001b[0;34m]\u001b[0m\u001b[0;34m.\u001b[0m\u001b[0mmap\u001b[0m\u001b[0;34m(\u001b[0m\u001b[0;32mlambda\u001b[0m \u001b[0mx\u001b[0m\u001b[0;34m:\u001b[0m \u001b[0mx\u001b[0m\u001b[0;34m[\u001b[0m\u001b[0;34m:\u001b[0m\u001b[0;34m-\u001b[0m\u001b[0;36m2\u001b[0m\u001b[0;34m]\u001b[0m\u001b[0;34m)\u001b[0m\u001b[0;34m\u001b[0m\u001b[0m\n\u001b[0m",
      "\u001b[0;31mTypeError\u001b[0m: 'float' object has no attribute '__getitem__'"
     ]
    }
   ],
   "source": [
    "# Cleaning 'postal_code' column\n",
    "\n",
    "business['postal_code'] = business['postal_code'].map(lambda x: x[:-2])"
   ]
  },
  {
   "cell_type": "code",
   "execution_count": null,
   "metadata": {
    "collapsed": true
   },
   "outputs": [],
   "source": [
    "# Writing clean 'business' dataframe to csv\n",
    "\n",
    "business.to_csv('../../../data/interim/clean_US_cities/business.csv', encoding='utf-8', index=False)"
   ]
  }
 ],
 "metadata": {
  "anaconda-cloud": {},
  "kernelspec": {
   "display_name": "Python [conda root]",
   "language": "python",
   "name": "conda-root-py"
  },
  "language_info": {
   "codemirror_mode": {
    "name": "ipython",
    "version": 2
   },
   "file_extension": ".py",
   "mimetype": "text/x-python",
   "name": "python",
   "nbconvert_exporter": "python",
   "pygments_lexer": "ipython2",
   "version": "2.7.12"
  }
 },
 "nbformat": 4,
 "nbformat_minor": 1
}
